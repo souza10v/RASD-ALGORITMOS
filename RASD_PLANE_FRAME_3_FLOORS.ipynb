{
 "cells": [
  {
   "cell_type": "code",
   "execution_count": null,
   "metadata": {
    "scrolled": true
   },
   "outputs": [],
   "source": [
    "# Instalando as bibliotecas e atualizando \n",
    "!pip install pyDOE\n",
    "!pip install -U seaborn\n",
    "# Import MEF 1D Algorithm\n",
    "!pip install -i https://test.pypi.org/simple/ FINITO-FEM-TOOLBOX\n"
   ]
  },
  {
   "cell_type": "code",
   "execution_count": 30,
   "metadata": {},
   "outputs": [],
   "source": [
    "from FINITO_FEM_TOOLBOX import MEF1D\n",
    "from RASD_TOOLBOX import *\n",
    "import numpy as np\n",
    "import pandas as pd"
   ]
  },
  {
   "cell_type": "code",
   "execution_count": 49,
   "metadata": {},
   "outputs": [],
   "source": [
    "P1 = ['NORMAL', 10000, 1000]\n",
    "P2 = ['NORMAL', 120000, 4000]\n",
    "POP = [100]\n",
    "\n",
    "SETUP = {'N_REP': len(POP),\n",
    "        'POP': POP,\n",
    "        'N_G': 1,\n",
    "        'D': 2,\n",
    "        'VARS': [P1, P2],\n",
    "        'MODEL': 'MCS'}"
   ]
  },
  {
   "cell_type": "code",
   "execution_count": 50,
   "metadata": {},
   "outputs": [],
   "source": [
    "def OBJ(X):\n",
    "    P1 = X[0]\n",
    "    P2 = X[1]\n",
    "\n",
    "    FRAME_00 = {\n",
    "    \"TYPE_ELEMENT\": 0,\n",
    "    \"TYPE_SOLUTION\": 0,\n",
    "    \"N_NODES\": 26,\n",
    "    \"N_MATERIALS\": 1,\n",
    "    \"N_SECTIONS\": 1,\n",
    "    \"N_ELEMENTS\": 27,\n",
    "    \"N_DOFPRESCRIPTIONS\": 6,\n",
    "    \"N_DOFLOADED\": 24,\n",
    "    \"N_DOFSPRINGS\": 0,\n",
    "    \"COORDINATES\": #X,Y\n",
    "    np.array([\n",
    "    [0.0,0.0],\n",
    "    [5.25,0.0],\n",
    "    [0.0,3.0],\n",
    "    [0.75,3.0],\n",
    "    [1.5,3.0],\n",
    "    [2.25,3.0],\n",
    "    [3.0,3.0],\n",
    "    [3.75,3.0],\n",
    "    [4.5,3.0],\n",
    "    [5.25,3.0],\n",
    "    [0.0,6.0],\n",
    "    [0.75,6.0],\n",
    "    [1.5,6.0],\n",
    "    [2.25,6.0],\n",
    "    [3.0,6.0],\n",
    "    [3.75,6.0],\n",
    "    [4.5,6.0],\n",
    "    [5.25,6.0],\n",
    "    [0.0,9.0],\n",
    "    [0.75,9.0],\n",
    "    [1.5,9.0],\n",
    "    [2.25,9.0],\n",
    "    [3.0,9.0],\n",
    "    [3.75,9.0],\n",
    "    [4.5,9.0],\n",
    "    [5.25,9.0]]),\n",
    "\n",
    "    \"ELEMENTS\": #NODE 1,NODE 2,MATERIAL ID,SECTION ID,HINGE ID NODE 1,HINGE ID NODE 2\n",
    "    np.array([\n",
    "    [0,2,0,0,0,0],\n",
    "    [1,9,0,0,0,0],\n",
    "    [2,3,0,0,0,0],\n",
    "    [3,4,0,0,0,0],\n",
    "    [4,5,0,0,0,0],\n",
    "    [5,6,0,0,0,0],\n",
    "    [6,7,0,0,0,0],\n",
    "    [7,8,0,0,0,0],\n",
    "    [8,9,0,0,0,0],\n",
    "    [2,10,0,0,0,0],\n",
    "    [9,17,0,0,0,0],\n",
    "    [10,11,0,0,0,0],\n",
    "    [11,12,0,0,0,0],\n",
    "    [12,13,0,0,0,0],\n",
    "    [13,14,0,0,0,0],\n",
    "    [14,15,0,0,0,0],\n",
    "    [15,16,0,0,0,0],\n",
    "    [16,17,0,0,0,0],\n",
    "    [10,18,0,0,0,0],\n",
    "    [17,25,0,0,0,0],\n",
    "    [18,19,0,0,0,0],\n",
    "    [19,20,0,0,0,0],\n",
    "    [20,21,0,0,0,0],\n",
    "    [21,22,0,0,0,0],\n",
    "    [22,23,0,0,0,0],\n",
    "    [23,24,0,0,0,0],\n",
    "    [24,25,0,0,0,0]]),\n",
    "\n",
    "    \"MATERIALS\": #YOUNG,POISSON,DENSITY,THERMAL COEFFICIENT\n",
    "    np.array([[200E9, 0.30,1,1E-8]]),\n",
    "    \"SECTIONS\": #AREA,INERTIA 1,INERTIA 2,X GC,Y GC\n",
    "    np.array([[0.0450,0.000377,0.000377,0.075,0.15]]),\n",
    "    \"PRESCRIBED DISPLACEMENTS\": #NODE,DIRECTION(X=0,Y=1,Z=2),VALUE\n",
    "    np.array([[0,0,0],\n",
    "    [0,1,0],\n",
    "    [0,2,0],\n",
    "    [1,0,0],\n",
    "    [1,1,0],\n",
    "    [1,2,0]]),\n",
    "    \"ELEMENT LOADS\": None,\n",
    "    \"NODAL LOADS\":  #NODE,DIRECTION(X=0,Y=1,Z=2),VALUE\n",
    "    np.array([\n",
    "    [2,1,-P1,0],\n",
    "    [3,1,-P1,0],\n",
    "    [4,1,-P1,0],\n",
    "    [5,1,-P1,0],\n",
    "    [6,1,-P1,0],\n",
    "    [7,1,-P1,0],\n",
    "    [8,1,-P1,0],\n",
    "    [9,1,-P1,0],\n",
    "    [10,1,-P1,0],\n",
    "    [11,1,-P1,0],\n",
    "    [12,1,-P1,0],\n",
    "    [13,1,-P1,0],\n",
    "    [14,1,-P1,0],\n",
    "    [15,1,-P1,0],\n",
    "    [16,1,-P1,0],\n",
    "    [17,1,-P1,0],\n",
    "    [18,1,-P1,0],\n",
    "    [19,1,-P1,0],\n",
    "    [20,1,-P1,0],\n",
    "    [21,1,-P1,0],\n",
    "    [22,1,-P1,0],\n",
    "    [23,1,-P1,0],\n",
    "    [24,1,-P1,0],\n",
    "    [25,1,-P1,0]]),\n",
    "    \"SPRINGS\": None}    \n",
    "\n",
    "    FRAME_00_RESULTS = MEF1D(DICTIONARY = FRAME_00)\n",
    "    FRAME_00_BAR_0 = FRAME_00_RESULTS[0]\n",
    "    AXIAL_FORCE_LIST_BAR_0 = FRAME_00_BAR_0['N']\n",
    "    N = AXIAL_FORCE_LIST_BAR_0[5]\n",
    "    \n",
    "    #print(FRAME_00_RESULTS)\n",
    "    #print(FRAME_00_RESULTS[0])\n",
    "    \n",
    "    S_1 = np.abs(N)\n",
    "    R_1 = P2\n",
    "    \n",
    "    # STATE LIMIT FUNCTION\n",
    "    G_0 = R_1 - S_1\n",
    "    R = [R_1] \n",
    "    S = [S_1] \n",
    "    G = [G_0]\n",
    "    return R, S, G"
   ]
  },
  {
   "cell_type": "code",
   "execution_count": 51,
   "metadata": {
    "scrolled": true
   },
   "outputs": [],
   "source": [
    "RESULTS_TEST = RASD_STOCHASTIC(SETUP, OBJ)\n",
    "DADOS = RESULTS_TEST[0]['TOTAL RESULTS']"
   ]
  },
  {
   "cell_type": "code",
   "execution_count": 52,
   "metadata": {
    "scrolled": true
   },
   "outputs": [
    {
     "data": {
      "text/html": [
       "<div>\n",
       "<style scoped>\n",
       "    .dataframe tbody tr th:only-of-type {\n",
       "        vertical-align: middle;\n",
       "    }\n",
       "\n",
       "    .dataframe tbody tr th {\n",
       "        vertical-align: top;\n",
       "    }\n",
       "\n",
       "    .dataframe thead th {\n",
       "        text-align: right;\n",
       "    }\n",
       "</style>\n",
       "<table border=\"1\" class=\"dataframe\">\n",
       "  <thead>\n",
       "    <tr style=\"text-align: right;\">\n",
       "      <th></th>\n",
       "      <th>X_0</th>\n",
       "      <th>X_1</th>\n",
       "      <th>R_0</th>\n",
       "      <th>S_0</th>\n",
       "      <th>G_0</th>\n",
       "      <th>I_0</th>\n",
       "    </tr>\n",
       "  </thead>\n",
       "  <tbody>\n",
       "    <tr>\n",
       "      <th>0</th>\n",
       "      <td>9921.691489</td>\n",
       "      <td>117213.460048</td>\n",
       "      <td>117213.460048</td>\n",
       "      <td>119052.0</td>\n",
       "      <td>-1838.539952</td>\n",
       "      <td>0.0</td>\n",
       "    </tr>\n",
       "    <tr>\n",
       "      <th>1</th>\n",
       "      <td>11338.774424</td>\n",
       "      <td>118799.099437</td>\n",
       "      <td>118799.099437</td>\n",
       "      <td>136056.0</td>\n",
       "      <td>-17256.900563</td>\n",
       "      <td>0.0</td>\n",
       "    </tr>\n",
       "    <tr>\n",
       "      <th>2</th>\n",
       "      <td>9691.185645</td>\n",
       "      <td>117813.849359</td>\n",
       "      <td>117813.849359</td>\n",
       "      <td>116292.0</td>\n",
       "      <td>1521.849359</td>\n",
       "      <td>1.0</td>\n",
       "    </tr>\n",
       "    <tr>\n",
       "      <th>3</th>\n",
       "      <td>9827.440217</td>\n",
       "      <td>125727.937855</td>\n",
       "      <td>125727.937855</td>\n",
       "      <td>117924.0</td>\n",
       "      <td>7803.937855</td>\n",
       "      <td>1.0</td>\n",
       "    </tr>\n",
       "    <tr>\n",
       "      <th>4</th>\n",
       "      <td>9074.145749</td>\n",
       "      <td>110777.397091</td>\n",
       "      <td>110777.397091</td>\n",
       "      <td>108888.0</td>\n",
       "      <td>1889.397091</td>\n",
       "      <td>1.0</td>\n",
       "    </tr>\n",
       "    <tr>\n",
       "      <th>...</th>\n",
       "      <td>...</td>\n",
       "      <td>...</td>\n",
       "      <td>...</td>\n",
       "      <td>...</td>\n",
       "      <td>...</td>\n",
       "      <td>...</td>\n",
       "    </tr>\n",
       "    <tr>\n",
       "      <th>95</th>\n",
       "      <td>9023.268489</td>\n",
       "      <td>124151.847771</td>\n",
       "      <td>124151.847771</td>\n",
       "      <td>108276.0</td>\n",
       "      <td>15875.847771</td>\n",
       "      <td>1.0</td>\n",
       "    </tr>\n",
       "    <tr>\n",
       "      <th>96</th>\n",
       "      <td>9260.068423</td>\n",
       "      <td>117829.283296</td>\n",
       "      <td>117829.283296</td>\n",
       "      <td>111120.0</td>\n",
       "      <td>6709.283296</td>\n",
       "      <td>1.0</td>\n",
       "    </tr>\n",
       "    <tr>\n",
       "      <th>97</th>\n",
       "      <td>10967.144018</td>\n",
       "      <td>118260.765496</td>\n",
       "      <td>118260.765496</td>\n",
       "      <td>131604.0</td>\n",
       "      <td>-13343.234504</td>\n",
       "      <td>0.0</td>\n",
       "    </tr>\n",
       "    <tr>\n",
       "      <th>98</th>\n",
       "      <td>10265.002539</td>\n",
       "      <td>125003.482729</td>\n",
       "      <td>125003.482729</td>\n",
       "      <td>123180.0</td>\n",
       "      <td>1823.482729</td>\n",
       "      <td>1.0</td>\n",
       "    </tr>\n",
       "    <tr>\n",
       "      <th>99</th>\n",
       "      <td>10292.231669</td>\n",
       "      <td>124078.080872</td>\n",
       "      <td>124078.080872</td>\n",
       "      <td>123504.0</td>\n",
       "      <td>574.080872</td>\n",
       "      <td>1.0</td>\n",
       "    </tr>\n",
       "  </tbody>\n",
       "</table>\n",
       "<p>100 rows × 6 columns</p>\n",
       "</div>"
      ],
      "text/plain": [
       "             X_0            X_1            R_0       S_0           G_0  I_0\n",
       "0    9921.691489  117213.460048  117213.460048  119052.0  -1838.539952  0.0\n",
       "1   11338.774424  118799.099437  118799.099437  136056.0 -17256.900563  0.0\n",
       "2    9691.185645  117813.849359  117813.849359  116292.0   1521.849359  1.0\n",
       "3    9827.440217  125727.937855  125727.937855  117924.0   7803.937855  1.0\n",
       "4    9074.145749  110777.397091  110777.397091  108888.0   1889.397091  1.0\n",
       "..           ...            ...            ...       ...           ...  ...\n",
       "95   9023.268489  124151.847771  124151.847771  108276.0  15875.847771  1.0\n",
       "96   9260.068423  117829.283296  117829.283296  111120.0   6709.283296  1.0\n",
       "97  10967.144018  118260.765496  118260.765496  131604.0 -13343.234504  0.0\n",
       "98  10265.002539  125003.482729  125003.482729  123180.0   1823.482729  1.0\n",
       "99  10292.231669  124078.080872  124078.080872  123504.0    574.080872  1.0\n",
       "\n",
       "[100 rows x 6 columns]"
      ]
     },
     "execution_count": 52,
     "metadata": {},
     "output_type": "execute_result"
    }
   ],
   "source": [
    "RESULTS_TEST[0]['TOTAL RESULTS']"
   ]
  },
  {
   "cell_type": "code",
   "execution_count": 31,
   "metadata": {},
   "outputs": [
    {
     "name": "stderr",
     "output_type": "stream",
     "text": [
      "C:\\Users\\Donizetti\\anaconda3\\lib\\site-packages\\seaborn\\_decorators.py:36: FutureWarning: Pass the following variable as a keyword arg: x. From version 0.12, the only valid positional argument will be `data`, and passing other arguments without an explicit keyword will result in an error or misinterpretation.\n",
      "  warnings.warn(\n"
     ]
    },
    {
     "data": {
      "image/png": "[encoded data removed]",
      "text/plain": [
       "<Figure size 1133.86x566.929 with 2 Axes>"
      ]
     },
     "metadata": {},
     "output_type": "display_data"
    }
   ],
   "source": [
    "OPCOES_GRAFICAS = {'NAME': 'WANDER',\n",
    "                'WIDTH': 0.40, \n",
    "                'HEIGHT': 0.20, \n",
    "                'X AXIS SIZE': 20,\n",
    "                'Y AXIS SIZE': 20,\n",
    "                'AXISES COLOR': '#000000',\n",
    "                'X AXIS LABEL': '$x_0$ - $P_X (lb)$',\n",
    "                'LABELS SIZE': 16,\n",
    "                'LABELS COLOR': '#000000',  \n",
    "                'CHART COLOR': '#FEB625',\n",
    "                'KDE': False,\n",
    "                'DPI': 600, \n",
    "                'BINS' : 20,\n",
    "                'EXTENSION': '.svg'}\n",
    "# RESULTS X_0 VARIABLE\n",
    "OPCOES_DADOS = {'DATASET': DADOS, 'COLUMN': 'X_0'}      \n",
    "# CALL PLOT\n",
    "RASD_PLOT_1(OPCOES_DADOS, OPCOES_GRAFICAS)"
   ]
  },
  {
   "cell_type": "code",
   "execution_count": 38,
   "metadata": {},
   "outputs": [
    {
     "data": {
      "image/png": "[encoded data removed]",
      "text/plain": [
       "<Figure size 850.394x425.197 with 1 Axes>"
      ]
     },
     "metadata": {},
     "output_type": "display_data"
    }
   ],
   "source": [
    "OPCOES_GRAFICAS = {'NAME': 'WANDER',\n",
    "                'EXTENSION': '.svg',\n",
    "                'DPI': 600,\n",
    "                'WIDTH': 0.300, \n",
    "                'HEIGHT': 0.150,              \n",
    "                'X DATA': 'S_0',\n",
    "                'Y DATA': 'R_0',\n",
    "                'X AXIS SIZE': 16,\n",
    "                'Y AXIS SIZE': 16,\n",
    "                'AXISES COLOR': '#000000',\n",
    "                'X AXIS LABEL': '$S_0$',\n",
    "                'Y AXIS LABEL': '$R_0$',\n",
    "                'LABELS SIZE': 16,\n",
    "                'LABELS COLOR': '#000000',\n",
    "                'LOC LEGEND': 'lower right',\n",
    "                'TITLE LEGEND': 'Failure index ($I$):'}\n",
    "# RESULTS\n",
    "OPCOES_DADOS = {'DATASET': DADOS, 'X DATA': 'S_0', 'Y DATA': 'R_0', 'HUE VALUE': 'I_0'}    \n",
    "# CALL PLOT\n",
    "RASD_PLOT_2(OPCOES_DADOS, OPCOES_GRAFICAS)"
   ]
  },
  {
   "cell_type": "code",
   "execution_count": 39,
   "metadata": {},
   "outputs": [
    {
     "data": {
      "image/png": "[encoded data removed]",
      "text/plain": [
       "<Figure size 566.929x283.465 with 2 Axes>"
      ]
     },
     "metadata": {},
     "output_type": "display_data"
    }
   ],
   "source": [
    "OPCOES_GRAFICAS = {'NAME': 'WANDER',\n",
    "                'EXTENSION': '.svg',\n",
    "                'DPI': 600,\n",
    "                'WIDTH': 0.20, \n",
    "                'HEIGHT': 0.10,              \n",
    "                'X DATA': 'S_0',\n",
    "                'Y DATA': 'R_0',\n",
    "                'X AXIS SIZE': 20,\n",
    "                'Y AXIS SIZE': 20,\n",
    "                'AXISES COLOR': '#000000',\n",
    "                'X AXIS LABEL': '$S_0$',\n",
    "                'Y AXIS LABEL': '$R_0$',\n",
    "                'LABELS SIZE': 16,\n",
    "                'LABELS COLOR': '#000000',\n",
    "                'G VALUE': 'G_0',\n",
    "                'TRANSPARENCY': 0.8,\n",
    "                'COLOR MAP': 'viridis'}\n",
    "\n",
    "\n",
    "# RESULTS\n",
    "OPCOES_DADOS = {'DATASET': DADOS, 'X DATA': 'S_0', 'Y DATA': 'R_0', 'G VALUE': 'G_0'}       \n",
    "\n",
    "# CALL PLOT\n",
    "RASD_PLOT_3(OPCOES_DADOS, OPCOES_GRAFICAS)"
   ]
  },
  {
   "cell_type": "code",
   "execution_count": 53,
   "metadata": {},
   "outputs": [
    {
     "data": {
      "image/png": "[encoded data removed]",
      "text/plain": [
       "<Figure size 566.929x283.465 with 1 Axes>"
      ]
     },
     "metadata": {},
     "output_type": "display_data"
    }
   ],
   "source": [
    "OPCOES_GRAFICAS = {'NAME': 'WANDER',\n",
    "                    'EXTENSION': '.svg',\n",
    "                    'DPI': 600,\n",
    "                    'WIDTH': 0.20,\n",
    "                    'HEIGHT': 0.10,\n",
    "                    'X DATA': 'S_0',\n",
    "                    'Y DATA': 'R_0',\n",
    "                    'X AXIS SIZE': 20,\n",
    "                    'Y AXIS SIZE': 20,\n",
    "                    'AXISES COLOR': '#000000',\n",
    "                    'X AXIS LABEL': '$G_0 + G_0$',\n",
    "                    'Y AXIS LABEL': '$SOMATÓRIO$',\n",
    "                    'LABELS SIZE': 16,\n",
    "                    'LABELS COLOR': '#000000',\n",
    "                    'C VALUE': 'G_0',\n",
    "                    'TRANSPARENCY': 0.8,\n",
    "                    'COLOR MAP': 'viridis',\n",
    "                    'BINS': '50',\n",
    "                    'ALPHA': '0.5'}\n",
    "\n",
    "# RESULTS\n",
    "OPCOES_DADOS = {'DATASET': DADOS, 'X DATA': 'S_0', 'Y DATA': 'R_0', 'G VALUE': 'G_0'}       \n",
    "\n",
    "# CALL PLOT\n",
    "RASD_PLOT_4(OPCOES_DADOS, OPCOES_GRAFICAS)"
   ]
  },
  {
   "cell_type": "code",
   "execution_count": 56,
   "metadata": {},
   "outputs": [
    {
     "data": {
      "text/plain": [
       "(array([1., 1., 1., 0., 0., 0., 0., 1., 0., 2., 0., 1., 0., 2., 2., 1., 1.,\n",
       "        3., 7., 3., 2., 2., 5., 3., 7., 4., 4., 3., 3., 8., 6., 1., 3., 0.,\n",
       "        4., 4., 6., 3., 0., 1., 1., 0., 1., 1., 1., 0., 0., 0., 0., 1.]),\n",
       " array([ 83808.  ,  85106.16,  86404.32,  87702.48,  89000.64,  90298.8 ,\n",
       "         91596.96,  92895.12,  94193.28,  95491.44,  96789.6 ,  98087.76,\n",
       "         99385.92, 100684.08, 101982.24, 103280.4 , 104578.56, 105876.72,\n",
       "        107174.88, 108473.04, 109771.2 , 111069.36, 112367.52, 113665.68,\n",
       "        114963.84, 116262.  , 117560.16, 118858.32, 120156.48, 121454.64,\n",
       "        122752.8 , 124050.96, 125349.12, 126647.28, 127945.44, 129243.6 ,\n",
       "        130541.76, 131839.92, 133138.08, 134436.24, 135734.4 , 137032.56,\n",
       "        138330.72, 139628.88, 140927.04, 142225.2 , 143523.36, 144821.52,\n",
       "        146119.68, 147417.84, 148716.  ]),\n",
       " <BarContainer object of 50 artists>)"
      ]
     },
     "execution_count": 56,
     "metadata": {},
     "output_type": "execute_result"
    },
    {
     "data": {
      "image/png": "[encoded data removed]",
      "text/plain": [
       "<Figure size 432x288 with 1 Axes>"
      ]
     },
     "metadata": {},
     "output_type": "display_data"
    }
   ],
   "source": [
    "plt.hist(RESULTS_TEST[0]['TOTAL RESULTS']['R_0'], bins=50, label='a', alpha=0.5)\n",
    "plt.hist(RESULTS_TEST[0]['TOTAL RESULTS']['S_0'], bins=50, label='b', alpha=0.5)"
   ]
  }
 ],
 "metadata": {
  "kernelspec": {
   "display_name": "Python 3",
   "language": "python",
   "name": "python3"
  },
  "language_info": {
   "codemirror_mode": {
    "name": "ipython",
    "version": 3
   },
   "file_extension": ".py",
   "mimetype": "text/x-python",
   "name": "python",
   "nbconvert_exporter": "python",
   "pygments_lexer": "ipython3",
   "version": "3.8.8"
  }
 },
 "nbformat": 4,
 "nbformat_minor": 4
}
