{
 "cells": [
  {
   "cell_type": "code",
   "execution_count": 1,
   "metadata": {
    "scrolled": true
   },
   "outputs": [
    {
     "name": "stdout",
     "output_type": "stream",
     "text": [
      "Requirement already satisfied: pyDOE in c:\\users\\donizetti\\anaconda3\\lib\\site-packages (0.3.8)\n",
      "Requirement already satisfied: scipy in c:\\users\\donizetti\\anaconda3\\lib\\site-packages (from pyDOE) (1.6.2)\n",
      "Requirement already satisfied: numpy in c:\\users\\donizetti\\anaconda3\\lib\\site-packages (from pyDOE) (1.20.1)\n",
      "Requirement already satisfied: seaborn in c:\\users\\donizetti\\anaconda3\\lib\\site-packages (0.11.1)\n",
      "Requirement already satisfied: pandas>=0.23 in c:\\users\\donizetti\\anaconda3\\lib\\site-packages (from seaborn) (1.2.4)\n",
      "Requirement already satisfied: numpy>=1.15 in c:\\users\\donizetti\\anaconda3\\lib\\site-packages (from seaborn) (1.20.1)\n",
      "Requirement already satisfied: matplotlib>=2.2 in c:\\users\\donizetti\\anaconda3\\lib\\site-packages (from seaborn) (3.3.4)\n",
      "Requirement already satisfied: scipy>=1.0 in c:\\users\\donizetti\\anaconda3\\lib\\site-packages (from seaborn) (1.6.2)\n",
      "Requirement already satisfied: kiwisolver>=1.0.1 in c:\\users\\donizetti\\anaconda3\\lib\\site-packages (from matplotlib>=2.2->seaborn) (1.3.1)\n",
      "Requirement already satisfied: python-dateutil>=2.1 in c:\\users\\donizetti\\anaconda3\\lib\\site-packages (from matplotlib>=2.2->seaborn) (2.8.1)\n",
      "Requirement already satisfied: pillow>=6.2.0 in c:\\users\\donizetti\\anaconda3\\lib\\site-packages (from matplotlib>=2.2->seaborn) (8.2.0)\n",
      "Requirement already satisfied: cycler>=0.10 in c:\\users\\donizetti\\anaconda3\\lib\\site-packages (from matplotlib>=2.2->seaborn) (0.10.0)\n",
      "Requirement already satisfied: pyparsing!=2.0.4,!=2.1.2,!=2.1.6,>=2.0.3 in c:\\users\\donizetti\\anaconda3\\lib\\site-packages (from matplotlib>=2.2->seaborn) (2.4.7)\n",
      "Requirement already satisfied: six in c:\\users\\donizetti\\anaconda3\\lib\\site-packages (from cycler>=0.10->matplotlib>=2.2->seaborn) (1.15.0)\n",
      "Requirement already satisfied: pytz>=2017.3 in c:\\users\\donizetti\\anaconda3\\lib\\site-packages (from pandas>=0.23->seaborn) (2021.1)\n",
      "Looking in indexes: https://test.pypi.org/simple/\n",
      "Collecting FINITO-FEM-TOOLBOX\n",
      "  Using cached FINITO_FEM_TOOLBOX-0.0.0-py3-none-any.whl\n",
      "Installing collected packages: FINITO-FEM-TOOLBOX\n",
      "Successfully installed FINITO-FEM-TOOLBOX-0.0.0\n"
     ]
    }
   ],
   "source": [
    "# Instalando as bibliotecas e atualizando \n",
    "!pip install pyDOE\n",
    "!pip install -U seaborn\n",
    "# Import MEF 1D Algorithm\n",
    "!pip install -i https://test.pypi.org/simple/ FINITO-FEM-TOOLBOX\n"
   ]
  },
  {
   "cell_type": "code",
   "execution_count": 2,
   "metadata": {},
   "outputs": [],
   "source": [
    "from FINITO_FEM_TOOLBOX import MEF1D\n",
    "from RASD_TOOLBOX import RASD_STOCHASTIC\n",
    "import numpy as np\n",
    "import pandas as pd"
   ]
  },
  {
   "cell_type": "code",
   "execution_count": 3,
   "metadata": {},
   "outputs": [],
   "source": [
    "P2Y = ['NORMAL', 15000, 2500]\n",
    "P3Y = ['NORMAL', 20000, 4500]\n",
    "POP = [1]\n",
    "\n",
    "SETUP = {'N_REP': len(POP),\n",
    "        'POP': POP,\n",
    "        'N_G': 1,\n",
    "        'D': 2,\n",
    "        'VARS': [P2Y, P3Y],\n",
    "        'MODEL': 'MCS'}\n"
   ]
  },
  {
   "cell_type": "code",
   "execution_count": 6,
   "metadata": {},
   "outputs": [],
   "source": [
    "def OBJ(X):\n",
    "    P2Y = X[0]\n",
    "    P3Y = X[1]\n",
    "\n",
    "    # Dataset\n",
    "   \n",
    "    FRAME_00 = {\n",
    "            \"TYPE_ELEMENT\": 0,\n",
    "            \"TYPE_SOLUTION\": 0,\n",
    "            \"N_NODES\": 26,\n",
    "            \"N_MATERIALS\": 1,\n",
    "            \"N_SECTIONS\": 1,\n",
    "            \"N_ELEMENTS\": 27,\n",
    "            \"N_DOFPRESCRIPTIONS\": 6,\n",
    "            \"N_DOFLOADED\": 24,\n",
    "            \"N_DOFSPRINGS\": 0,\n",
    "            \"COORDINATES\": #X,Y\n",
    "            np.array([\n",
    "            [0.0,0.0],\n",
    "            [5.25,0.0],\n",
    "            [0.0,3.0],\n",
    "            [0.75,3.0],\n",
    "            [1.5,3.0],\n",
    "            [2.25,3.0],\n",
    "            [3.0,3.0],\n",
    "            [3.75,3.0],\n",
    "            [4.5,3.0],\n",
    "            [5.25,3.0],\n",
    "            [0.0,6.0],\n",
    "            [0.75,6.0],\n",
    "            [1.5,6.0],\n",
    "            [2.25,6.0],\n",
    "            [3.0,6.0],\n",
    "            [3.75,6.0],\n",
    "            [4.5,6.0],\n",
    "            [5.25,6.0],\n",
    "            [0.0,9.0],\n",
    "            [0.75,9.0],\n",
    "            [1.5,9.0],\n",
    "            [2.25,9.0],\n",
    "            [3.0,9.0],\n",
    "            [3.75,9.0],\n",
    "            [4.5,9.0],\n",
    "            [5.25,9.0]]),\n",
    "\n",
    "            \"ELEMENTS\": #NODE 1,NODE 2,MATERIAL ID,SECTION ID,HINGE ID NODE 1,HINGE ID NODE 2\n",
    "            np.array([\n",
    "            [0,2,0,0,0,0],\n",
    "            [1,9,0,0,0,0],\n",
    "            [2,3,0,0,0,0],\n",
    "            [3,4,0,0,0,0],\n",
    "            [4,5,0,0,0,0],\n",
    "            [5,6,0,0,0,0],\n",
    "            [6,7,0,0,0,0],\n",
    "            [7,8,0,0,0,0],\n",
    "            [8,9,0,0,0,0],\n",
    "            [2,10,0,0,0,0],\n",
    "            [9,17,0,0,0,0],\n",
    "            [10,11,0,0,0,0],\n",
    "            [11,12,0,0,0,0],\n",
    "            [12,13,0,0,0,0],\n",
    "            [13,14,0,0,0,0],\n",
    "            [14,15,0,0,0,0],\n",
    "            [15,16,0,0,0,0],\n",
    "            [16,17,0,0,0,0],\n",
    "            [10,18,0,0,0,0],\n",
    "            [17,25,0,0,0,0],\n",
    "            [18,19,0,0,0,0],\n",
    "            [19,20,0,0,0,0],\n",
    "            [20,21,0,0,0,0],\n",
    "            [21,22,0,0,0,0],\n",
    "            [22,23,0,0,0,0],\n",
    "            [23,24,0,0,0,0],\n",
    "            [24,25,0,0,0,0]]),\n",
    "\n",
    "            \"MATERIALS\": #YOUNG,POISSON,DENSITY,THERMAL COEFFICIENT\n",
    "            np.array([[200E9, 0.30,1,1E-8]]),\n",
    "            \"SECTIONS\": #AREA,INERTIA 1,INERTIA 2,X GC,Y GC\n",
    "            np.array([[0.0450,0.000377,0.000377,0.075,0.15]]),\n",
    "            \"PRESCRIBED DISPLACEMENTS\": #NODE,DIRECTION(X=0,Y=1,Z=2),VALUE\n",
    "            np.array([[0,0,0],\n",
    "            [0,1,0],\n",
    "            [0,2,0],\n",
    "            [1,0,0],\n",
    "            [1,1,0],\n",
    "            [1,2,0]]),\n",
    "            \"ELEMENT LOADS\": None,\n",
    "            \"NODAL LOADS\":  #NODE,DIRECTION(X=0,Y=1,Z=2),VALUE\n",
    "            np.array([\n",
    "            [2,1,-10000,0],\n",
    "            [3,1,-10000,0],\n",
    "            [4,1,-10000,0],\n",
    "            [5,1,-10000,0],\n",
    "            [6,1,-10000,0],\n",
    "            [7,1,-10000,0],\n",
    "            [8,1,-10000,0],\n",
    "            [9,1,-10000,0],\n",
    "            [10,1,-10000,0],\n",
    "            [11,1,-10000,0],\n",
    "            [12,1,-10000,0],\n",
    "            [13,1,-10000,0],\n",
    "            [14,1,-10000,0],\n",
    "            [15,1,-10000,0],\n",
    "            [16,1,-10000,0],\n",
    "            [17,1,-10000,0],\n",
    "            [18,1,-10000,0],\n",
    "            [19,1,-10000,0],\n",
    "            [20,1,-10000,0],\n",
    "            [21,1,-10000,0],\n",
    "            [22,1,-10000,0],\n",
    "            [23,1,-10000,0],\n",
    "            [24,1,-10000,0],\n",
    "            [25,1,-10000,0]]),\n",
    "            \"SPRINGS\": None}\n",
    "\n",
    "\n",
    "    FRAME_00_RESULTS = MEF1D(DICTIONARY = FRAME_00)\n",
    "    \n",
    "    #print(FRAME_00_RESULTS[0])\n",
    "    #print(FRAME_00_RESULTS)\n",
    "    \n",
    "    df1 = pd.DataFrame(data = FRAME_00_RESULTS[5])\n",
    "    print(df1)\n",
    "    \n",
    "    FRAME_00_BAR_0 = FRAME_00_RESULTS[0]\n",
    "    AXIAL_FORCE_LIST_BAR_0 = FRAME_00_BAR_0['N']\n",
    "    N = AXIAL_FORCE_LIST_BAR_0[5]    \n",
    "    \n",
    "    S_1 = np.abs(N)\n",
    "    R_1 = 143E3\n",
    "\n",
    "    # STATE LIMIT FUNCTION\n",
    "\n",
    "    G_0 = R_1 - S_1\n",
    "    R = [R_1] \n",
    "    S = [S_1] \n",
    "    G = [G_0]\n",
    "\n",
    "    return R, S, G\n",
    "\n"
   ]
  },
  {
   "cell_type": "code",
   "execution_count": 8,
   "metadata": {},
   "outputs": [
    {
     "name": "stdout",
     "output_type": "stream",
     "text": [
      "        X            UX           UY           UZ            N             V  \\\n",
      "0   0.000 -1.247427e-07    -0.000526    -0.000091  2993.825091  3.594323e-09   \n",
      "1   0.075 -1.989000e+03 -1989.000000 -1989.000000  2993.825091  3.594323e-09   \n",
      "2   0.150 -1.989000e+03 -1989.000000 -1989.000000  2993.825091  3.594323e-09   \n",
      "3   0.225 -1.989000e+03 -1989.000000 -1989.000000  2993.825091  3.594323e-09   \n",
      "4   0.300 -1.989000e+03 -1989.000000 -1989.000000  2993.825091  3.594323e-09   \n",
      "5   0.375 -1.989000e+03 -1989.000000 -1989.000000  2993.825091  3.594323e-09   \n",
      "6   0.450 -1.989000e+03 -1989.000000 -1989.000000  2993.825091  3.594323e-09   \n",
      "7   0.525 -1.989000e+03 -1989.000000 -1989.000000  2993.825091  3.594323e-09   \n",
      "8   0.600 -1.989000e+03 -1989.000000 -1989.000000  2993.825091  3.594323e-09   \n",
      "9   0.675 -1.989000e+03 -1989.000000 -1989.000000  2993.825091  3.594323e-09   \n",
      "10  0.750  1.247427e-07    -0.000526     0.000091  2993.825091  3.594323e-09   \n",
      "\n",
      "               M  ID_ELEMENT  \n",
      "0   18365.695929           5  \n",
      "1   18365.695929           5  \n",
      "2   18365.695929           5  \n",
      "3   18365.695929           5  \n",
      "4   18365.695929           5  \n",
      "5   18365.695929           5  \n",
      "6   18365.695929           5  \n",
      "7   18365.695929           5  \n",
      "8   18365.695929           5  \n",
      "9   18365.695929           5  \n",
      "10  18365.695929           5  \n"
     ]
    }
   ],
   "source": [
    "RESULTS_TEST = RASD_STOCHASTIC(SETUP, OBJ)"
   ]
  },
  {
   "cell_type": "code",
   "execution_count": 9,
   "metadata": {},
   "outputs": [
    {
     "data": {
      "text/plain": [
       "[{'TOTAL RESULTS':             X_0           X_1       R_0       S_0      G_0  I_0\n",
       "  0  15313.576496  15646.440096  143000.0  120000.0  23000.0  1.0,\n",
       "  'NUMBER OF FAILURES': [1.0],\n",
       "  'PROBABILITY OF FAILURE': [1.0]}]"
      ]
     },
     "execution_count": 9,
     "metadata": {},
     "output_type": "execute_result"
    }
   ],
   "source": [
    "RESULTS_TEST"
   ]
  },
  {
   "cell_type": "code",
   "execution_count": 10,
   "metadata": {},
   "outputs": [
    {
     "data": {
      "text/html": [
       "<div>\n",
       "<style scoped>\n",
       "    .dataframe tbody tr th:only-of-type {\n",
       "        vertical-align: middle;\n",
       "    }\n",
       "\n",
       "    .dataframe tbody tr th {\n",
       "        vertical-align: top;\n",
       "    }\n",
       "\n",
       "    .dataframe thead th {\n",
       "        text-align: right;\n",
       "    }\n",
       "</style>\n",
       "<table border=\"1\" class=\"dataframe\">\n",
       "  <thead>\n",
       "    <tr style=\"text-align: right;\">\n",
       "      <th></th>\n",
       "      <th>X_0</th>\n",
       "      <th>X_1</th>\n",
       "      <th>R_0</th>\n",
       "      <th>S_0</th>\n",
       "      <th>G_0</th>\n",
       "      <th>I_0</th>\n",
       "    </tr>\n",
       "  </thead>\n",
       "  <tbody>\n",
       "    <tr>\n",
       "      <th>0</th>\n",
       "      <td>15313.576496</td>\n",
       "      <td>15646.440096</td>\n",
       "      <td>143000.0</td>\n",
       "      <td>120000.0</td>\n",
       "      <td>23000.0</td>\n",
       "      <td>1.0</td>\n",
       "    </tr>\n",
       "  </tbody>\n",
       "</table>\n",
       "</div>"
      ],
      "text/plain": [
       "            X_0           X_1       R_0       S_0      G_0  I_0\n",
       "0  15313.576496  15646.440096  143000.0  120000.0  23000.0  1.0"
      ]
     },
     "execution_count": 10,
     "metadata": {},
     "output_type": "execute_result"
    }
   ],
   "source": [
    "RESULTS_TEST[0]['TOTAL RESULTS']"
   ]
  },
  {
   "cell_type": "code",
   "execution_count": null,
   "metadata": {},
   "outputs": [],
   "source": []
  },
  {
   "cell_type": "code",
   "execution_count": null,
   "metadata": {},
   "outputs": [],
   "source": [
    "FRAME_00_RESULTS = MEF1D(DICTIONARY = FRAME_00)\n",
    "FRAME_00_RESULTS\n"
   ]
  },
  {
   "cell_type": "code",
   "execution_count": null,
   "metadata": {},
   "outputs": [],
   "source": [
    "FRAME_00_BAR_2 = FRAME_00_RESULTS[2] \n",
    "FRAME_00_BAR_2"
   ]
  },
  {
   "cell_type": "code",
   "execution_count": 11,
   "metadata": {},
   "outputs": [
    {
     "ename": "TypeError",
     "evalue": "list indices must be integers or slices, not str",
     "output_type": "error",
     "traceback": [
      "\u001b[1;31m---------------------------------------------------------------------------\u001b[0m",
      "\u001b[1;31mTypeError\u001b[0m                                 Traceback (most recent call last)",
      "\u001b[1;32m<ipython-input-11-a4c6ceee510f>\u001b[0m in \u001b[0;36m<module>\u001b[1;34m\u001b[0m\n\u001b[1;32m----> 1\u001b[1;33m \u001b[0mRESULTS_TEST\u001b[0m\u001b[1;33m[\u001b[0m\u001b[1;34m'TOTAL RESULTS'\u001b[0m\u001b[1;33m]\u001b[0m\u001b[1;33m\u001b[0m\u001b[1;33m\u001b[0m\u001b[0m\n\u001b[0m",
      "\u001b[1;31mTypeError\u001b[0m: list indices must be integers or slices, not str"
     ]
    }
   ],
   "source": [
    "RESULTS_TEST['TOTAL RESULTS']"
   ]
  },
  {
   "cell_type": "code",
   "execution_count": null,
   "metadata": {},
   "outputs": [],
   "source": [
    "WANDER = RESULTS_TEST['TOTAL RESULTS']"
   ]
  },
  {
   "cell_type": "code",
   "execution_count": null,
   "metadata": {},
   "outputs": [],
   "source": [
    "PLOT_SETUP = {'NAME': 'WANDER',\n",
    "                'EXTENSION': '.svg',\n",
    "                'DPI': 600,\n",
    "                'WIDTH': 0.40, \n",
    "                'HEIGHT': 0.20,              \n",
    "                'X DATA': 'S_0',\n",
    "                'Y DATA': 'R_0',\n",
    "                'X AXIS SIZE': 20,\n",
    "                'Y AXIS SIZE': 20,\n",
    "                'AXISES COLOR': '#000000',\n",
    "                'X AXIS LABEL': '$S_0$',\n",
    "                'Y AXIS LABEL': '$R_0$',\n",
    "                'LABELS SIZE': 16,\n",
    "                'LABELS COLOR': '#000000',\n",
    "                'LOC LEGEND': 'lower right',\n",
    "                'TITLE LEGEND': 'Failure index ($I$):'}\n",
    "# RESULTS\n",
    "DATASET =  WANDER     \n",
    "# CALL PLOT\n",
    "RASD_PLOT_2(DATASET, PLOT_SETUP)"
   ]
  }
 ],
 "metadata": {
  "kernelspec": {
   "display_name": "Python 3",
   "language": "python",
   "name": "python3"
  },
  "language_info": {
   "codemirror_mode": {
    "name": "ipython",
    "version": 3
   },
   "file_extension": ".py",
   "mimetype": "text/x-python",
   "name": "python",
   "nbconvert_exporter": "python",
   "pygments_lexer": "ipython3",
   "version": "3.8.8"
  }
 },
 "nbformat": 4,
 "nbformat_minor": 4
}
