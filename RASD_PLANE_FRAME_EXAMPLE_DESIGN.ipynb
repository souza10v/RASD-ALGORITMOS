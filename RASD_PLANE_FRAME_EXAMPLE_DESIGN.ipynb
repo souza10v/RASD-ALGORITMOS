{
 "cells": [
  {
   "cell_type": "code",
   "execution_count": null,
   "metadata": {
    "scrolled": true
   },
   "outputs": [],
   "source": [
    "# Instalando as bibliotecas e atualizando \n",
    "!pip install pyDOE\n",
    "!pip install -U seaborn\n",
    "# Import MEF 1D Algorithm\n",
    "!pip install -i https://test.pypi.org/simple/ FINITO-FEM-TOOLBOX\n"
   ]
  },
  {
   "cell_type": "code",
   "execution_count": 1,
   "metadata": {},
   "outputs": [],
   "source": [
    "from FINITO_FEM_TOOLBOX import MEF1D\n",
    "from RASD_TOOLBOX import RASD_STOCHASTIC\n",
    "import numpy as np"
   ]
  },
  {
   "cell_type": "code",
   "execution_count": 2,
   "metadata": {},
   "outputs": [],
   "source": [
    "P2Y = ['NORMAL', 15000, 2500]\n",
    "P3Y = ['NORMAL', 20000, 4500]\n",
    "POP = [10, 10]\n",
    "\n",
    "SETUP = {'N_REP': len(POP),\n",
    "        'POP': POP,\n",
    "        'N_G': 1,\n",
    "        'D': 2,\n",
    "        'VARS': [P2Y, P3Y],\n",
    "        'MODEL': 'MCS'}\n"
   ]
  },
  {
   "cell_type": "code",
   "execution_count": 3,
   "metadata": {},
   "outputs": [],
   "source": [
    "def OBJ(X):\n",
    "    P2Y = X[0]\n",
    "    P3Y = X[1]\n",
    "    # Dataset\n",
    "    FRAME_00 = {\"TYPE_ELEMENT\": 0,\n",
    "              \"TYPE_SOLUTION\": 0,\n",
    "              \"N_NODES\": 6,\n",
    "              \"N_MATERIALS\": 1,\n",
    "              \"N_SECTIONS\": 1,\n",
    "              \"N_ELEMENTS\": 5,\n",
    "              \"N_DOFPRESCRIPTIONS\": 5,\n",
    "              \"N_DOFLOADED\": 3,\n",
    "              \"N_DOFSPRINGS\": 0,\n",
    "              \"COORDINATES\": \n",
    "              np.array([[0.0,0.0],\n",
    "                [0.0,3.0],\n",
    "                [1.0,3.0],\n",
    "                [2.0,3.0],\n",
    "                [3.0,3.0],\n",
    "                [3.0,0.0]]),\n",
    "              \"ELEMENTS\": \n",
    "              np.array([[0,1,0,0,0,0],\n",
    "                [1,2,0,0,0,0],\n",
    "                [2,3,0,0,0,0],\n",
    "                [3,4,0,0,0,0],\n",
    "                [4,5,0,0,0,0]]),\n",
    "              \"MATERIALS\": \n",
    "              np.array([[24E9,0.20,7800.0,1E-8]]),\n",
    "              \"SECTIONS\": \n",
    "              np.array([\n",
    "                [0.08,-1989,0.001067,-1989,-1989]]),\n",
    "              \"PRESCRIBED DISPLACEMENTS\": \n",
    "              np.array([[0,0,0],\n",
    "                [0,1,0],\n",
    "                [0,2,0],\n",
    "                [5,0,0],\n",
    "                [5,1,-0.10]]),\n",
    "              \"ELEMENT LOADS\": None,\n",
    "              \"NODAL LOADS\": \n",
    "              np.array([\n",
    "                [1,0,1000],\n",
    "                [2,1,-P2Y],\n",
    "                [3,1,-P3Y]]),\n",
    "              \"SPRINGS\": None}\n",
    "    FRAME_00_RESULTS = MEF1D(DICTIONARY = FRAME_00)\n",
    "    FRAME_00_BAR_0 = FRAME_00_RESULTS[0]\n",
    "    AXIAL_FORCE_LIST_BAR_0 = FRAME_00_BAR_0['N']\n",
    "    N = AXIAL_FORCE_LIST_BAR_0[5]              \n",
    "    S_1 = np.abs(N)\n",
    "    R_1 = 143E3\n",
    "    \n",
    "    # STATE LIMIT FUNCTION\n",
    "    \n",
    "    G_0 = R_1 - S_1\n",
    "    R = [R_1] \n",
    "    S = [S_1] \n",
    "    G = [G_0]\n",
    "    return R, S, G"
   ]
  },
  {
   "cell_type": "code",
   "execution_count": 6,
   "metadata": {},
   "outputs": [],
   "source": [
    "RESULTS_TEST = RASD_STOCHASTIC(SETUP, OBJ)"
   ]
  },
  {
   "cell_type": "code",
   "execution_count": 7,
   "metadata": {},
   "outputs": [
    {
     "data": {
      "text/plain": [
       "[{'TOTAL RESULTS':             X_0           X_1       R_0            S_0          G_0  I_0\n",
       "  0  12947.616257  23023.461620  143000.0  143865.032361  -865.032361  0.0\n",
       "  1  13213.110625  24465.157874  143000.0  144488.350074 -1488.350074  0.0\n",
       "  2  10686.399155  18204.023109  143000.0  140877.275118  2122.724882  1.0\n",
       "  3  14492.102407  30573.512584  143000.0  147228.999626 -4228.999626  0.0\n",
       "  4  15716.500124  10750.176523  143000.0  141878.515923  1121.484077  1.0\n",
       "  5  12394.303843  12144.851715  143000.0  140121.087538  2878.912462  1.0\n",
       "  6  13047.861697  18875.790357  143000.0  142642.489197   357.510803  1.0\n",
       "  7  17220.530472  15912.435438  143000.0  144473.671653 -1473.671653  0.0\n",
       "  8  13452.160741  23428.193366  143000.0  144323.820443 -1323.820443  0.0\n",
       "  9  17237.564025  21004.107630  143000.0  146066.593493 -3066.593493  0.0,\n",
       "  'NUMBER OF FAILURES': [4.0],\n",
       "  'PROBABILITY OF FAILURE': [0.4]},\n",
       " {'TOTAL RESULTS':             X_0           X_1       R_0            S_0          G_0  I_0\n",
       "  0  14367.252162  21288.681266  143000.0  144262.406496 -1262.406496  0.0\n",
       "  1  17177.174133  15507.695189  143000.0  144319.514628 -1319.514628  0.0\n",
       "  2   9870.347007  21675.243554  143000.0  141417.411630  1582.588370  1.0\n",
       "  3  14824.272610  18837.662398  143000.0  143802.394006  -802.394006  0.0\n",
       "  4  12946.242978  19693.230399  143000.0  142829.985216   170.014784  1.0\n",
       "  5  15700.790842  16212.847151  143000.0  143564.610375  -564.610375  0.0\n",
       "  6  18659.006833  15751.100631  143000.0  145372.500738 -2372.500738  0.0\n",
       "  7  16011.115925  12767.128785  143000.0  142699.565999   300.434001  1.0\n",
       "  8  16109.829112  15216.905072  143000.0  143524.910129  -524.910129  0.0\n",
       "  9  14214.482333  10912.320807  143000.0  140938.456866  2061.543134  1.0,\n",
       "  'NUMBER OF FAILURES': [4.0],\n",
       "  'PROBABILITY OF FAILURE': [0.4]}]"
      ]
     },
     "execution_count": 7,
     "metadata": {},
     "output_type": "execute_result"
    }
   ],
   "source": [
    "RESULTS_TEST"
   ]
  },
  {
   "cell_type": "code",
   "execution_count": 8,
   "metadata": {},
   "outputs": [
    {
     "ename": "NameError",
     "evalue": "name 'FRAME_00' is not defined",
     "output_type": "error",
     "traceback": [
      "\u001b[1;31m---------------------------------------------------------------------------\u001b[0m",
      "\u001b[1;31mNameError\u001b[0m                                 Traceback (most recent call last)",
      "\u001b[1;32m<ipython-input-8-65604804abdc>\u001b[0m in \u001b[0;36m<module>\u001b[1;34m\u001b[0m\n\u001b[1;32m----> 1\u001b[1;33m \u001b[0mFRAME_00_RESULTS\u001b[0m \u001b[1;33m=\u001b[0m \u001b[0mMEF1D\u001b[0m\u001b[1;33m(\u001b[0m\u001b[0mDICTIONARY\u001b[0m \u001b[1;33m=\u001b[0m \u001b[0mFRAME_00\u001b[0m\u001b[1;33m)\u001b[0m\u001b[1;33m\u001b[0m\u001b[1;33m\u001b[0m\u001b[0m\n\u001b[0m\u001b[0;32m      2\u001b[0m \u001b[0mFRAME_00_RESULTS\u001b[0m\u001b[1;33m\u001b[0m\u001b[1;33m\u001b[0m\u001b[0m\n",
      "\u001b[1;31mNameError\u001b[0m: name 'FRAME_00' is not defined"
     ]
    }
   ],
   "source": [
    "FRAME_00_RESULTS = MEF1D(DICTIONARY = FRAME_00)\n",
    "FRAME_00_RESULTS"
   ]
  },
  {
   "cell_type": "code",
   "execution_count": 9,
   "metadata": {},
   "outputs": [
    {
     "ename": "NameError",
     "evalue": "name 'FRAME_00_RESULTS' is not defined",
     "output_type": "error",
     "traceback": [
      "\u001b[1;31m---------------------------------------------------------------------------\u001b[0m",
      "\u001b[1;31mNameError\u001b[0m                                 Traceback (most recent call last)",
      "\u001b[1;32m<ipython-input-9-4701bdc44000>\u001b[0m in \u001b[0;36m<module>\u001b[1;34m\u001b[0m\n\u001b[1;32m----> 1\u001b[1;33m \u001b[0mFRAME_00_BAR_2\u001b[0m \u001b[1;33m=\u001b[0m \u001b[0mFRAME_00_RESULTS\u001b[0m\u001b[1;33m[\u001b[0m\u001b[1;36m2\u001b[0m\u001b[1;33m]\u001b[0m\u001b[1;33m\u001b[0m\u001b[1;33m\u001b[0m\u001b[0m\n\u001b[0m\u001b[0;32m      2\u001b[0m \u001b[0mFRAME_00_BAR_2\u001b[0m\u001b[1;33m\u001b[0m\u001b[1;33m\u001b[0m\u001b[0m\n",
      "\u001b[1;31mNameError\u001b[0m: name 'FRAME_00_RESULTS' is not defined"
     ]
    }
   ],
   "source": [
    "FRAME_00_BAR_2 = FRAME_00_RESULTS[2] \n",
    "FRAME_00_BAR_2"
   ]
  },
  {
   "cell_type": "code",
   "execution_count": null,
   "metadata": {},
   "outputs": [],
   "source": [
    "FRAME_00_BAR_2['N']"
   ]
  },
  {
   "cell_type": "code",
   "execution_count": null,
   "metadata": {},
   "outputs": [],
   "source": [
    "FRAME_00_BAR_2['N'][5]"
   ]
  },
  {
   "cell_type": "code",
   "execution_count": null,
   "metadata": {},
   "outputs": [],
   "source": []
  }
 ],
 "metadata": {
  "kernelspec": {
   "display_name": "Python 3",
   "language": "python",
   "name": "python3"
  },
  "language_info": {
   "codemirror_mode": {
    "name": "ipython",
    "version": 3
   },
   "file_extension": ".py",
   "mimetype": "text/x-python",
   "name": "python",
   "nbconvert_exporter": "python",
   "pygments_lexer": "ipython3",
   "version": "3.8.8"
  }
 },
 "nbformat": 4,
 "nbformat_minor": 4
}
