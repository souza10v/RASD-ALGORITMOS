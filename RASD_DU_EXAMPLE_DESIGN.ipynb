{
 "cells": [
  {
   "cell_type": "code",
   "execution_count": 1,
   "metadata": {
    "scrolled": true
   },
   "outputs": [
    {
     "name": "stdout",
     "output_type": "stream",
     "text": [
      "Requirement already satisfied: pyDOE in c:\\users\\wanderlei\\anaconda3\\lib\\site-packages (0.3.8)\n",
      "Requirement already satisfied: scipy in c:\\users\\wanderlei\\anaconda3\\lib\\site-packages (from pyDOE) (1.4.1)\n",
      "Requirement already satisfied: numpy in c:\\users\\wanderlei\\anaconda3\\lib\\site-packages (from pyDOE) (1.18.1)\n",
      "Requirement already up-to-date: seaborn in c:\\users\\wanderlei\\anaconda3\\lib\\site-packages (0.11.1)\n",
      "Requirement already satisfied, skipping upgrade: scipy>=1.0 in c:\\users\\wanderlei\\anaconda3\\lib\\site-packages (from seaborn) (1.4.1)\n",
      "Requirement already satisfied, skipping upgrade: pandas>=0.23 in c:\\users\\wanderlei\\anaconda3\\lib\\site-packages (from seaborn) (1.0.1)\n",
      "Requirement already satisfied, skipping upgrade: numpy>=1.15 in c:\\users\\wanderlei\\anaconda3\\lib\\site-packages (from seaborn) (1.18.1)\n",
      "Requirement already satisfied, skipping upgrade: matplotlib>=2.2 in c:\\users\\wanderlei\\anaconda3\\lib\\site-packages (from seaborn) (3.1.3)\n",
      "Requirement already satisfied, skipping upgrade: python-dateutil>=2.6.1 in c:\\users\\wanderlei\\anaconda3\\lib\\site-packages (from pandas>=0.23->seaborn) (2.8.1)\n",
      "Requirement already satisfied, skipping upgrade: pytz>=2017.2 in c:\\users\\wanderlei\\anaconda3\\lib\\site-packages (from pandas>=0.23->seaborn) (2019.3)\n",
      "Requirement already satisfied, skipping upgrade: cycler>=0.10 in c:\\users\\wanderlei\\anaconda3\\lib\\site-packages (from matplotlib>=2.2->seaborn) (0.10.0)\n",
      "Requirement already satisfied, skipping upgrade: pyparsing!=2.0.4,!=2.1.2,!=2.1.6,>=2.0.1 in c:\\users\\wanderlei\\anaconda3\\lib\\site-packages (from matplotlib>=2.2->seaborn) (2.4.6)\n",
      "Requirement already satisfied, skipping upgrade: kiwisolver>=1.0.1 in c:\\users\\wanderlei\\anaconda3\\lib\\site-packages (from matplotlib>=2.2->seaborn) (1.1.0)\n",
      "Requirement already satisfied, skipping upgrade: six>=1.5 in c:\\users\\wanderlei\\anaconda3\\lib\\site-packages (from python-dateutil>=2.6.1->pandas>=0.23->seaborn) (1.14.0)\n",
      "Requirement already satisfied, skipping upgrade: setuptools in c:\\users\\wanderlei\\anaconda3\\lib\\site-packages (from kiwisolver>=1.0.1->matplotlib>=2.2->seaborn) (45.2.0.post20200210)\n",
      "Looking in indexes: https://test.pypi.org/simple/\n",
      "Requirement already satisfied: FINITO-FEM-TOOLBOX in c:\\users\\wanderlei\\anaconda3\\lib\\site-packages (0.0.0)\n"
     ]
    }
   ],
   "source": [
    "# Instalando as bibliotecas e atualizando \n",
    "!pip install pyDOE\n",
    "!pip install -U seaborn\n",
    "# Import MEF 1D Algorithm\n",
    "!pip install -i https://test.pypi.org/simple/ FINITO-FEM-TOOLBOX"
   ]
  },
  {
   "cell_type": "code",
   "execution_count": 2,
   "metadata": {},
   "outputs": [],
   "source": [
    "from FINITO_FEM_TOOLBOX import MEF1D\n",
    "from RASD_TOOLBOX import *\n",
    "import numpy as np"
   ]
  },
  {
   "cell_type": "code",
   "execution_count": 3,
   "metadata": {},
   "outputs": [],
   "source": [
    "PX = ['NORMAL', 500, 100]\n",
    "PY = ['NORMAL', 1000, 100]\n",
    "PZ = ['NORMAL', 3, 0.3]\n",
    "POP = [10, int(1E3), int(1E4), int(1E6)]\n",
    "\n",
    "SETUP = {'N_REP': len(POP),\n",
    "        'POP': POP,\n",
    "        'N_G': 2,\n",
    "        'D': 3,\n",
    "        'VARS': [PX, PY, PZ],\n",
    "        'MODEL': 'MCS'}"
   ]
  },
  {
   "cell_type": "code",
   "execution_count": 4,
   "metadata": {},
   "outputs": [],
   "source": [
    "def OBJ(X):\n",
    "    P_X = X[0]\n",
    "    P_Y = X[1]\n",
    "    P_Z = X[2]\n",
    "    \n",
    "    D_0 = 3\n",
    "    L = 100\n",
    "    E = 30 * 10 ** 6\n",
    "    W = 2\n",
    "    T = 4\n",
    "\n",
    "    # STATE LIMIT FUNCTION\n",
    "    \n",
    "    R_0 = P_Z\n",
    "    S_0 = (4 * L ** 3 / (E * W * T)) * (((P_Y / T ** 2) ** 2  + (P_X / W ** 2) ** 2) ** 0.5)\n",
    "    G_0 = R_0 - S_0\n",
    "\n",
    "    R_1 = P_Z * 1.10\n",
    "    S_1 = ((4 * L ** 3 / (E * W * T)) * (((P_Y / T ** 2) ** 2  + (P_X / W ** 2) ** 2) ** 0.5)) * 1.05\n",
    "    G_1 = R_1 - S_1\n",
    "\n",
    "    R = [R_0, R_1] \n",
    "    S = [S_0, S_1] \n",
    "    G = [G_0, G_1]\n",
    "\n",
    "\n",
    "    return R, S, G"
   ]
  },
  {
   "cell_type": "code",
   "execution_count": 5,
   "metadata": {},
   "outputs": [],
   "source": [
    "RESULTS_TEST = RASD_STOCHASTIC(SETUP, OBJ)"
   ]
  },
  {
   "cell_type": "code",
   "execution_count": 6,
   "metadata": {},
   "outputs": [
    {
     "data": {
      "text/plain": [
       "{'TOTAL RESULTS':                X_0          X_1       X_2       R_0       R_1       S_0  \\\n",
       " 0       462.495187  1090.250879  3.460722  3.460722  3.806794  2.236814   \n",
       " 1       679.854811   969.641104  3.061771  3.061771  3.367948  3.007414   \n",
       " 2       623.596303  1019.460726  2.094233  2.094233  2.303656  2.806950   \n",
       " 3       432.868474  1043.785164  2.811608  2.811608  3.092768  2.105994   \n",
       " 4       494.795285   995.400880  2.718442  2.718442  2.990286  2.307705   \n",
       " ...            ...          ...       ...       ...       ...       ...   \n",
       " 999995  511.475895  1043.699261  2.482612  2.482612  2.730873  2.392441   \n",
       " 999996  411.110123   994.400705  2.589281  2.589281  2.848209  2.001794   \n",
       " 999997  460.405266  1044.142854  2.953147  2.953147  3.248462  2.205236   \n",
       " 999998  338.041354  1085.328029  2.659193  2.659193  2.925113  1.806109   \n",
       " 999999  397.730535   977.287443  2.807890  2.807890  3.088678  1.944913   \n",
       " \n",
       "              S_1       G_0       G_1  I_0  I_1  \n",
       " 0       2.348655  1.223908  1.458139  1.0  1.0  \n",
       " 1       3.157784  0.054358  0.210164  1.0  1.0  \n",
       " 2       2.947298 -0.712717 -0.643641  0.0  0.0  \n",
       " 3       2.211293  0.705614  0.881475  1.0  1.0  \n",
       " 4       2.423090  0.410738  0.567196  1.0  1.0  \n",
       " ...          ...       ...       ...  ...  ...  \n",
       " 999995  2.512063  0.090171  0.218811  1.0  1.0  \n",
       " 999996  2.101884  0.587487  0.746325  1.0  1.0  \n",
       " 999997  2.315498  0.747911  0.932964  1.0  1.0  \n",
       " 999998  1.896415  0.853084  1.028698  1.0  1.0  \n",
       " 999999  2.042159  0.862977  1.046520  1.0  1.0  \n",
       " \n",
       " [1000000 rows x 11 columns],\n",
       " 'NUMBER OF FAILURES': [915407.0, 949099.0],\n",
       " 'PROBABILITY OF FAILURE': [0.915407, 0.949099]}"
      ]
     },
     "execution_count": 6,
     "metadata": {},
     "output_type": "execute_result"
    }
   ],
   "source": [
    "RESULTS_TEST[3]"
   ]
  },
  {
   "cell_type": "code",
   "execution_count": 7,
   "metadata": {},
   "outputs": [
    {
     "ename": "TypeError",
     "evalue": "list indices must be integers or slices, not str",
     "output_type": "error",
     "traceback": [
      "\u001b[1;31m---------------------------------------------------------------------------\u001b[0m",
      "\u001b[1;31mTypeError\u001b[0m                                 Traceback (most recent call last)",
      "\u001b[1;32m<ipython-input-7-5c5f7bb30ee5>\u001b[0m in \u001b[0;36m<module>\u001b[1;34m\u001b[0m\n\u001b[1;32m----> 1\u001b[1;33m \u001b[0mRESULTS_TEST\u001b[0m\u001b[1;33m[\u001b[0m\u001b[1;34m'TOTAL RESULTS'\u001b[0m\u001b[1;33m]\u001b[0m\u001b[1;33m[\u001b[0m\u001b[1;34m'I_0'\u001b[0m\u001b[1;33m]\u001b[0m\u001b[1;33m[\u001b[0m\u001b[1;33m(\u001b[0m\u001b[0mRESULTS_TEST\u001b[0m\u001b[1;33m[\u001b[0m\u001b[1;34m'TOTAL RESULTS'\u001b[0m\u001b[1;33m]\u001b[0m\u001b[1;33m[\u001b[0m\u001b[1;34m'I_0'\u001b[0m\u001b[1;33m]\u001b[0m\u001b[1;33m==\u001b[0m\u001b[1;36m1\u001b[0m\u001b[1;33m)\u001b[0m\u001b[1;33m]\u001b[0m\u001b[1;33m\u001b[0m\u001b[1;33m\u001b[0m\u001b[0m\n\u001b[0m",
      "\u001b[1;31mTypeError\u001b[0m: list indices must be integers or slices, not str"
     ]
    }
   ],
   "source": [
    "RESULTS_TEST['TOTAL RESULTS']['I_0'][(RESULTS_TEST['TOTAL RESULTS']['I_0']==1)]"
   ]
  },
  {
   "cell_type": "code",
   "execution_count": null,
   "metadata": {},
   "outputs": [],
   "source": [
    "PLOT_SETUP = {'NAME': 'WANDER',\n",
    "                'WIDTH': 0.40, \n",
    "                'HEIGHT': 0.20, \n",
    "                'X AXIS LABEL': '$x_0$ - $P_X$ $lb$',\n",
    "                'X AXIS SIZE': 20,\n",
    "                'Y AXIS SIZE': 20,\n",
    "                'AXISES COLOR': '#000000',\n",
    "                'LABELS SIZE': 16,\n",
    "                'LABELS COLOR': '#000000',  \n",
    "                'CHART COLOR': '#FEB625',\n",
    "                'KDE': False,\n",
    "                'DPI': 600, \n",
    "                'BINS' : 20,\n",
    "                'EXTENSION': '.svg'}\n",
    "# RESULTS X_0 VARIABLE\n",
    "DATASET = RESULTS_TEST['TOTAL RESULTS']['X_0']      \n",
    "# CALL PLOT\n",
    "RASD_PLOT_1(DATASET, PLOT_SETUP)"
   ]
  },
  {
   "cell_type": "code",
   "execution_count": null,
   "metadata": {},
   "outputs": [],
   "source": [
    "PLOT_SETUP = {'NAME': 'WANDER',\n",
    "                'EXTENSION': '.svg',\n",
    "                'DPI': 600,\n",
    "                'WIDTH': 0.40, \n",
    "                'HEIGHT': 0.20,              \n",
    "                'X DATA': 'S_0',\n",
    "                'Y DATA': 'R_0',\n",
    "                'X AXIS SIZE': 20,\n",
    "                'Y AXIS SIZE': 20,\n",
    "                'AXISES COLOR': '#000000',\n",
    "                'X AXIS LABEL': '$S_0$',\n",
    "                'Y AXIS LABEL': '$R_0$',\n",
    "                'LABELS SIZE': 16,\n",
    "                'LABELS COLOR': '#000000',\n",
    "                'LOC LEGEND': 'lower right',\n",
    "                'TITLE LEGEND': 'Failure index ($I$):'}\n",
    "# RESULTS\n",
    "DATASET = RESULTS_TEST['TOTAL RESULTS']    \n",
    "# CALL PLOT\n",
    "RASD_PLOT_2(DATASET, PLOT_SETUP)"
   ]
  },
  {
   "cell_type": "code",
   "execution_count": null,
   "metadata": {},
   "outputs": [],
   "source": [
    "PLOT_SETUP = {'NAME': 'WANDER',\n",
    "                'EXTENSION': '.svg',\n",
    "                'DPI': 600,\n",
    "                'WIDTH': 0.20, \n",
    "                'HEIGHT': 0.10,              \n",
    "                'X DATA': 'S_0',\n",
    "                'Y DATA': 'R_0',\n",
    "                'X AXIS SIZE': 20,\n",
    "                'Y AXIS SIZE': 20,\n",
    "                'AXISES COLOR': '#000000',\n",
    "                'X AXIS LABEL': '$S_0$',\n",
    "                'Y AXIS LABEL': '$R_0$',\n",
    "                'LABELS SIZE': 16,\n",
    "                'LABELS COLOR': '#000000',\n",
    "                'C VALUE': 'G_0',\n",
    "                'TRANSPARENCY': 0.8,\n",
    "                'COLOR MAP': 'viridis'}\n",
    "# RESULTS\n",
    "DATASET = RESULTS_TEST['TOTAL RESULTS'] \n",
    "# CALL PLOT\n",
    "RASD_PLOT_3(DATASET, PLOT_SETUP)"
   ]
  },
  {
   "cell_type": "code",
   "execution_count": null,
   "metadata": {},
   "outputs": [],
   "source": [
    "plt.hist(RESULTS_TEST['TOTAL RESULTS']['R_0'], bins=50, label='a', alpha=0.5)\n",
    "plt.hist(RESULTS_TEST['TOTAL RESULTS']['S_0'], bins=50, label='b', alpha=0.5)\n"
   ]
  },
  {
   "cell_type": "code",
   "execution_count": null,
   "metadata": {},
   "outputs": [],
   "source": [
    "PLOT_SETUP = {'NAME': 'WANDER',\n",
    "                    'EXTENSION': '.svg',\n",
    "                    'DPI': 600,\n",
    "                    'WIDTH': 0.20,\n",
    "                    'HEIGHT': 0.10,\n",
    "                    'X DATA': 'S_0',\n",
    "                    'Y DATA': 'R_0',\n",
    "                    'X AXIS SIZE': 20,\n",
    "                    'Y AXIS SIZE': 20,\n",
    "                    'AXISES COLOR': '#000000',\n",
    "                    'X AXIS LABEL': '$G_0$',\n",
    "                    'Y AXIS LABEL': 'SOMATÓRIO',\n",
    "                    'LABELS SIZE': 16,\n",
    "                    'LABELS COLOR': '#000000',\n",
    "                    'C VALUE': 'G_0',\n",
    "                    'TRANSPARENCY': 0.8,\n",
    "                    'COLOR MAP': 'viridis',\n",
    "                    'BINS': '50',\n",
    "                    'ALPHA': '0.5'}\n",
    "\n",
    "# RESULTS\n",
    "DATASET = RESULTS_TEST['TOTAL RESULTS'] \n",
    "# CALL PLOT\n",
    "RASD_PLOT_4(DATASET, PLOT_SETUP)"
   ]
  },
  {
   "cell_type": "code",
   "execution_count": null,
   "metadata": {},
   "outputs": [],
   "source": []
  }
 ],
 "metadata": {
  "kernelspec": {
   "display_name": "Python 3",
   "language": "python",
   "name": "python3"
  },
  "language_info": {
   "codemirror_mode": {
    "name": "ipython",
    "version": 3
   },
   "file_extension": ".py",
   "mimetype": "text/x-python",
   "name": "python",
   "nbconvert_exporter": "python",
   "pygments_lexer": "ipython3",
   "version": "3.7.6"
  }
 },
 "nbformat": 4,
 "nbformat_minor": 4
}
