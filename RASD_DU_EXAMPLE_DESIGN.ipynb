{
 "cells": [
  {
   "cell_type": "code",
   "execution_count": 1,
   "metadata": {
    "scrolled": true
   },
   "outputs": [
    {
     "name": "stdout",
     "output_type": "stream",
     "text": [
      "Requirement already satisfied: pyDOE in c:\\users\\wande\\anaconda3\\lib\\site-packages (0.3.8)\n",
      "Requirement already satisfied: scipy in c:\\users\\wande\\anaconda3\\lib\\site-packages (from pyDOE) (1.5.0)\n",
      "Requirement already satisfied: numpy in c:\\users\\wande\\anaconda3\\lib\\site-packages (from pyDOE) (1.18.5)\n",
      "Requirement already up-to-date: seaborn in c:\\users\\wande\\anaconda3\\lib\\site-packages (0.11.1)\n",
      "Requirement already satisfied, skipping upgrade: scipy>=1.0 in c:\\users\\wande\\anaconda3\\lib\\site-packages (from seaborn) (1.5.0)\n",
      "Requirement already satisfied, skipping upgrade: matplotlib>=2.2 in c:\\users\\wande\\anaconda3\\lib\\site-packages (from seaborn) (3.2.2)\n",
      "Requirement already satisfied, skipping upgrade: pandas>=0.23 in c:\\users\\wande\\anaconda3\\lib\\site-packages (from seaborn) (1.0.5)\n",
      "Requirement already satisfied, skipping upgrade: numpy>=1.15 in c:\\users\\wande\\anaconda3\\lib\\site-packages (from seaborn) (1.18.5)\n",
      "Requirement already satisfied, skipping upgrade: kiwisolver>=1.0.1 in c:\\users\\wande\\anaconda3\\lib\\site-packages (from matplotlib>=2.2->seaborn) (1.2.0)\n",
      "Requirement already satisfied, skipping upgrade: python-dateutil>=2.1 in c:\\users\\wande\\anaconda3\\lib\\site-packages (from matplotlib>=2.2->seaborn) (2.8.1)\n",
      "Requirement already satisfied, skipping upgrade: pyparsing!=2.0.4,!=2.1.2,!=2.1.6,>=2.0.1 in c:\\users\\wande\\anaconda3\\lib\\site-packages (from matplotlib>=2.2->seaborn) (2.4.7)\n",
      "Requirement already satisfied, skipping upgrade: cycler>=0.10 in c:\\users\\wande\\anaconda3\\lib\\site-packages (from matplotlib>=2.2->seaborn) (0.10.0)\n",
      "Requirement already satisfied, skipping upgrade: pytz>=2017.2 in c:\\users\\wande\\anaconda3\\lib\\site-packages (from pandas>=0.23->seaborn) (2020.1)\n",
      "Requirement already satisfied, skipping upgrade: six>=1.5 in c:\\users\\wande\\anaconda3\\lib\\site-packages (from python-dateutil>=2.1->matplotlib>=2.2->seaborn) (1.15.0)\n",
      "Looking in indexes: https://test.pypi.org/simple/\n",
      "Requirement already satisfied: FINITO-FEM-TOOLBOX in c:\\users\\wande\\anaconda3\\lib\\site-packages (0.0.0)\n"
     ]
    }
   ],
   "source": [
    "# Instalando as bibliotecas e atualizando \n",
    "!pip install pyDOE\n",
    "!pip install -U seaborn\n",
    "# Import MEF 1D Algorithm\n",
    "!pip install -i https://test.pypi.org/simple/ FINITO-FEM-TOOLBOX"
   ]
  },
  {
   "cell_type": "code",
   "execution_count": 2,
   "metadata": {},
   "outputs": [],
   "source": [
    "from FINITO_FEM_TOOLBOX import MEF1D\n",
    "from RASD_TOOLBOX import *\n",
    "import numpy as np"
   ]
  },
  {
   "cell_type": "code",
   "execution_count": 33,
   "metadata": {},
   "outputs": [],
   "source": [
    "PX = ['NORMAL', 500, 100]\n",
    "PY = ['NORMAL', 1000, 100]\n",
    "PZ = ['NORMAL', 3, 0.3]\n",
    "POP = [10, int(1E3), int(1E4), int(1E6)]\n",
    "\n",
    "SETUP = {'N_REP': len(POP),\n",
    "        'POP': POP,\n",
    "        'N_G': 2,\n",
    "        'D': 3,\n",
    "        'VARS': [PX, PY, PZ],\n",
    "        'MODEL': 'MCS'}"
   ]
  },
  {
   "cell_type": "code",
   "execution_count": 34,
   "metadata": {},
   "outputs": [],
   "source": [
    "def OBJ(X):\n",
    "    P_X = X[0]\n",
    "    P_Y = X[1]\n",
    "    P_Z = X[2]\n",
    "    \n",
    "    D_0 = 3\n",
    "    L = 100\n",
    "    E = 30 * 10 ** 6\n",
    "    W = 2\n",
    "    T = 4\n",
    "\n",
    "    # STATE LIMIT FUNCTION\n",
    "    \n",
    "    R_0 = P_Z\n",
    "    S_0 = (4 * L ** 3 / (E * W * T)) * (((P_Y / T ** 2) ** 2  + (P_X / W ** 2) ** 2) ** 0.5)\n",
    "    G_0 = R_0 - S_0\n",
    "\n",
    "    R_1 = P_Z * 1.10\n",
    "    S_1 = ((4 * L ** 3 / (E * W * T)) * (((P_Y / T ** 2) ** 2  + (P_X / W ** 2) ** 2) ** 0.5)) * 1.05\n",
    "    G_1 = R_1 - S_1\n",
    "\n",
    "    R = [R_0, R_1] \n",
    "    S = [S_0, S_1] \n",
    "    G = [G_0, G_1]\n",
    "\n",
    "\n",
    "    return R, S, G"
   ]
  },
  {
   "cell_type": "code",
   "execution_count": 35,
   "metadata": {},
   "outputs": [],
   "source": [
    "RESULTS_TEST = RASD_STOCHASTIC(SETUP, OBJ)"
   ]
  },
  {
   "cell_type": "code",
   "execution_count": 36,
   "metadata": {},
   "outputs": [
    {
     "data": {
      "text/plain": [
       "{'TOTAL RESULTS':                X_0          X_1       X_2       R_0       R_1       S_0  \\\n",
       " 0       591.999832   888.010592  2.726499  2.726499  2.999149  2.634404   \n",
       " 1       530.142870  1052.002162  3.685637  3.685637  4.054200  2.465810   \n",
       " 2       447.258557  1118.630620  2.955490  2.955490  3.251039  2.197887   \n",
       " 3       428.225504  1063.616951  2.620694  2.620694  2.882764  2.100273   \n",
       " 4       513.520664   941.023466  2.847579  2.847579  3.132337  2.353517   \n",
       " ...            ...          ...       ...       ...       ...       ...   \n",
       " 999995  562.244642   999.017045  3.176247  3.176247  3.493871  2.563419   \n",
       " 999996  494.153716  1093.991729  2.998323  2.998323  3.298155  2.353296   \n",
       " 999997  653.399459  1111.035753  3.311548  3.311548  3.642702  2.958277   \n",
       " 999998  491.615560   877.868720  3.169666  3.169666  3.486633  2.243245   \n",
       " 999999  553.575166  1074.458626  2.941980  2.941980  3.236178  2.563768   \n",
       " \n",
       "              S_1       G_0       G_1  I_0  I_1  \n",
       " 0       2.766125  0.092095  0.233024  1.0  1.0  \n",
       " 1       2.589101  1.219826  1.465099  1.0  1.0  \n",
       " 2       2.307781  0.757603  0.943258  1.0  1.0  \n",
       " 3       2.205287  0.520421  0.677477  1.0  1.0  \n",
       " 4       2.471193  0.494062  0.661144  1.0  1.0  \n",
       " ...          ...       ...       ...  ...  ...  \n",
       " 999995  2.691590  0.612828  0.802282  1.0  1.0  \n",
       " 999996  2.470961  0.645026  0.827194  1.0  1.0  \n",
       " 999997  3.106191  0.353270  0.536511  1.0  1.0  \n",
       " 999998  2.355407  0.926421  1.131226  1.0  1.0  \n",
       " 999999  2.691956  0.378212  0.544222  1.0  1.0  \n",
       " \n",
       " [1000000 rows x 11 columns],\n",
       " 'NUMBER OF FAILURES': [914824.0, 948758.0],\n",
       " 'PROBABILITY OF FAILURE': [0.914824, 0.948758]}"
      ]
     },
     "execution_count": 36,
     "metadata": {},
     "output_type": "execute_result"
    }
   ],
   "source": [
    "RESULTS_TEST[3]"
   ]
  },
  {
   "cell_type": "code",
   "execution_count": null,
   "metadata": {},
   "outputs": [],
   "source": [
    "RESULTS_TEST['TOTAL RESULTS']['I_0'][(RESULTS_TEST['TOTAL RESULTS']['I_0']==1)]"
   ]
  },
  {
   "cell_type": "code",
   "execution_count": null,
   "metadata": {},
   "outputs": [],
   "source": [
    "PLOT_SETUP = {'NAME': 'WANDER',\n",
    "                'WIDTH': 0.40, \n",
    "                'HEIGHT': 0.20, \n",
    "                'X AXIS LABEL': '$x_0$ - $P_X$ $lb$',\n",
    "                'X AXIS SIZE': 20,\n",
    "                'Y AXIS SIZE': 20,\n",
    "                'AXISES COLOR': '#000000',\n",
    "                'LABELS SIZE': 16,\n",
    "                'LABELS COLOR': '#000000',  \n",
    "                'CHART COLOR': '#FEB625',\n",
    "                'KDE': False,\n",
    "                'DPI': 600, \n",
    "                'BINS' : 20,\n",
    "                'EXTENSION': '.svg'}\n",
    "# RESULTS X_0 VARIABLE\n",
    "DATASET = RESULTS_TEST['TOTAL RESULTS']['X_0']      \n",
    "# CALL PLOT\n",
    "RASD_PLOT_1(DATASET, PLOT_SETUP)"
   ]
  },
  {
   "cell_type": "code",
   "execution_count": null,
   "metadata": {},
   "outputs": [],
   "source": [
    "PLOT_SETUP = {'NAME': 'WANDER',\n",
    "                'EXTENSION': '.svg',\n",
    "                'DPI': 600,\n",
    "                'WIDTH': 0.40, \n",
    "                'HEIGHT': 0.20,              \n",
    "                'X DATA': 'S_0',\n",
    "                'Y DATA': 'R_0',\n",
    "                'X AXIS SIZE': 20,\n",
    "                'Y AXIS SIZE': 20,\n",
    "                'AXISES COLOR': '#000000',\n",
    "                'X AXIS LABEL': '$S_0$',\n",
    "                'Y AXIS LABEL': '$R_0$',\n",
    "                'LABELS SIZE': 16,\n",
    "                'LABELS COLOR': '#000000',\n",
    "                'LOC LEGEND': 'lower right',\n",
    "                'TITLE LEGEND': 'Failure index ($I$):'}\n",
    "# RESULTS\n",
    "DATASET = RESULTS_TEST['TOTAL RESULTS']    \n",
    "# CALL PLOT\n",
    "RASD_PLOT_2(DATASET, PLOT_SETUP)"
   ]
  },
  {
   "cell_type": "code",
   "execution_count": null,
   "metadata": {},
   "outputs": [],
   "source": [
    "PLOT_SETUP = {'NAME': 'WANDER',\n",
    "                'EXTENSION': '.svg',\n",
    "                'DPI': 600,\n",
    "                'WIDTH': 0.20, \n",
    "                'HEIGHT': 0.10,              \n",
    "                'X DATA': 'S_0',\n",
    "                'Y DATA': 'R_0',\n",
    "                'X AXIS SIZE': 20,\n",
    "                'Y AXIS SIZE': 20,\n",
    "                'AXISES COLOR': '#000000',\n",
    "                'X AXIS LABEL': '$S_0$',\n",
    "                'Y AXIS LABEL': '$R_0$',\n",
    "                'LABELS SIZE': 16,\n",
    "                'LABELS COLOR': '#000000',\n",
    "                'C VALUE': 'G_0',\n",
    "                'TRANSPARENCY': 0.8,\n",
    "                'COLOR MAP': 'viridis'}\n",
    "# RESULTS\n",
    "DATASET = RESULTS_TEST['TOTAL RESULTS'] \n",
    "# CALL PLOT\n",
    "RASD_PLOT_3(DATASET, PLOT_SETUP)"
   ]
  },
  {
   "cell_type": "code",
   "execution_count": null,
   "metadata": {},
   "outputs": [],
   "source": [
    "plt.hist(RESULTS_TEST['TOTAL RESULTS']['R_0'], bins=50, label='a', alpha=0.5)\n",
    "plt.hist(RESULTS_TEST['TOTAL RESULTS']['S_0'], bins=50, label='b', alpha=0.5)\n"
   ]
  },
  {
   "cell_type": "code",
   "execution_count": null,
   "metadata": {},
   "outputs": [],
   "source": [
    "PLOT_SETUP = {'NAME': 'WANDER',\n",
    "                    'EXTENSION': '.svg',\n",
    "                    'DPI': 600,\n",
    "                    'WIDTH': 0.20,\n",
    "                    'HEIGHT': 0.10,\n",
    "                    'X DATA': 'S_0',\n",
    "                    'Y DATA': 'R_0',\n",
    "                    'X AXIS SIZE': 20,\n",
    "                    'Y AXIS SIZE': 20,\n",
    "                    'AXISES COLOR': '#000000',\n",
    "                    'X AXIS LABEL': '$G_0$',\n",
    "                    'Y AXIS LABEL': 'SOMATÓRIO',\n",
    "                    'LABELS SIZE': 16,\n",
    "                    'LABELS COLOR': '#000000',\n",
    "                    'C VALUE': 'G_0',\n",
    "                    'TRANSPARENCY': 0.8,\n",
    "                    'COLOR MAP': 'viridis',\n",
    "                    'BINS': '50',\n",
    "                    'ALPHA': '0.5'}\n",
    "\n",
    "# RESULTS\n",
    "DATASET = RESULTS_TEST['TOTAL RESULTS'] \n",
    "# CALL PLOT\n",
    "RASD_PLOT_4(DATASET, PLOT_SETUP)"
   ]
  },
  {
   "cell_type": "code",
   "execution_count": null,
   "metadata": {},
   "outputs": [],
   "source": []
  }
 ],
 "metadata": {
  "kernelspec": {
   "display_name": "Python 3",
   "language": "python",
   "name": "python3"
  },
  "language_info": {
   "codemirror_mode": {
    "name": "ipython",
    "version": 3
   },
   "file_extension": ".py",
   "mimetype": "text/x-python",
   "name": "python",
   "nbconvert_exporter": "python",
   "pygments_lexer": "ipython3",
   "version": "3.8.3"
  }
 },
 "nbformat": 4,
 "nbformat_minor": 4
}
