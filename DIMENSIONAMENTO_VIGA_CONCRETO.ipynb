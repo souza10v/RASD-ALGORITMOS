{
 "cells": [
  {
   "cell_type": "markdown",
   "metadata": {},
   "source": [
    "### PRÉ-DIMENSIONAMENTO DAS ESTRUTURAS DO PÓRTICO\n",
    "\n",
    "Para o pré-dimensionamento dos pilares foi empregado o método da área de influência:\n",
    "\n",
    " $$A_c=\\frac{{N_d}^\\ast}{0,85.f_{cd}+\\rho \\sigma_{s,\\varepsilon=0,2\\%}}$$ \n",
    " \n",
    "A Área de influência dos pilares do projeto é dada por:\n",
    "\n",
    "<img src=\"Ainf_pil.png\" alt=\"some text\" width=50% height=50%>\n",
    "\n",
    "-$A_1 = 3.375 m^2$\n",
    "\n",
    "Considerando uma taxa de armadura $\\rho = 2\\%$. Têm a seguinte área para os pilares da base."
   ]
  },
  {
   "cell_type": "code",
   "execution_count": 6,
   "metadata": {},
   "outputs": [
    {
     "name": "stdout",
     "output_type": "stream",
     "text": [
      "N_D:  101.0800 kN \n",
      "A_C:  94.9490 cm²\n"
     ]
    }
   ],
   "source": [
    "N_D = 72.2 * 1.4\n",
    "F_CD = 30 / 1.4 / 10\n",
    "RHO = 2 / 100\n",
    "A_C = (2.5 * N_D) / (0.85 * F_CD + RHO * 42)\n",
    "print(\"N_D: \", \"%.4f\" % N_D, \"kN\", \"\\nA_C: \", \"%.4f\" % A_C, \"cm²\")"
   ]
  },
  {
   "cell_type": "markdown",
   "metadata": {},
   "source": [
    "### DIMENSIONAMENTO DA ESTRUTURA SEGUNDO A NBR 6118\n",
    "\n",
    "Características geométricas da estrutura:\n",
    "\n",
    "- $a = 4.50$ m;\n",
    "- $b = 4.50$ m;\n",
    "- $H = 9.00$ m;\n",
    "- $h_i = 3.00$ m;\n",
    "- $\\lambda = 1.50$.\n",
    "\n",
    "Para dimensionamento da estrutura de concreto de múltiplos pavimentos é necessário prever as cargas atuantes. Para isso será empregado os valores recomendados na NBR 6120 tabelas da seção 5.4 e tabela 2.\n",
    "\n",
    "- $G_{lj} = 1.20$ kN/m²;\n",
    "- $Q_{lj} = 1.50$ kN/m²;\n",
    "- $G_{alv} = 1.70$ kN/m²;\n",
    "\n",
    "Dimensões da viga (livro Yopanan Rebello):\n",
    "\n",
    "- $b_w = 14$ cm;\n",
    "- $h = 45$ cm;\n",
    "\n",
    "Altura da alvenaria entre pavimentos:\n",
    "\n",
    "- $H_{alv} = 3.00$ m;\n",
    "\n",
    "Espessura da laje (livro Yopanan Rebello):\n",
    "\n",
    "- $h_{lj} = 12$ cm;"
   ]
  },
  {
   "cell_type": "code",
   "execution_count": 1,
   "metadata": {},
   "outputs": [],
   "source": [
    "import numpy as np\n",
    "import FINITO\n",
    "from FINITO import MEF1D\n",
    "\n",
    "# CARREGAMENTO VIGA - CONTRIBUIÇÃO CARGA ÁREA LAJE\n",
    "def SLAB_LOAD(L, H_SLAB, G_AREA, Q_AREA, A_I):\n",
    "    G_SLABDEAD = 25 * H_SLAB\n",
    "    G_LINEARDEAD = ((G_SLABDEAD + G_AREA) * A_I) / L\n",
    "    Q_LINEARLIVE = ((Q_AREA) * A_I) / L\n",
    "    return G_LINEARDEAD, Q_LINEARLIVE\n",
    "\n",
    "# CARREGAMENTO VIGA - CONTRIBUIÇÃO ALVENARIA DE VEDAÇÃO\n",
    "def WALL_DEAD_LOAD(H_WALL, G_WALL):\n",
    "    G_WALLDEAD = G_WALL * H_WALL\n",
    "    return G_WALLDEAD\n",
    "\n",
    "# CARREGAMENTO VIGA - CONTRIBUIÇÃO DO PESO PRÓPRIO\n",
    "def BEAM_DEAD_LOAD(B_W, H):\n",
    "    G_BEAMDEAD = 25 * B_W * H\n",
    "    return G_BEAMDEAD\n",
    "\n",
    "# FATOR DO AGREGADO\n",
    "def AGGREGATE(AGGREGATE_TYPE):\n",
    "    if AGGREGATE_TYPE == 0:\n",
    "        ALPHA_E = 1.20\n",
    "    elif AGGREGATE_TYPE == 1:\n",
    "        ALPHA_E = 1.00\n",
    "    elif AGGREGATE_TYPE == 2:\n",
    "        ALPHA_E = 0.90\n",
    "    elif AGGREGATE_TYPE == 3:\n",
    "        ALPHA_E = 0.70\n",
    "    return ALPHA_E\n",
    "\n",
    "# MÓDULO DE ELASTICIDADE TANGENTE DO CONCRETO\n",
    "def TANGENT_YOUNG_MODULUS(F_CK, AGGREGATE_TYPE):\n",
    "    ALPHA_E = AGGREGATE(AGGREGATE_TYPE)\n",
    "    if F_CK >= 20 and F_CK <= 50:\n",
    "        E_CI = ALPHA_E * 5600 * np.sqrt(F_CK)\n",
    "    elif F_CK > 50 and F_CK <= 90:\n",
    "        E_CI = 21.5E3 * ALPHA_E * (F_CK / 10 + 1.25) ** (1 / 3)\n",
    "    return E_CI\n",
    "\n",
    "# MÓDULO DE ELASTICIDADE SECANTE DO CONCRETO\n",
    "def SECANT_YOUNG_MODULUS(F_CK, E_CI):\n",
    "    ALPHA_I = 0.80 + 0.20 * (F_CK / 80)\n",
    "    if ALPHA_I > 1.00:\n",
    "        ALPHA_I = 1.00\n",
    "    E_CS = ALPHA_I * E_CI\n",
    "    return E_CS"
   ]
  },
  {
   "cell_type": "code",
   "execution_count": 2,
   "metadata": {},
   "outputs": [
    {
     "name": "stdout",
     "output_type": "stream",
     "text": [
      "carga permanente linear:  10.7000 kN/m \n",
      "carga variável linear:  1.5000 kN/m\n",
      "E_ci:  30672.4632 MPa \n",
      "E_cs:  26838.4053 MPa\n"
     ]
    }
   ],
   "source": [
    "# TESTE\n",
    "# ESTE PARÂMETRO É O SAMPLE QUE VÊM DO ALGORITMO DA PLATAFORMA RASD\n",
    "X = [1.2, 1.5, 30, 3, 1, 1]\n",
    "\n",
    "# ATRIBUIÇÃO DOS CARREGAMENTOS\n",
    "G_RASD = X[0]\n",
    "Q_RASD = X[1]\n",
    "\n",
    "# PARÂMETROS GEOMÉTRICOS\n",
    "L = 4.5\n",
    "H_LJ = 0.12\n",
    "A_1 = 4.5\n",
    "H_PAR = 3\n",
    "G_PAR = 1.7\n",
    "B_W = 0.14\n",
    "H = 0.40\n",
    "A_BEAM = B_W * H\n",
    "A_COLUMN = B_W * H\n",
    "\n",
    "# CARGA LINEAR NA VIGA\n",
    "# PARCELA LAJE\n",
    "[G_1, Q_1] = SLAB_LOAD(L, H_LJ, G_RASD, Q_RASD, A_1)\n",
    "# PARCELA PAREDE\n",
    "G_2 = WALL_DEAD_LOAD(H_PAR, G_PAR)\n",
    "# PARCELA PP VIGA\n",
    "G_3 = BEAM_DEAD_LOAD(B_W, H)\n",
    "# TOTAL G E Q\n",
    "G = G_1 + G_2 + G_3\n",
    "Q = Q_1\n",
    "print(\"carga permanente linear: \", \"%.4f\" % G, \"kN/m\", \"\\ncarga variável linear: \", \"%.4f\" % Q, \"kN/m\")\n",
    "\n",
    "# PARÂMETROS DE RESISTÊNCIA\n",
    "F_CK = X[2]\n",
    "F_Y = X[3]\n",
    "\n",
    "# PROP. MECÂNICAS DO CONCRETO\n",
    "E_CI = TANGENT_YOUNG_MODULUS(F_CK, 1)\n",
    "E_CS = SECANT_YOUNG_MODULUS(F_CK, E_CI)\n",
    "print(\"E_ci: \", \"%.4f\" % E_CI, \"MPa\", \"\\nE_cs: \", \"%.4f\" % E_CS, \"MPa\")"
   ]
  },
  {
   "cell_type": "code",
   "execution_count": 3,
   "metadata": {},
   "outputs": [],
   "source": [
    "STRUCTURE = {\n",
    "  \"TYPE_ELEMENT\": 0,\n",
    "  \"TYPE_SOLUTION\": 0,\n",
    "  \"N_NODES\": 23,\n",
    "  \"N_MATERIALS\": 1,\n",
    "  \"N_SECTIONS\": 3,\n",
    "  \"N_ELEMENTS\": 24,\n",
    "  \"N_DISPLACEMENTS\": 3,\n",
    "  \"N_ELEMENTSLOADED\": 0,\n",
    "  \"N_NODESLOADED\": 1,\n",
    "  \"N_SPRINGS\": 0,\n",
    "  \"COORDINATES\": \n",
    "  np.array([[0.0, 0.0],\n",
    "    [2.0, 0.0],\n",
    "    [0.0, 2.0]]),\n",
    "  \"ELEMENTS\": \n",
    "  np.array([[0, 1, 0, 0, 1, 1],\n",
    "    [1, 2, 1, 1, 1, 1],\n",
    "    [0, 2, 2, 2, 1, 1]]),\n",
    "  \"MATERIALS\": \n",
    "  np.array([[2.050E8,0.3,78600,0.000012],\n",
    "    [2.050E8,0.3,78600,0.000012],\n",
    "    [2.050E8,0.3,78600,0.000012]]),\n",
    "  \"SECTIONS\": \n",
    "  np.array([[0.0079,0.000005,0.000005,0.05,0.05],\n",
    "    [0.0079,0.000005,0.000005,0.05,0.05],\n",
    "    [0.0079,0.000005,0.000005,0.05,0.05]]),\n",
    "  \"PRESCRIBED DISPLACEMENTS\": \n",
    "  np.array([[0,0,0],\n",
    "    [0,1,0],\n",
    "    [2,0,0]]),\n",
    "  \"ELEMENT LOADS\": None,\n",
    "  \"NODAL LOADS\": \n",
    "  np.array([[1,1,-Q]]),\n",
    "  \"SPRINGS\": None}"
   ]
  },
  {
   "cell_type": "code",
   "execution_count": 4,
   "metadata": {},
   "outputs": [
    {
     "ename": "NameError",
     "evalue": "name 'TRUSS_01_G' is not defined",
     "output_type": "error",
     "traceback": [
      "\u001b[1;31m---------------------------------------------------------------------------\u001b[0m",
      "\u001b[1;31mNameError\u001b[0m                                 Traceback (most recent call last)",
      "\u001b[1;32m<ipython-input-4-d5f58b5e089c>\u001b[0m in \u001b[0;36m<module>\u001b[1;34m\u001b[0m\n\u001b[1;32m----> 1\u001b[1;33m \u001b[0mRESULTS_G\u001b[0m \u001b[1;33m=\u001b[0m \u001b[0mMEF1D\u001b[0m\u001b[1;33m(\u001b[0m\u001b[0mDICTIONARY\u001b[0m \u001b[1;33m=\u001b[0m \u001b[0mTRUSS_01_G\u001b[0m\u001b[1;33m)\u001b[0m\u001b[1;33m\u001b[0m\u001b[1;33m\u001b[0m\u001b[0m\n\u001b[0m",
      "\u001b[1;31mNameError\u001b[0m: name 'TRUSS_01_G' is not defined"
     ]
    }
   ],
   "source": [
    "RESULTS_G = MEF1D(DICTIONARY = TRUSS_01_G)"
   ]
  },
  {
   "cell_type": "code",
   "execution_count": null,
   "metadata": {},
   "outputs": [],
   "source": [
    "# ANÁLISE ESTRUTURAL CARGA G\n",
    "RESULTS_Q = MEF1D(DICTIONARY = TRUSS_01_Q)"
   ]
  },
  {
   "cell_type": "code",
   "execution_count": null,
   "metadata": {},
   "outputs": [],
   "source": []
  }
 ],
 "metadata": {
  "kernelspec": {
   "display_name": "Python 3",
   "language": "python",
   "name": "python3"
  },
  "language_info": {
   "codemirror_mode": {
    "name": "ipython",
    "version": 3
   },
   "file_extension": ".py",
   "mimetype": "text/x-python",
   "name": "python",
   "nbconvert_exporter": "python",
   "pygments_lexer": "ipython3",
   "version": "3.8.3"
  }
 },
 "nbformat": 4,
 "nbformat_minor": 4
}
