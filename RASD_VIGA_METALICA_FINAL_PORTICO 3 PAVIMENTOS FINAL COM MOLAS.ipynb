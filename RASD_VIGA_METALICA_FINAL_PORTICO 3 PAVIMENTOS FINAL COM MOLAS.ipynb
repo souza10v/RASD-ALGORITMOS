{
 "cells": [
  {
   "cell_type": "code",
   "execution_count": null,
   "metadata": {
    "scrolled": true
   },
   "outputs": [],
   "source": [
    "# Instalando e atualizando as bibliotecas necessárias\n",
    "!pip install pyDOE\n",
    "!pip install -U seaborn"
   ]
  },
  {
   "cell_type": "code",
   "execution_count": 159,
   "metadata": {},
   "outputs": [],
   "source": [
    "# Importando RASD Toolbox\n",
    "from RASD_TOOLBOX import *\n",
    "# Importando Numpy toolbox\n",
    "import numpy as np\n",
    "from VIGA_METALICA_VERIFICA import *\n",
    "from FINITO_FEM_TOOLBOX import *"
   ]
  },
  {
   "cell_type": "code",
   "execution_count": 169,
   "metadata": {},
   "outputs": [],
   "source": [
    "ELEMENTO_ANALISADO = [2,8]\n",
    "\n",
    "#150 X 18,0\n",
    "P1 = ['NORMAL', 200E9, 10E9] #E MPa              \n",
    "P2 = ['NORMAL', 250E6, 12.5E6] #Fy MPa               \n",
    "P3 = ['NORMAL', 10000, 1000] #Fy N\n",
    "P4 = ['NORMAL', 1, 0.05] #Incerteza de Modelo 1 adimensional \n",
    "P5 = ['NORMAL', 1, 0.05] #Incerteza de Modelo 2 adimensional \n",
    "P6 = ['NORMAL', 139, 2.78] #H_W mm\n",
    "P7 = ['NORMAL', 5.8, 0.116] #T_W mm\n",
    "P8 = ['NORMAL', 102, 2.04] #B_F mm \n",
    "P9 = ['NORMAL', 7.1, 0.142] #T_F mm\n",
    "P10 = ['NORMAL', 139.4, 2.788] #Z cm3\n",
    "P11 = ['NORMAL', 939, 18.78] #I cm4\n",
    "P12 = ['NORMAL', 1000000, 100000] #Mola 1 N/m\n",
    "P13 = ['NORMAL', 100000,  10000] #Mola 2 N/m\n",
    "\n",
    "POP = [10000]\n",
    "#POP = np.arange(10,1000000, 10000).tolist() # (x,y,Z); x=pop inicial; y=pop final; z=variacao pop\n",
    "\n",
    "#carta_total = carga G + carga Q\n",
    "\n",
    "SETUP = {'N_REP': len(POP),\n",
    "        'POP': POP,\n",
    "        'N_G': 3,\n",
    "        'D': 13, #variables\n",
    "        'VARS': [P1, P2, P3, P4, P5, P6, P7, P8, P9, P10, P11, P12, P13],\n",
    "        'MODEL': 'MCS'}"
   ]
  },
  {
   "cell_type": "code",
   "execution_count": 170,
   "metadata": {},
   "outputs": [],
   "source": [
    "def OBJ(X):\n",
    "    \n",
    "    E = X[0]\n",
    "    FY = X[1]\n",
    "    F1 = X[2]\n",
    "    M1 = X[3]\n",
    "    M2 = X[4]\n",
    "    H_W = X[5]\n",
    "    T_W = X[6]\n",
    "    W_C = X[7]\n",
    "    W_T = X[8]\n",
    "    Z = X[9]\n",
    "    INERCIA = X[10]\n",
    "    K1 = X[11]\n",
    "    K2 = X[12]\n",
    "    \n",
    "    M_SD = []\n",
    "    V_SD = []\n",
    "    N_SD = []\n",
    "    D_SD = []\n",
    "    L_MAX = []\n",
    "\n",
    "    # auxiliares para tranformar em metroX\n",
    "    ALFA = 0.001 #mm para m\n",
    "    BETA = 0.000001 #cm3 para m3\n",
    "    GAMMA = 0.00000001 #cm4 para m4\n",
    "    \n",
    "    VIGA = {'H_W': H_W * ALFA, #m           \n",
    "        'T_W': T_W * ALFA, #m\n",
    "        'B_F': W_C * ALFA, #m\n",
    "        'T_F': W_T * ALFA, #m\n",
    "        'PARAMETRO_PERFIL': 'DUPLA SIMETRIA', #\"DUPLA SIMETRIA, MONO SIMETRIA \"\n",
    "        'TIPO_PERFIL': 'LAMINADO', #\"SOLDADO, LAMINADO \"\n",
    "        'GAMMA_A1': 1.1,\n",
    "        'Z': Z * BETA, #m3\n",
    "        'INERCIA':INERCIA * GAMMA, #m4   \n",
    "        'E_S': E , #Pa \n",
    "        'F_Y': FY} #N\n",
    "    \n",
    "    AREA = 2 * (VIGA['T_F'] * VIGA['B_F']) + (VIGA['T_W'] * VIGA['H_W']) #m2\n",
    "    X_GC =  VIGA['B_F'] / 2 #m\n",
    "    Y_GC = (( VIGA['T_F'] * 2) + VIGA['H_W']) / 2 #m\n",
    "    \n",
    "    FRAME_00 = {\n",
    "        \"TYPE_ELEMENT\": 0,\n",
    "        \"TYPE_SOLUTION\": 0,\n",
    "        \"N_NODES\": 26,\n",
    "        \"N_MATERIALS\": 1,\n",
    "        \"N_SECTIONS\": 1,\n",
    "        \"N_ELEMENTS\": 27,\n",
    "        \"N_DOFPRESCRIPTIONS\": 4,\n",
    "        \"N_DOFLOADED\": 24,\n",
    "        \"N_DOFSPRINGS\": 2,\n",
    "        \"COORDINATES\": #X,Y\n",
    "        np.array([\n",
    "        [0.0,0.0],\n",
    "        [5.25,0.0],\n",
    "        [0.0,3.0],\n",
    "        [0.75,3.0],\n",
    "        [1.5,3.0],\n",
    "        [2.25,3.0],\n",
    "        [3.0,3.0],\n",
    "        [3.75,3.0],\n",
    "        [4.5,3.0],\n",
    "        [5.25,3.0],\n",
    "        [0.0,6.0],\n",
    "        [0.75,6.0],\n",
    "        [1.5,6.0],\n",
    "        [2.25,6.0],\n",
    "        [3.0,6.0],\n",
    "        [3.75,6.0],\n",
    "        [4.5,6.0],\n",
    "        [5.25,6.0],\n",
    "        [0.0,9.0],\n",
    "        [0.75,9.0],\n",
    "        [1.5,9.0],\n",
    "        [2.25,9.0],\n",
    "        [3.0,9.0],\n",
    "        [3.75,9.0],\n",
    "        [4.5,9.0],\n",
    "        [5.25,9.0]]),\n",
    "\n",
    "        \"ELEMENTS\": #NODE 1,NODE 2,MATERIAL ID,SECTION ID,HINGE ID NODE 1,HINGE ID NODE 2\n",
    "        np.array([\n",
    "        [0,2,0,0,0,0],\n",
    "        [1,9,0,0,0,0],\n",
    "        [2,3,0,0,0,0],\n",
    "        [3,4,0,0,0,0],\n",
    "        [4,5,0,0,0,0],\n",
    "        [5,6,0,0,0,0],\n",
    "        [6,7,0,0,0,0],\n",
    "        [7,8,0,0,0,0],\n",
    "        [8,9,0,0,0,0],\n",
    "        [2,10,0,0,0,0],\n",
    "        [9,17,0,0,0,0],\n",
    "        [10,11,0,0,0,0],\n",
    "        [11,12,0,0,0,0],\n",
    "        [12,13,0,0,0,0],\n",
    "        [13,14,0,0,0,0],\n",
    "        [14,15,0,0,0,0],\n",
    "        [15,16,0,0,0,0],\n",
    "        [16,17,0,0,0,0],\n",
    "        [10,18,0,0,0,0],\n",
    "        [17,25,0,0,0,0],\n",
    "        [18,19,0,0,0,0],\n",
    "        [19,20,0,0,0,0],\n",
    "        [20,21,0,0,0,0],\n",
    "        [21,22,0,0,0,0],\n",
    "        [22,23,0,0,0,0],\n",
    "        [23,24,0,0,0,0],\n",
    "        [24,25,0,0,0,0]]),\n",
    "\n",
    "        \"MATERIALS\": #YOUNG, POISSON,DENSITY, THERMAL COEFFICIENT\n",
    "        np.array([[VIGA['E_S'], 1, 1, 1E-8]]),\n",
    "        #np.array([[200E9,1,1,1E-8]]),\n",
    "        \"SECTIONS\": #AREA, INERTIA 1, INERTIA 2, X GC,Y GC\n",
    "        np.array([[AREA , VIGA['INERCIA'], VIGA['INERCIA'], X_GC, X_GC]]),\n",
    "        #np.array([[0.0450,0.000377,0.000377,0.075,0.15]]),\n",
    "        \"PRESCRIBED DISPLACEMENTS\": #NODE,DIRECTION(X=0,Y=1,Z=2),VALUE\n",
    "        np.array([\n",
    "        [0,0,0],\n",
    "        #[0,1,0],\n",
    "        [0,2,0],\n",
    "        [1,0,0],\n",
    "        #[1,1,0],\n",
    "        [1,2,0]]),\n",
    "        \"ELEMENT LOADS\": None,\n",
    "        \"NODAL LOADS\":  #NODE,DIRECTION(X=0,Y=1,Z=2),VALUE\n",
    "        np.array([\n",
    "        [2,1,-F1,0],\n",
    "        [3,1,-F1,0],\n",
    "        [4,1,-F1,0],\n",
    "        [5,1,-F1,0],\n",
    "        [6,1,-F1,0],\n",
    "        [7,1,-F1,0],\n",
    "        [8,1,-F1,0],\n",
    "        [9,1,-F1,0],\n",
    "        [10,1,-F1,0],\n",
    "        [11,1,-F1,0],\n",
    "        [12,1,-F1,0],\n",
    "        [13,1,-F1,0],\n",
    "        [14,1,-F1,0],\n",
    "        [15,1,-F1,0],\n",
    "        [16,1,-F1,0],\n",
    "        [17,1,-F1,0],\n",
    "        [18,1,-F1,0],\n",
    "        [19,1,-F1,0],\n",
    "        [20,1,-F1,0],\n",
    "        [21,1,-F1,0],\n",
    "        [22,1,-F1,0],\n",
    "        [23,1,-F1,0],\n",
    "        [24,1,-F1,0],\n",
    "        [25,1,-F1,0]]),\n",
    "        \"SPRINGS\":  #NODE,DIRECTION(X=0,Y=1,Z=2),VALUE\n",
    "        np.array([\n",
    "        [0,1,K1,0],\n",
    "        [1,1,K2,0]])}\n",
    "\n",
    "    FRAME_00_RESULTS = MEF1D(DICTIONARY = FRAME_00)  \n",
    "    \n",
    "    ELEMENT = pd.DataFrame(FRAME_00_RESULTS[ELEMENTO_ANALISADO[0]:ELEMENTO_ANALISADO[1]]) \n",
    "        \n",
    "    for i in range(len(ELEMENT)): \n",
    "        M_SD.append(max(ELEMENT['M'][i].max(),abs(ELEMENT['M'][i].min())))\n",
    "        V_SD.append(max(ELEMENT['V'][i].max(),abs(ELEMENT['V'][i].min())))\n",
    "        N_SD.append(max(ELEMENT['N'][i].max(),abs(ELEMENT['N'][i].min())))\n",
    "        D_SD.append(min(ELEMENT['UX'][i].max(),abs(ELEMENT['UX'][i].min())))\n",
    "        #L_MAX.append(ELEMENT['X'][i].max())\n",
    "        \n",
    "    M_SD = max(M_SD)\n",
    "    V_SD = max(V_SD)\n",
    "    N_SD = max(N_SD)\n",
    "    D_SD = min(D_SD)   \n",
    "    L_MAX = FRAME_00['COORDINATES'][1][0]\n",
    "           \n",
    "    ESFORCOS = {'M_SD': M_SD,\n",
    "                'V_SD': V_SD,\n",
    "                'D_SD': D_SD,\n",
    "                'L_MAX': L_MAX}\n",
    "    \n",
    "    R_0, S_0 = VERIFICACAO_VIGA_METALICA_MOMENTO_FLETOR(VIGA, ESFORCOS) \n",
    "    G_0 = -M1 * R_0 + M2 * S_0\n",
    "\n",
    "    R_1, S_1 = VERIFICACAO_VIGA_METALICA_ESFORCO_CORTANTE(VIGA, ESFORCOS)\n",
    "    G_1 = -M1 * R_1 + M2 * S_1\n",
    "    \n",
    "    R_2, S_2 = VERIFICACAO_VIGA_METALICA_DEFORMACAO(VIGA, ESFORCOS)\n",
    "    G_2 = -M1 * R_2 + M2 * S_2\n",
    "    \n",
    "    R = [R_0, R_1, R_2] \n",
    "    S = [S_0, S_1, S_2] \n",
    "    G = [G_0, G_1, G_2]\n",
    "    \n",
    "    return R, S, G"
   ]
  },
  {
   "cell_type": "code",
   "execution_count": 171,
   "metadata": {},
   "outputs": [],
   "source": [
    "RESULTS_TEST = RASD_STOCHASTIC(SETUP, OBJ)"
   ]
  },
  {
   "cell_type": "code",
   "execution_count": 176,
   "metadata": {},
   "outputs": [
    {
     "data": {
      "text/plain": [
       "0       31986.921851\n",
       "1       35168.616151\n",
       "2       30220.955579\n",
       "3       30190.088270\n",
       "4       29647.940228\n",
       "            ...     \n",
       "9995    34733.449730\n",
       "9996    35404.243900\n",
       "9997    33545.758790\n",
       "9998    27120.052858\n",
       "9999    32503.673080\n",
       "Name: R_0, Length: 10000, dtype: float64"
      ]
     },
     "execution_count": 176,
     "metadata": {},
     "output_type": "execute_result"
    }
   ],
   "source": [
    "RESULTS_TEST[0]['TOTAL RESULTS']['R_0']"
   ]
  },
  {
   "cell_type": "code",
   "execution_count": 177,
   "metadata": {},
   "outputs": [],
   "source": [
    "DADOS = RESULTS_TEST[0]['TOTAL RESULTS']"
   ]
  },
  {
   "cell_type": "code",
   "execution_count": 178,
   "metadata": {},
   "outputs": [
    {
     "data": {
      "text/plain": [
       "10000.0"
      ]
     },
     "execution_count": 178,
     "metadata": {},
     "output_type": "execute_result"
    }
   ],
   "source": [
    "DADOS['I_0'].sum()"
   ]
  },
  {
   "cell_type": "code",
   "execution_count": 175,
   "metadata": {},
   "outputs": [],
   "source": [
    "DADOS = RESULTS_TEST[len(POP)-1]['TOTAL RESULTS'] #USAR QUANDO HOUVEREM VARIAS SIMULACOES"
   ]
  },
  {
   "cell_type": "code",
   "execution_count": 179,
   "metadata": {},
   "outputs": [
    {
     "name": "stderr",
     "output_type": "stream",
     "text": [
      "C:\\Users\\Donizetti\\anaconda3\\lib\\site-packages\\seaborn\\_decorators.py:36: FutureWarning: Pass the following variable as a keyword arg: x. From version 0.12, the only valid positional argument will be `data`, and passing other arguments without an explicit keyword will result in an error or misinterpretation.\n",
      "  warnings.warn(\n"
     ]
    },
    {
     "data": {
      "image/png": "[encoded data removed]",
      "text/plain": [
       "<Figure size 1133.86x566.929 with 2 Axes>"
      ]
     },
     "metadata": {},
     "output_type": "display_data"
    }
   ],
   "source": [
    "OPCOES_GRAFICAS = {'NAME': 'WANDER',\n",
    "                'WIDTH': 0.40, \n",
    "                'HEIGHT': 0.20, \n",
    "                'X AXIS SIZE': 20,\n",
    "                'Y AXIS SIZE': 20,\n",
    "                'AXISES COLOR': '#000000',\n",
    "                'X AXIS LABEL': '$x_0$ - $P_X (lb)$',\n",
    "                'LABELS SIZE': 16,\n",
    "                'LABELS COLOR': '#000000',  \n",
    "                'CHART COLOR': '#FEB625',\n",
    "                'KDE': False,\n",
    "                'DPI': 600, \n",
    "                'BINS' : 20,\n",
    "                'EXTENSION': '.svg'}\n",
    "# RESULTS X_0 VARIABLE\n",
    "OPCOES_DADOS = {'DATASET': DADOS, 'COLUMN': 'X_0'}      \n",
    "# CALL PLOT\n",
    "RASD_PLOT_1(OPCOES_DADOS, OPCOES_GRAFICAS)"
   ]
  },
  {
   "cell_type": "code",
   "execution_count": null,
   "metadata": {},
   "outputs": [],
   "source": [
    "OPCOES_GRAFICAS = {'NAME': 'WANDER',\n",
    "                'EXTENSION': '.svg',\n",
    "                'DPI': 600,\n",
    "                'WIDTH': 0.300, \n",
    "                'HEIGHT': 0.150,              \n",
    "                'X DATA': 'S_0',\n",
    "                'Y DATA': 'R_0',\n",
    "                'X AXIS SIZE': 16,\n",
    "                'Y AXIS SIZE': 16,\n",
    "                'AXISES COLOR': '#000000',\n",
    "                'X AXIS LABEL': '$S_0$',\n",
    "                'Y AXIS LABEL': '$R_0$',\n",
    "                'LABELS SIZE': 18,\n",
    "                'LABELS COLOR': '#000000',\n",
    "                'LOC LEGEND': 'lower right',\n",
    "                'TITLE LEGEND': 'Failure index ($I$):'}\n",
    "# RESULTS\n",
    "OPCOES_DADOS = {'DATASET': DADOS, 'X DATA': 'S_0', 'Y DATA': 'R_0', 'HUE VALUE': 'I_0'}    \n",
    "# CALL PLOT\n",
    "RASD_PLOT_2(OPCOES_DADOS, OPCOES_GRAFICAS)"
   ]
  },
  {
   "cell_type": "code",
   "execution_count": null,
   "metadata": {
    "scrolled": true
   },
   "outputs": [],
   "source": [
    "OPCOES_GRAFICAS = {'NAME': 'WANDER',\n",
    "                'EXTENSION': '.svg',\n",
    "                'DPI': 600,\n",
    "                'WIDTH': 0.20, \n",
    "                'HEIGHT': 0.10,              \n",
    "                'X DATA': 'S_0',\n",
    "                'Y DATA': 'R_0',\n",
    "                'X AXIS SIZE': 20,\n",
    "                'Y AXIS SIZE': 20,\n",
    "                'AXISES COLOR': '#000000',\n",
    "                'X AXIS LABEL': '$S_0$',\n",
    "                'Y AXIS LABEL': '$R_0$',\n",
    "                'LABELS SIZE': 16,\n",
    "                'LABELS COLOR': '#000000',\n",
    "                'G VALUE': 'G_0',\n",
    "                'TRANSPARENCY': 0.8,\n",
    "                'COLOR MAP': 'viridis'}\n",
    "\n",
    "\n",
    "# RESULTS\n",
    "OPCOES_DADOS = {'DATASET': DADOS, 'X DATA': 'S_0', 'Y DATA': 'R_0', 'G VALUE': 'G_0'}       \n",
    "\n",
    "# CALL PLOT\n",
    "RASD_PLOT_3(OPCOES_DADOS, OPCOES_GRAFICAS)"
   ]
  },
  {
   "cell_type": "code",
   "execution_count": null,
   "metadata": {},
   "outputs": [],
   "source": [
    "OPCOES_GRAFICAS = {'NAME': 'WANDER',\n",
    "                    'EXTENSION': '.svg',\n",
    "                    'DPI': 600,\n",
    "                    'WIDTH': 0.20,\n",
    "                    'HEIGHT': 0.10,\n",
    "                    'X DATA': 'S_0',\n",
    "                    'Y DATA': 'R_0',\n",
    "                    'X AXIS SIZE': 20,\n",
    "                    'Y AXIS SIZE': 20,\n",
    "                    'AXISES COLOR': '#00000',\n",
    "                    'X AXIS LABEL': '$Z_0$',\n",
    "                    'Y AXIS LABEL': 'Frequência',\n",
    "                    'LABELS SIZE': 16,\n",
    "                    'LABELS COLOR': '#000000',\n",
    "                    'C VALUE': 'G_0',\n",
    "                    'TRANSPARENCY': 0.8,\n",
    "                    'COLOR MAP': 'viridis',\n",
    "                    'BINS': '50',\n",
    "                    'ALPHA': '0.5'}\n",
    "\n",
    "# RESULTS\n",
    "OPCOES_DADOS = {'DATASET': DADOS, 'X DATA': 'R_0', 'Y DATA': 'S_0', 'G VALUE': 'G_0'}         \n",
    "\n",
    "# CALL PLOT\n",
    "RASD_PLOT_4(OPCOES_DADOS, OPCOES_GRAFICAS)"
   ]
  },
  {
   "cell_type": "code",
   "execution_count": 71,
   "metadata": {},
   "outputs": [
    {
     "data": {
      "image/png": "[encoded data removed]",
      "text/plain": [
       "<Figure size 566.929x283.465 with 1 Axes>"
      ]
     },
     "metadata": {},
     "output_type": "display_data"
    }
   ],
   "source": [
    "OPCOES_GRAFICAS = {'NAME': 'WANDER',\n",
    "                    'EXTENSION': '.svg',\n",
    "                    'DPI': 600,\n",
    "                    'WIDTH': 0.20,\n",
    "                    'HEIGHT': 0.10,\n",
    "                    'X AXIS SIZE': 20,\n",
    "                    'Y AXIS SIZE': 20,\n",
    "                    'AXISES COLOR': '#000000',\n",
    "                    'X AXIS LABEL': 'Número de Simulações (ns)',\n",
    "                    'Y AXIS LABEL': 'Probabilidade de Falha',\n",
    "                    'LABELS SIZE': 16,\n",
    "                    'LABELS COLOR': '#000000',\n",
    "                    'CHART COLOR': 'black',\n",
    "                    'POPULATION' : POP,\n",
    "                    'TYPE' : 'pf'}\n",
    "\n",
    "# RESULTS\n",
    "OPCOES_DADOS = {'DATASET': RESULTS_TEST}       \n",
    "\n",
    "# CALL PLOT\n",
    "RASD_PLOT_5(OPCOES_DADOS, OPCOES_GRAFICAS)"
   ]
  },
  {
   "cell_type": "code",
   "execution_count": null,
   "metadata": {},
   "outputs": [],
   "source": [
    "OPCOES_GRAFICAS = {'NAME': 'WANDER',\n",
    "                    'EXTENSION': '.svg',\n",
    "                    'DPI': 600,\n",
    "                    'WIDTH': 0.20,\n",
    "                    'HEIGHT': 0.10,\n",
    "                    'X AXIS SIZE': 20,\n",
    "                    'Y AXIS SIZE': 20,\n",
    "                    'AXISES COLOR': '#000000',\n",
    "                    'X AXIS LABEL': 'Número de Simulações (ns)',\n",
    "                    'Y AXIS LABEL': 'Beta',\n",
    "                    'LABELS SIZE': 16,\n",
    "                    'LABELS COLOR': '#000000',\n",
    "                    'CHART COLOR': 'black',\n",
    "                    'POPULATION' : POP,\n",
    "                    'TYPE' : 'beta'}\n",
    "\n",
    "# RESULTS\n",
    "OPCOES_DADOS = {'DATASET': RESULTS_TEST}       \n",
    "\n",
    "# CALL PLOT\n",
    "RASD_PLOT_5(OPCOES_DADOS, OPCOES_GRAFICAS)"
   ]
  },
  {
   "cell_type": "code",
   "execution_count": 48,
   "metadata": {},
   "outputs": [
    {
     "data": {
      "text/plain": [
       "170282.19981351495"
      ]
     },
     "execution_count": 48,
     "metadata": {},
     "output_type": "execute_result"
    }
   ],
   "source": [
    " A = [-91687.92803007364,\n",
    " -12132.89606705308,\n",
    " 58047.135892510414,\n",
    " 118852.16785293818,\n",
    " 170282.19981351495,\n",
    " -212337.23177555203]\n",
    "\n",
    " b = [1,23,45]\n",
    "\n",
    " max(A)"
   ]
  }
 ],
 "metadata": {
  "kernelspec": {
   "display_name": "Python 3",
   "language": "python",
   "name": "python3"
  },
  "language_info": {
   "codemirror_mode": {
    "name": "ipython",
    "version": 3
   },
   "file_extension": ".py",
   "mimetype": "text/x-python",
   "name": "python",
   "nbconvert_exporter": "python",
   "pygments_lexer": "ipython3",
   "version": "3.8.8"
  }
 },
 "nbformat": 4,
 "nbformat_minor": 4
}
