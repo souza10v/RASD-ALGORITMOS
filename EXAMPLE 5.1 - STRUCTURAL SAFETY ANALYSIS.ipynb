{
 "cells": [
  {
   "cell_type": "code",
   "execution_count": null,
   "metadata": {
    "scrolled": true
   },
   "outputs": [],
   "source": [
    "# Instalando e atualizando as bibliotecas necessárias\n",
    "!pip install pyDOE\n",
    "!pip install -U seaborn"
   ]
  },
  {
   "cell_type": "code",
   "execution_count": 10,
   "metadata": {},
   "outputs": [],
   "source": [
    "# Importando RASD Toolbox\n",
    "from RASD_TOOLBOX import *\n",
    "# Importando Numpy toolbox\n",
    "import numpy as n\n",
    "import pandas as pd"
   ]
  },
  {
   "cell_type": "code",
   "execution_count": 11,
   "metadata": {},
   "outputs": [],
   "source": [
    "w = ['NORMAL', 0.25, 0.025]\n",
    "P = ['NORMAL', 10.2, 1.12]\n",
    "Fy = ['NORMAL', 40.3, 4.64]\n",
    "\n",
    "POP = [1000]\n",
    "\n",
    "#POP = np.arange(10,1000000, 10000).tolist() # (x,y,Z); x=pop inicial; y=pop final; z=variacao pop\n",
    "\n",
    "SETUP = {'N_REP': len(POP),\n",
    "        'POP': POP,\n",
    "        'N_G': 1,\n",
    "        'D': 3,\n",
    "        'VARS': [w, P, Fy],\n",
    "        'MODEL': 'MCS'}"
   ]
  },
  {
   "cell_type": "code",
   "execution_count": 12,
   "metadata": {},
   "outputs": [],
   "source": [
    "def OBJ(X):\n",
    "        \n",
    "    w = X[0]\n",
    "    P = X[1]\n",
    "    Fy = X[2]\n",
    "    \n",
    "    \n",
    "    # STATE LIMIT FUNCTION\n",
    "    \n",
    "    R_0 = 80 * Fy\n",
    "    S_0 = 54 * P + 5832 * w\n",
    "    G_0 = S_0 - R_0\n",
    "\n",
    "    R = [R_0] \n",
    "    S = [S_0] \n",
    "    G = [G_0]\n",
    "\n",
    "   # p2 = P.tolist()\n",
    "    #df = pd.DataFrame([P])\n",
    "\n",
    "    #print(df[0])\n",
    "    \n",
    "    return R, S, G"
   ]
  },
  {
   "cell_type": "code",
   "execution_count": 13,
   "metadata": {},
   "outputs": [
    {
     "name": "stdout",
     "output_type": "stream",
     "text": [
      "<class 'numpy.ndarray'>\n",
      "[[ 0.23889834 10.54552132 41.34440118]\n",
      " [ 0.25491819  8.40948386 36.52759451]\n",
      " [ 0.26063071 10.58980274 36.22736595]\n",
      " ...\n",
      " [ 0.25439158 10.19485931 45.71983677]\n",
      " [ 0.24137969  9.1202238  37.38042918]\n",
      " [ 0.24514103 13.70541905 38.93336927]]\n"
     ]
    }
   ],
   "source": [
    "RESULTS_TEST = RASD_STOCHASTIC(SETUP, OBJ)"
   ]
  },
  {
   "cell_type": "code",
   "execution_count": 14,
   "metadata": {},
   "outputs": [
    {
     "data": {
      "text/html": [
       "<div>\n",
       "<style scoped>\n",
       "    .dataframe tbody tr th:only-of-type {\n",
       "        vertical-align: middle;\n",
       "    }\n",
       "\n",
       "    .dataframe tbody tr th {\n",
       "        vertical-align: top;\n",
       "    }\n",
       "\n",
       "    .dataframe thead th {\n",
       "        text-align: right;\n",
       "    }\n",
       "</style>\n",
       "<table border=\"1\" class=\"dataframe\">\n",
       "  <thead>\n",
       "    <tr style=\"text-align: right;\">\n",
       "      <th></th>\n",
       "      <th>X_0</th>\n",
       "      <th>X_1</th>\n",
       "      <th>X_2</th>\n",
       "      <th>R_0</th>\n",
       "      <th>S_0</th>\n",
       "      <th>G_0</th>\n",
       "      <th>I_0</th>\n",
       "    </tr>\n",
       "  </thead>\n",
       "  <tbody>\n",
       "    <tr>\n",
       "      <th>0</th>\n",
       "      <td>0.238898</td>\n",
       "      <td>10.545521</td>\n",
       "      <td>41.344401</td>\n",
       "      <td>3307.552095</td>\n",
       "      <td>1962.713276</td>\n",
       "      <td>-1344.838818</td>\n",
       "      <td>0.0</td>\n",
       "    </tr>\n",
       "    <tr>\n",
       "      <th>1</th>\n",
       "      <td>0.254918</td>\n",
       "      <td>8.409484</td>\n",
       "      <td>36.527595</td>\n",
       "      <td>2922.207560</td>\n",
       "      <td>1940.795021</td>\n",
       "      <td>-981.412540</td>\n",
       "      <td>0.0</td>\n",
       "    </tr>\n",
       "    <tr>\n",
       "      <th>2</th>\n",
       "      <td>0.260631</td>\n",
       "      <td>10.589803</td>\n",
       "      <td>36.227366</td>\n",
       "      <td>2898.189276</td>\n",
       "      <td>2091.847668</td>\n",
       "      <td>-806.341608</td>\n",
       "      <td>0.0</td>\n",
       "    </tr>\n",
       "    <tr>\n",
       "      <th>3</th>\n",
       "      <td>0.254451</td>\n",
       "      <td>9.893139</td>\n",
       "      <td>38.565571</td>\n",
       "      <td>3085.245719</td>\n",
       "      <td>2018.186735</td>\n",
       "      <td>-1067.058985</td>\n",
       "      <td>0.0</td>\n",
       "    </tr>\n",
       "    <tr>\n",
       "      <th>4</th>\n",
       "      <td>0.215570</td>\n",
       "      <td>9.607569</td>\n",
       "      <td>39.125966</td>\n",
       "      <td>3130.077276</td>\n",
       "      <td>1776.014834</td>\n",
       "      <td>-1354.062442</td>\n",
       "      <td>0.0</td>\n",
       "    </tr>\n",
       "    <tr>\n",
       "      <th>...</th>\n",
       "      <td>...</td>\n",
       "      <td>...</td>\n",
       "      <td>...</td>\n",
       "      <td>...</td>\n",
       "      <td>...</td>\n",
       "      <td>...</td>\n",
       "      <td>...</td>\n",
       "    </tr>\n",
       "    <tr>\n",
       "      <th>995</th>\n",
       "      <td>0.303103</td>\n",
       "      <td>8.752220</td>\n",
       "      <td>39.749906</td>\n",
       "      <td>3179.992512</td>\n",
       "      <td>2240.317221</td>\n",
       "      <td>-939.675291</td>\n",
       "      <td>0.0</td>\n",
       "    </tr>\n",
       "    <tr>\n",
       "      <th>996</th>\n",
       "      <td>0.271843</td>\n",
       "      <td>9.750210</td>\n",
       "      <td>43.759889</td>\n",
       "      <td>3500.791149</td>\n",
       "      <td>2111.896788</td>\n",
       "      <td>-1388.894360</td>\n",
       "      <td>0.0</td>\n",
       "    </tr>\n",
       "    <tr>\n",
       "      <th>997</th>\n",
       "      <td>0.254392</td>\n",
       "      <td>10.194859</td>\n",
       "      <td>45.719837</td>\n",
       "      <td>3657.586941</td>\n",
       "      <td>2034.134091</td>\n",
       "      <td>-1623.452851</td>\n",
       "      <td>0.0</td>\n",
       "    </tr>\n",
       "    <tr>\n",
       "      <th>998</th>\n",
       "      <td>0.241380</td>\n",
       "      <td>9.120224</td>\n",
       "      <td>37.380429</td>\n",
       "      <td>2990.434335</td>\n",
       "      <td>1900.218426</td>\n",
       "      <td>-1090.215909</td>\n",
       "      <td>0.0</td>\n",
       "    </tr>\n",
       "    <tr>\n",
       "      <th>999</th>\n",
       "      <td>0.245141</td>\n",
       "      <td>13.705419</td>\n",
       "      <td>38.933369</td>\n",
       "      <td>3114.669541</td>\n",
       "      <td>2169.755092</td>\n",
       "      <td>-944.914449</td>\n",
       "      <td>0.0</td>\n",
       "    </tr>\n",
       "  </tbody>\n",
       "</table>\n",
       "<p>1000 rows × 7 columns</p>\n",
       "</div>"
      ],
      "text/plain": [
       "          X_0        X_1        X_2          R_0          S_0          G_0  \\\n",
       "0    0.238898  10.545521  41.344401  3307.552095  1962.713276 -1344.838818   \n",
       "1    0.254918   8.409484  36.527595  2922.207560  1940.795021  -981.412540   \n",
       "2    0.260631  10.589803  36.227366  2898.189276  2091.847668  -806.341608   \n",
       "3    0.254451   9.893139  38.565571  3085.245719  2018.186735 -1067.058985   \n",
       "4    0.215570   9.607569  39.125966  3130.077276  1776.014834 -1354.062442   \n",
       "..        ...        ...        ...          ...          ...          ...   \n",
       "995  0.303103   8.752220  39.749906  3179.992512  2240.317221  -939.675291   \n",
       "996  0.271843   9.750210  43.759889  3500.791149  2111.896788 -1388.894360   \n",
       "997  0.254392  10.194859  45.719837  3657.586941  2034.134091 -1623.452851   \n",
       "998  0.241380   9.120224  37.380429  2990.434335  1900.218426 -1090.215909   \n",
       "999  0.245141  13.705419  38.933369  3114.669541  2169.755092  -944.914449   \n",
       "\n",
       "     I_0  \n",
       "0    0.0  \n",
       "1    0.0  \n",
       "2    0.0  \n",
       "3    0.0  \n",
       "4    0.0  \n",
       "..   ...  \n",
       "995  0.0  \n",
       "996  0.0  \n",
       "997  0.0  \n",
       "998  0.0  \n",
       "999  0.0  \n",
       "\n",
       "[1000 rows x 7 columns]"
      ]
     },
     "execution_count": 14,
     "metadata": {},
     "output_type": "execute_result"
    }
   ],
   "source": [
    "RESULTS_TEST[len(POP)-1]['TOTAL RESULTS']"
   ]
  },
  {
   "cell_type": "code",
   "execution_count": 15,
   "metadata": {},
   "outputs": [],
   "source": [
    "DADOS = RESULTS_TEST[len(POP)-1]['TOTAL RESULTS']"
   ]
  },
  {
   "cell_type": "code",
   "execution_count": 20,
   "metadata": {},
   "outputs": [
    {
     "data": {
      "text/plain": [
       "0.0"
      ]
     },
     "execution_count": 20,
     "metadata": {},
     "output_type": "execute_result"
    }
   ],
   "source": [
    "RESULTS_TEST[len(POP)-1]['TOTAL RESULTS']['I_0'].sum()"
   ]
  },
  {
   "cell_type": "code",
   "execution_count": 16,
   "metadata": {},
   "outputs": [
    {
     "name": "stderr",
     "output_type": "stream",
     "text": [
      "C:\\Users\\Donizetti\\anaconda3\\lib\\site-packages\\seaborn\\_decorators.py:36: FutureWarning: Pass the following variable as a keyword arg: x. From version 0.12, the only valid positional argument will be `data`, and passing other arguments without an explicit keyword will result in an error or misinterpretation.\n",
      "  warnings.warn(\n"
     ]
    },
    {
     "data": {
      "image/png": "[encoded data removed]",
      "text/plain": [
       "<Figure size 1133.86x566.929 with 2 Axes>"
      ]
     },
     "metadata": {},
     "output_type": "display_data"
    }
   ],
   "source": [
    "OPCOES_GRAFICAS = {'NAME': 'WANDER',\n",
    "                'WIDTH': 0.40, \n",
    "                'HEIGHT': 0.20, \n",
    "                'X AXIS SIZE': 18,\n",
    "                'Y AXIS SIZE': 18,\n",
    "                'AXISES COLOR': '#000000',\n",
    "                'X AXIS LABEL': ' $w$ (k/in)',\n",
    "                'LABELS SIZE': 20,\n",
    "                'LABELS COLOR': '#000000',  \n",
    "                'CHART COLOR': '#FEB625',\n",
    "                'KDE': False,\n",
    "                'DPI': 600, \n",
    "                'BINS' : 18,\n",
    "                'EXTENSION': '.svg'}\n",
    "# RESULTS X_0 VARIABLE\n",
    "OPCOES_DADOS = {'DATASET': DADOS, 'COLUMN': 'X_0'}      \n",
    "# CALL PLOT\n",
    "RASD_PLOT_1(OPCOES_DADOS, OPCOES_GRAFICAS)"
   ]
  },
  {
   "cell_type": "code",
   "execution_count": null,
   "metadata": {},
   "outputs": [],
   "source": [
    "OPCOES_GRAFICAS = {'NAME': 'WANDER',\n",
    "                'EXTENSION': '.svg',\n",
    "                'DPI': 600,\n",
    "                'WIDTH': 0.300, \n",
    "                'HEIGHT': 0.150,              \n",
    "                'X DATA': 'S_0',\n",
    "                'Y DATA': 'R_0',\n",
    "                'X AXIS SIZE': 16,\n",
    "                'Y AXIS SIZE': 16,\n",
    "                'AXISES COLOR': '#000000',\n",
    "                'X AXIS LABEL': '$S_0$',\n",
    "                'Y AXIS LABEL': '$R_0$',\n",
    "                'LABELS SIZE': 18,\n",
    "                'LABELS COLOR': '#000000',\n",
    "                'LOC LEGEND': 'lower right',\n",
    "                'TITLE LEGEND': 'Índice de falha (I):'}\n",
    "# RESULTS\n",
    "OPCOES_DADOS = {'DATASET': DADOS, 'X DATA': 'S_0', 'Y DATA': 'R_0', 'HUE VALUE': 'I_0'}    \n",
    "# CALL PLOT\n",
    "RASD_PLOT_2(OPCOES_DADOS, OPCOES_GRAFICAS)"
   ]
  },
  {
   "cell_type": "code",
   "execution_count": null,
   "metadata": {
    "scrolled": true
   },
   "outputs": [],
   "source": [
    "OPCOES_GRAFICAS = {'NAME': 'WANDER',\n",
    "                'EXTENSION': '.svg',\n",
    "                'DPI': 600,\n",
    "                'WIDTH': 0.20, \n",
    "                'HEIGHT': 0.10,              \n",
    "                'X DATA': 'S_0',\n",
    "                'Y DATA': 'R_0',\n",
    "                'X AXIS SIZE': 16,\n",
    "                'Y AXIS SIZE': 16,\n",
    "                'AXISES COLOR': '#000000',\n",
    "                'X AXIS LABEL': '$S_0$',\n",
    "                'Y AXIS LABEL': '$R_0$',\n",
    "                'LABELS SIZE': 18,\n",
    "                'LABELS COLOR': '#000000',\n",
    "                'G VALUE': 'G_0',\n",
    "                'TRANSPARENCY': 0.8,\n",
    "                'COLOR MAP': 'viridis'}\n",
    "\n",
    "\n",
    "# RESULTS\n",
    "OPCOES_DADOS = {'DATASET': DADOS, 'X DATA': 'S_0', 'Y DATA': 'R_0', 'G VALUE': 'G_0'}       \n",
    "\n",
    "# CALL PLOT\n",
    "RASD_PLOT_3(OPCOES_DADOS, OPCOES_GRAFICAS)"
   ]
  },
  {
   "cell_type": "code",
   "execution_count": 22,
   "metadata": {},
   "outputs": [
    {
     "data": {
      "image/png": "[encoded data removed]",
      "text/plain": [
       "<Figure size 566.929x283.465 with 1 Axes>"
      ]
     },
     "metadata": {},
     "output_type": "display_data"
    }
   ],
   "source": [
    "OPCOES_GRAFICAS = {'NAME': 'WANDER',\n",
    "                    'EXTENSION': '.svg',\n",
    "                    'DPI': 600,\n",
    "                    'WIDTH': 0.20,\n",
    "                    'HEIGHT': 0.10,\n",
    "                    'X DATA': 'S_0',\n",
    "                    'Y DATA': 'R_0',\n",
    "                    'X AXIS SIZE': 20,\n",
    "                    'Y AXIS SIZE': 20,\n",
    "                    'AXISES COLOR': '#00000',\n",
    "                    'X AXIS LABEL': '$Z_0$',\n",
    "                    'Y AXIS LABEL': 'Frequência',\n",
    "                    'LABELS SIZE': 16,\n",
    "                    'LABELS COLOR': '#000000',\n",
    "                    'C VALUE': 'G_0',\n",
    "                    'TRANSPARENCY': 0.8,\n",
    "                    'COLOR MAP': 'viridis',\n",
    "                    'BINS': '50',\n",
    "                    'ALPHA': '0.5'}\n",
    "\n",
    "# RESULTS\n",
    "OPCOES_DADOS = {'DATASET': DADOS, 'X DATA': 'R_0', 'Y DATA': 'S_0', 'G VALUE': 'G_0'}       \n",
    "\n",
    "# CALL PLOT\n",
    "RASD_PLOT_4(OPCOES_DADOS, OPCOES_GRAFICAS)"
   ]
  },
  {
   "cell_type": "code",
   "execution_count": null,
   "metadata": {},
   "outputs": [],
   "source": [
    "OPCOES_GRAFICAS = {'NAME': 'WANDER',\n",
    "                    'EXTENSION': '.svg',\n",
    "                    'DPI': 600,\n",
    "                    'WIDTH': 0.20,\n",
    "                    'HEIGHT': 0.10,\n",
    "                    'X AXIS SIZE': 20,\n",
    "                    'Y AXIS SIZE': 20,\n",
    "                    'AXISES COLOR': '#000000',\n",
    "                    'X AXIS LABEL': 'Número de Simulações (ns)',\n",
    "                    'Y AXIS LABEL': 'Beta',\n",
    "                    'LABELS SIZE': 16,\n",
    "                    'LABELS COLOR': '#000000',\n",
    "                    'CHART COLOR': 'blue',\n",
    "                    'POPULATION' : POP,\n",
    "                    'TYPE' : 'pf'}\n",
    "\n",
    "# RESULTS\n",
    "OPCOES_DADOS = {'DATASET': RESULTS_TEST}       \n",
    "\n",
    "# CALL PLOT\n",
    "RASD_PLOT_5(OPCOES_DADOS, OPCOES_GRAFICAS)"
   ]
  },
  {
   "cell_type": "code",
   "execution_count": null,
   "metadata": {},
   "outputs": [],
   "source": [
    "max(POP)"
   ]
  },
  {
   "cell_type": "code",
   "execution_count": null,
   "metadata": {},
   "outputs": [],
   "source": [
    "plt.plot( pd.Series(range(0,len(RESULTS_TEST[0]['TOTAL RESULTS']))), RESULTS_TEST[0]['TOTAL RESULTS']['I_0'], color='blue')"
   ]
  },
  {
   "cell_type": "code",
   "execution_count": null,
   "metadata": {},
   "outputs": [],
   "source": [
    "#MESMO DATAFRAME\n",
    "Bf = [ ]\n",
    "Af = [ ]\n",
    "c = 100\n",
    "BETA_DF = pd.read_csv('RASD_TOOLBOX/beta_df.txt', delimiter = \";\",  names = ['PF' ,'BETA'])\n",
    "\n",
    "for i in POP:\n",
    "   Af.append((RESULTS_TEST[len(POP)-1]['TOTAL RESULTS']['I_0'].head(i).sum())/max(POP)) # soma valores anteriores de I_0 e calcula PF\n",
    "\n",
    "df = pd.DataFrame(Af,columns=['Pf']) #converte para DF\n",
    "\n",
    "for i in range(len(POP)): #Salva os valores em um DF a cada 100 valores\n",
    "    Bf.append((BETA_DF['PF'].sub(Af[i]).abs().idxmin())/1000)\n",
    "  \n",
    "plt.plot(POP, Bf, color='blue')\n",
    "\n",
    "#plt.plot( pd.Series(range(0,len(RESULTS_TEST[0]['TOTAL RESULTS']),c)), Bf, color='blue')\n",
    "\n",
    "#plt.plot( pd.Series(range(0,len(RESULTS_TEST[0]['TOTAL RESULTS']))), RESULTS_TEST[0]['TOTAL RESULTS']['I_0'], color='blue')"
   ]
  },
  {
   "cell_type": "code",
   "execution_count": null,
   "metadata": {},
   "outputs": [],
   "source": [
    "plt.plot(POP, Af, color='blue')"
   ]
  },
  {
   "cell_type": "code",
   "execution_count": null,
   "metadata": {},
   "outputs": [],
   "source": [
    "PF_AUX = []\n",
    "BETA_AUX = []\n",
    "\n",
    "for i in range (len(POP)):\n",
    "    PF_AUX.append(RESULTS_TEST[i]['PROBABILITY OF FAILURE'][0])\n",
    "    BETA_AUX.append(RESULTS_TEST[i]['BETA INDEX'][0])\n",
    "\n",
    "plt.plot(POP, PF_AUX, color='blue')"
   ]
  },
  {
   "cell_type": "code",
   "execution_count": null,
   "metadata": {},
   "outputs": [],
   "source": [
    "plt.plot(POP, BETA_AUX, color='blue')"
   ]
  }
 ],
 "metadata": {
  "kernelspec": {
   "display_name": "Python 3",
   "language": "python",
   "name": "python3"
  },
  "language_info": {
   "codemirror_mode": {
    "name": "ipython",
    "version": 3
   },
   "file_extension": ".py",
   "mimetype": "text/x-python",
   "name": "python",
   "nbconvert_exporter": "python",
   "pygments_lexer": "ipython3",
   "version": "3.8.8"
  }
 },
 "nbformat": 4,
 "nbformat_minor": 4
}
