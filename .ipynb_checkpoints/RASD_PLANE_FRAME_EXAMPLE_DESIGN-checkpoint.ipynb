{
 "cells": [
  {
   "cell_type": "code",
   "execution_count": null,
   "metadata": {
    "scrolled": true
   },
   "outputs": [],
   "source": [
    "# Instalando as bibliotecas e atualizando \n",
    "!pip install pyDOE\n",
    "!pip install -U seaborn\n",
    "# Import MEF 1D Algorithm\n",
    "!pip install -i https://test.pypi.org/simple/ FINITO-FEM-TOOLBOX\n"
   ]
  },
  {
   "cell_type": "code",
   "execution_count": 19,
   "metadata": {},
   "outputs": [],
   "source": [
    "from FINITO_FEM_TOOLBOX import MEF1D\n",
    "from RASD_TOOLBOX import RASD_STOCHASTIC\n",
    "import numpy as np"
   ]
  },
  {
   "cell_type": "code",
   "execution_count": 20,
   "metadata": {},
   "outputs": [],
   "source": [
    "P2Y = ['NORMAL', 15000, 2500]\n",
    "P3Y = ['NORMAL', 20000, 4500]\n",
    "POP = [10, 10]\n",
    "\n",
    "SETUP = {'N_REP': len(POP),\n",
    "        'POP': POP,\n",
    "        'N_G': 1,\n",
    "        'D': 2,\n",
    "        'VARS': [P2Y, P3Y],\n",
    "        'MODEL': 'MCS'}\n"
   ]
  },
  {
   "cell_type": "code",
   "execution_count": 22,
   "metadata": {},
   "outputs": [
    {
     "ename": "NameError",
     "evalue": "name 'FINITO' is not defined",
     "output_type": "error",
     "traceback": [
      "\u001b[1;31m---------------------------------------------------------------------------\u001b[0m",
      "\u001b[1;31mNameError\u001b[0m                                 Traceback (most recent call last)",
      "\u001b[1;32m<ipython-input-22-2afa33d4ef90>\u001b[0m in \u001b[0;36m<module>\u001b[1;34m\u001b[0m\n\u001b[0;32m    119\u001b[0m   }\n\u001b[0;32m    120\u001b[0m \u001b[1;33m\u001b[0m\u001b[0m\n\u001b[1;32m--> 121\u001b[1;33m \u001b[0mFRAME_00_RESULTS\u001b[0m \u001b[1;33m=\u001b[0m \u001b[0mFINITO\u001b[0m\u001b[1;33m.\u001b[0m\u001b[0mMEF1D\u001b[0m\u001b[1;33m(\u001b[0m\u001b[0mDICTIONARY\u001b[0m \u001b[1;33m=\u001b[0m \u001b[0mEXEMPLO_DONIZETTI\u001b[0m\u001b[1;33m)\u001b[0m\u001b[1;33m\u001b[0m\u001b[1;33m\u001b[0m\u001b[0m\n\u001b[0m\u001b[0;32m    122\u001b[0m \u001b[0mFRAME_00_BAR_0\u001b[0m \u001b[1;33m=\u001b[0m \u001b[0mFRAME_00_RESULTS\u001b[0m\u001b[1;33m[\u001b[0m\u001b[1;36m0\u001b[0m\u001b[1;33m]\u001b[0m\u001b[1;33m\u001b[0m\u001b[1;33m\u001b[0m\u001b[0m\n\u001b[0;32m    123\u001b[0m \u001b[0mAXIAL_FORCE_LIST_BAR_0\u001b[0m \u001b[1;33m=\u001b[0m \u001b[0mFRAME_00_BAR_0\u001b[0m\u001b[1;33m[\u001b[0m\u001b[1;34m'N'\u001b[0m\u001b[1;33m]\u001b[0m\u001b[1;33m\u001b[0m\u001b[1;33m\u001b[0m\u001b[0m\n",
      "\u001b[1;31mNameError\u001b[0m: name 'FINITO' is not defined"
     ]
    }
   ],
   "source": [
    "\n",
    "def OBJ(X):\n",
    "    P2Y = X[0]\n",
    "    P3Y = X[1]\n",
    "\n",
    "    # Dataset\n",
    "\n",
    "    FRAME_00 = {\n",
    "  \"TYPE_ELEMENT\": 0,\n",
    "  \"TYPE_SOLUTION\": 0,\n",
    "  \"N_NODES\": 26,\n",
    "  \"N_MATERIALS\": 1,\n",
    "  \"N_SECTIONS\": 1,\n",
    "  \"N_ELEMENTS\": 27,\n",
    "  \"N_DISPLACEMENTS\": 6,\n",
    "  \"N_ELEMENTSLOADED\": 0,\n",
    "  \"N_NODESLOADED\": 18,\n",
    "  \"N_SPRINGS\": 0,\n",
    "  \"COORDINATES\": #X,Y\n",
    "  np.array([\n",
    "    [0.0,0.0],\n",
    "    [5.25,0.0],\n",
    "    [0.0,3.0],\n",
    "    [0.75,3.0],\n",
    "    [1.5,3.0],\n",
    "    [2.25,3.0],\n",
    "    [3.0,3.0],\n",
    "    [3.75,3.0],\n",
    "    [4.5,3.0],\n",
    "    [5.25,3.0],\n",
    "    [0.0,6.0],\n",
    "    [0.75,6.0],\n",
    "    [1.5,6.0],\n",
    "    [2.25,6.0],\n",
    "    [3.0,6.0],\n",
    "    [3.75,6.0],\n",
    "    [4.5,6.0],\n",
    "    [5.25,6.0],\n",
    "    [0.0,9.0],\n",
    "    [0.75,9.0],\n",
    "    [1.5,9.0],\n",
    "    [2.25,9.0],\n",
    "    [3.0,9.0],\n",
    "    [3.75,9.0],\n",
    "    [4.5,9.0],\n",
    "    [5.25,9.0]]),\n",
    "\n",
    "  \"ELEMENTS\": #NODE 1,NODE 2,MATERIAL ID,SECTION ID,HINGE ID NODE 1,HINGE ID NODE 2\n",
    "  np.array([\n",
    "    [1,3,0,0,0,0],\n",
    "    [2,10,0,0,0,0],\n",
    "    [3,4,0,0,0,0],\n",
    "    [4,5,0,0,0,0],\n",
    "    [5,6,0,0,0,0],\n",
    "    [6,7,0,0,0,0],\n",
    "    [7,8,0,0,0,0],\n",
    "    [8,9,0,0,0,0],\n",
    "    [9,10,0,0,0,0],\n",
    "    [3,11,0,0,0,0],\n",
    "    [10,18,0,0,0,0],\n",
    "    [11,12,0,0,0,0],\n",
    "    [12,13,0,0,0,0],\n",
    "    [13,14,0,0,0,0],\n",
    "    [14,15,0,0,0,0],\n",
    "    [15,16,0,0,0,0],\n",
    "    [16,17,0,0,0,0],\n",
    "    [17,18,0,0,0,0],\n",
    "    [11,19,0,0,0,0],\n",
    "    [18,26,0,0,0,0],\n",
    "    [19,20,0,0,0,0],\n",
    "    [20,21,0,0,0,0],\n",
    "    [21,22,0,0,0,0],\n",
    "    [22,23,0,0,0,0],\n",
    "    [23,24,0,0,0,0],\n",
    "    [24,25,0,0,0,0],\n",
    "    [25,26,0,0,0,0]]),\n",
    "\n",
    "  \"MATERIALS\": #YOUNG,POISSON,DENSITY,THERMAL COEFFICIENT\n",
    "  np.array([\n",
    "    [200E9,1,1,1E-8]]),\n",
    "  \"SECTIONS\": #AREA,INERTIA 1,INERTIA 2,X GC,Y GC\n",
    "  np.array([\n",
    "    [0.0450,0.000337,0.000337,0.075,0.15]]),\n",
    "  \"PRESCRIBED DISPLACEMENTS\": #NODE,DIRECTION(X=0,Y=1,Z=2),VALUE\n",
    "  np.array([\n",
    "    [0,0,0],\n",
    "    [0,1,0],\n",
    "    [0,2,0],\n",
    "    [1,0,0],\n",
    "    [1,1,0],\n",
    "    [1,2,0]]),\n",
    "  \"ELEMENT LOADS\": None,\n",
    "  \"NODAL LOADS\":  #NODE,DIRECTION(X=0,Y=1,Z=2),VALUE\n",
    "  np.array([\n",
    "     [3,0,-10000,0],\n",
    "    [4,0,-10000,0],\n",
    "    [5,0,-10000,0],\n",
    "    [6,0,-10000,0],\n",
    "    [7,0,-10000,0],\n",
    "    [8,0,-10000,0],\n",
    "    [9,0,-10000,0],\n",
    "    [10,0,-10000,0],\n",
    "    [11,0,-10000,0],\n",
    "    [12,0,-10000,0],\n",
    "    [13,0,-10000,0],\n",
    "    [14,0,-10000,0],\n",
    "    [15,0,-10000,0],\n",
    "    [16,0,-10000,0],\n",
    "    [17,0,-10000,0],\n",
    "    [18,0,-10000,0],\n",
    "    [19,0,-10000,0],\n",
    "    [20,0,-10000,0],\n",
    "    [21,0,-10000,0],\n",
    "    [22,0,-10000,0],\n",
    "    [23,0,-10000,0],\n",
    "    [24,0,-10000,0],\n",
    "    [25,0,-10000,0],\n",
    "    [26,0,-10000,0]]),\n",
    "  \"SPRINGS\": None,\n",
    "  }\n",
    "\n",
    "FRAME_00_RESULTS = MEF1D(DICTIONARY = FRAME_00)\n",
    "FRAME_00_BAR_0 = FRAME_00_RESULTS[0]\n",
    "AXIAL_FORCE_LIST_BAR_0 = FRAME_00_BAR_0['N']\n",
    "N = AXIAL_FORCE_LIST_BAR_0[5]    \n",
    "\n",
    "\n",
    "\n",
    "S_1 = np.abs(N)\n",
    "R_1 = 143E3\n",
    "    \n",
    "# STATE LIMIT FUNCTION\n",
    " \n",
    "G_0 = R_1 - S_1\n",
    "R = [R_1] \n",
    "S = [S_1] \n",
    "G = [G_0]\n",
    "\n",
    "return R, S, Gv"
   ]
  },
  {
   "cell_type": "code",
   "execution_count": 6,
   "metadata": {},
   "outputs": [],
   "source": [
    "RESULTS_TEST = RASD_STOCHASTIC(SETUP, OBJ)"
   ]
  },
  {
   "cell_type": "code",
   "execution_count": 7,
   "metadata": {},
   "outputs": [
    {
     "data": {
      "text/plain": [
       "[{'TOTAL RESULTS':             X_0           X_1       R_0            S_0          G_0  I_0\n",
       "  0  12947.616257  23023.461620  143000.0  143865.032361  -865.032361  0.0\n",
       "  1  13213.110625  24465.157874  143000.0  144488.350074 -1488.350074  0.0\n",
       "  2  10686.399155  18204.023109  143000.0  140877.275118  2122.724882  1.0\n",
       "  3  14492.102407  30573.512584  143000.0  147228.999626 -4228.999626  0.0\n",
       "  4  15716.500124  10750.176523  143000.0  141878.515923  1121.484077  1.0\n",
       "  5  12394.303843  12144.851715  143000.0  140121.087538  2878.912462  1.0\n",
       "  6  13047.861697  18875.790357  143000.0  142642.489197   357.510803  1.0\n",
       "  7  17220.530472  15912.435438  143000.0  144473.671653 -1473.671653  0.0\n",
       "  8  13452.160741  23428.193366  143000.0  144323.820443 -1323.820443  0.0\n",
       "  9  17237.564025  21004.107630  143000.0  146066.593493 -3066.593493  0.0,\n",
       "  'NUMBER OF FAILURES': [4.0],\n",
       "  'PROBABILITY OF FAILURE': [0.4]},\n",
       " {'TOTAL RESULTS':             X_0           X_1       R_0            S_0          G_0  I_0\n",
       "  0  14367.252162  21288.681266  143000.0  144262.406496 -1262.406496  0.0\n",
       "  1  17177.174133  15507.695189  143000.0  144319.514628 -1319.514628  0.0\n",
       "  2   9870.347007  21675.243554  143000.0  141417.411630  1582.588370  1.0\n",
       "  3  14824.272610  18837.662398  143000.0  143802.394006  -802.394006  0.0\n",
       "  4  12946.242978  19693.230399  143000.0  142829.985216   170.014784  1.0\n",
       "  5  15700.790842  16212.847151  143000.0  143564.610375  -564.610375  0.0\n",
       "  6  18659.006833  15751.100631  143000.0  145372.500738 -2372.500738  0.0\n",
       "  7  16011.115925  12767.128785  143000.0  142699.565999   300.434001  1.0\n",
       "  8  16109.829112  15216.905072  143000.0  143524.910129  -524.910129  0.0\n",
       "  9  14214.482333  10912.320807  143000.0  140938.456866  2061.543134  1.0,\n",
       "  'NUMBER OF FAILURES': [4.0],\n",
       "  'PROBABILITY OF FAILURE': [0.4]}]"
      ]
     },
     "execution_count": 7,
     "metadata": {},
     "output_type": "execute_result"
    }
   ],
   "source": [
    "RESULTS_TEST"
   ]
  },
  {
   "cell_type": "code",
   "execution_count": 8,
   "metadata": {},
   "outputs": [
    {
     "ename": "NameError",
     "evalue": "name 'FRAME_00' is not defined",
     "output_type": "error",
     "traceback": [
      "\u001b[1;31m---------------------------------------------------------------------------\u001b[0m",
      "\u001b[1;31mNameError\u001b[0m                                 Traceback (most recent call last)",
      "\u001b[1;32m<ipython-input-8-65604804abdc>\u001b[0m in \u001b[0;36m<module>\u001b[1;34m\u001b[0m\n\u001b[1;32m----> 1\u001b[1;33m \u001b[0mFRAME_00_RESULTS\u001b[0m \u001b[1;33m=\u001b[0m \u001b[0mMEF1D\u001b[0m\u001b[1;33m(\u001b[0m\u001b[0mDICTIONARY\u001b[0m \u001b[1;33m=\u001b[0m \u001b[0mFRAME_00\u001b[0m\u001b[1;33m)\u001b[0m\u001b[1;33m\u001b[0m\u001b[1;33m\u001b[0m\u001b[0m\n\u001b[0m\u001b[0;32m      2\u001b[0m \u001b[0mFRAME_00_RESULTS\u001b[0m\u001b[1;33m\u001b[0m\u001b[1;33m\u001b[0m\u001b[0m\n",
      "\u001b[1;31mNameError\u001b[0m: name 'FRAME_00' is not defined"
     ]
    }
   ],
   "source": [
    "FRAME_00_RESULTS = MEF1D(DICTIONARY = FRAME_00)\n",
    "FRAME_00_RESULTS"
   ]
  },
  {
   "cell_type": "code",
   "execution_count": 9,
   "metadata": {},
   "outputs": [
    {
     "ename": "NameError",
     "evalue": "name 'FRAME_00_RESULTS' is not defined",
     "output_type": "error",
     "traceback": [
      "\u001b[1;31m---------------------------------------------------------------------------\u001b[0m",
      "\u001b[1;31mNameError\u001b[0m                                 Traceback (most recent call last)",
      "\u001b[1;32m<ipython-input-9-4701bdc44000>\u001b[0m in \u001b[0;36m<module>\u001b[1;34m\u001b[0m\n\u001b[1;32m----> 1\u001b[1;33m \u001b[0mFRAME_00_BAR_2\u001b[0m \u001b[1;33m=\u001b[0m \u001b[0mFRAME_00_RESULTS\u001b[0m\u001b[1;33m[\u001b[0m\u001b[1;36m2\u001b[0m\u001b[1;33m]\u001b[0m\u001b[1;33m\u001b[0m\u001b[1;33m\u001b[0m\u001b[0m\n\u001b[0m\u001b[0;32m      2\u001b[0m \u001b[0mFRAME_00_BAR_2\u001b[0m\u001b[1;33m\u001b[0m\u001b[1;33m\u001b[0m\u001b[0m\n",
      "\u001b[1;31mNameError\u001b[0m: name 'FRAME_00_RESULTS' is not defined"
     ]
    }
   ],
   "source": [
    "FRAME_00_BAR_2 = FRAME_00_RESULTS[2] \n",
    "FRAME_00_BAR_2"
   ]
  },
  {
   "cell_type": "code",
   "execution_count": 18,
   "metadata": {},
   "outputs": [
    {
     "ename": "TypeError",
     "evalue": "list indices must be integers or slices, not str",
     "output_type": "error",
     "traceback": [
      "\u001b[1;31m---------------------------------------------------------------------------\u001b[0m",
      "\u001b[1;31mTypeError\u001b[0m                                 Traceback (most recent call last)",
      "\u001b[1;32m<ipython-input-18-a4c6ceee510f>\u001b[0m in \u001b[0;36m<module>\u001b[1;34m\u001b[0m\n\u001b[1;32m----> 1\u001b[1;33m \u001b[0mRESULTS_TEST\u001b[0m\u001b[1;33m[\u001b[0m\u001b[1;34m'TOTAL RESULTS'\u001b[0m\u001b[1;33m]\u001b[0m\u001b[1;33m\u001b[0m\u001b[1;33m\u001b[0m\u001b[0m\n\u001b[0m",
      "\u001b[1;31mTypeError\u001b[0m: list indices must be integers or slices, not str"
     ]
    }
   ],
   "source": [
    "RESULTS_TEST['TOTAL RESULTS']"
   ]
  },
  {
   "cell_type": "code",
   "execution_count": 17,
   "metadata": {},
   "outputs": [
    {
     "ename": "TypeError",
     "evalue": "list indices must be integers or slices, not str",
     "output_type": "error",
     "traceback": [
      "\u001b[1;31m---------------------------------------------------------------------------\u001b[0m",
      "\u001b[1;31mTypeError\u001b[0m                                 Traceback (most recent call last)",
      "\u001b[1;32m<ipython-input-17-75ba98c8d421>\u001b[0m in \u001b[0;36m<module>\u001b[1;34m\u001b[0m\n\u001b[1;32m----> 1\u001b[1;33m \u001b[0mWANDER\u001b[0m \u001b[1;33m=\u001b[0m \u001b[0mRESULTS_TEST\u001b[0m\u001b[1;33m[\u001b[0m\u001b[1;34m'TOTAL RESULTS'\u001b[0m\u001b[1;33m]\u001b[0m\u001b[1;33m\u001b[0m\u001b[1;33m\u001b[0m\u001b[0m\n\u001b[0m",
      "\u001b[1;31mTypeError\u001b[0m: list indices must be integers or slices, not str"
     ]
    }
   ],
   "source": [
    "WANDER = RESULTS_TEST['TOTAL RESULTS']"
   ]
  },
  {
   "cell_type": "code",
   "execution_count": 10,
   "metadata": {},
   "outputs": [
    {
     "ename": "NameError",
     "evalue": "name 'WANDER' is not defined",
     "output_type": "error",
     "traceback": [
      "\u001b[1;31m---------------------------------------------------------------------------\u001b[0m",
      "\u001b[1;31mNameError\u001b[0m                                 Traceback (most recent call last)",
      "\u001b[1;32m<ipython-input-10-681482304e2f>\u001b[0m in \u001b[0;36m<module>\u001b[1;34m\u001b[0m\n\u001b[0;32m     16\u001b[0m                 'TITLE LEGEND': 'Failure index ($I$):'}\n\u001b[0;32m     17\u001b[0m \u001b[1;31m# RESULTS\u001b[0m\u001b[1;33m\u001b[0m\u001b[1;33m\u001b[0m\u001b[1;33m\u001b[0m\u001b[0m\n\u001b[1;32m---> 18\u001b[1;33m \u001b[0mDATASET\u001b[0m \u001b[1;33m=\u001b[0m  \u001b[0mWANDER\u001b[0m\u001b[1;33m\u001b[0m\u001b[1;33m\u001b[0m\u001b[0m\n\u001b[0m\u001b[0;32m     19\u001b[0m \u001b[1;31m# CALL PLOT\u001b[0m\u001b[1;33m\u001b[0m\u001b[1;33m\u001b[0m\u001b[1;33m\u001b[0m\u001b[0m\n\u001b[0;32m     20\u001b[0m \u001b[0mRASD_PLOT_2\u001b[0m\u001b[1;33m(\u001b[0m\u001b[0mDATASET\u001b[0m\u001b[1;33m,\u001b[0m \u001b[0mPLOT_SETUP\u001b[0m\u001b[1;33m)\u001b[0m\u001b[1;33m\u001b[0m\u001b[1;33m\u001b[0m\u001b[0m\n",
      "\u001b[1;31mNameError\u001b[0m: name 'WANDER' is not defined"
     ]
    }
   ],
   "source": [
    "PLOT_SETUP = {'NAME': 'WANDER',\n",
    "                'EXTENSION': '.svg',\n",
    "                'DPI': 600,\n",
    "                'WIDTH': 0.40, \n",
    "                'HEIGHT': 0.20,              \n",
    "                'X DATA': 'S_0',\n",
    "                'Y DATA': 'R_0',\n",
    "                'X AXIS SIZE': 20,\n",
    "                'Y AXIS SIZE': 20,\n",
    "                'AXISES COLOR': '#000000',\n",
    "                'X AXIS LABEL': '$S_0$',\n",
    "                'Y AXIS LABEL': '$R_0$',\n",
    "                'LABELS SIZE': 16,\n",
    "                'LABELS COLOR': '#000000',\n",
    "                'LOC LEGEND': 'lower right',\n",
    "                'TITLE LEGEND': 'Failure index ($I$):'}\n",
    "# RESULTS\n",
    "DATASET =  WANDER     \n",
    "# CALL PLOT\n",
    "RASD_PLOT_2(DATASET, PLOT_SETUP)"
   ]
  }
 ],
 "metadata": {
  "kernelspec": {
   "display_name": "Python 3",
   "language": "python",
   "name": "python3"
  },
  "language_info": {
   "codemirror_mode": {
    "name": "ipython",
    "version": 3
   },
   "file_extension": ".py",
   "mimetype": "text/x-python",
   "name": "python",
   "nbconvert_exporter": "python",
   "pygments_lexer": "ipython3",
   "version": "3.8.8"
  }
 },
 "nbformat": 4,
 "nbformat_minor": 4
}
