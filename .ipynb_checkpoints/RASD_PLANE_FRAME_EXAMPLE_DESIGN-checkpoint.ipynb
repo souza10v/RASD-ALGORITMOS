{
 "cells": [
  {
   "cell_type": "code",
   "execution_count": 1,
   "metadata": {
    "scrolled": true
   },
   "outputs": [
    {
     "name": "stdout",
     "output_type": "stream",
     "text": [
      "Requirement already satisfied: pyDOE in c:\\users\\donizetti\\anaconda3\\lib\\site-packages (0.3.8)\n",
      "Requirement already satisfied: numpy in c:\\users\\donizetti\\anaconda3\\lib\\site-packages (from pyDOE) (1.20.1)\n",
      "Requirement already satisfied: scipy in c:\\users\\donizetti\\anaconda3\\lib\\site-packages (from pyDOE) (1.6.2)\n",
      "Requirement already satisfied: seaborn in c:\\users\\donizetti\\anaconda3\\lib\\site-packages (0.11.1)\n",
      "Requirement already satisfied: pandas>=0.23 in c:\\users\\donizetti\\anaconda3\\lib\\site-packages (from seaborn) (1.2.4)\n",
      "Requirement already satisfied: matplotlib>=2.2 in c:\\users\\donizetti\\anaconda3\\lib\\site-packages (from seaborn) (3.3.4)\n",
      "Requirement already satisfied: scipy>=1.0 in c:\\users\\donizetti\\anaconda3\\lib\\site-packages (from seaborn) (1.6.2)\n",
      "Requirement already satisfied: numpy>=1.15 in c:\\users\\donizetti\\anaconda3\\lib\\site-packages (from seaborn) (1.20.1)\n",
      "Requirement already satisfied: pyparsing!=2.0.4,!=2.1.2,!=2.1.6,>=2.0.3 in c:\\users\\donizetti\\anaconda3\\lib\\site-packages (from matplotlib>=2.2->seaborn) (2.4.7)\n",
      "Requirement already satisfied: pillow>=6.2.0 in c:\\users\\donizetti\\anaconda3\\lib\\site-packages (from matplotlib>=2.2->seaborn) (8.2.0)\n",
      "Requirement already satisfied: python-dateutil>=2.1 in c:\\users\\donizetti\\anaconda3\\lib\\site-packages (from matplotlib>=2.2->seaborn) (2.8.1)\n",
      "Requirement already satisfied: cycler>=0.10 in c:\\users\\donizetti\\anaconda3\\lib\\site-packages (from matplotlib>=2.2->seaborn) (0.10.0)\n",
      "Requirement already satisfied: kiwisolver>=1.0.1 in c:\\users\\donizetti\\anaconda3\\lib\\site-packages (from matplotlib>=2.2->seaborn) (1.3.1)\n",
      "Requirement already satisfied: six in c:\\users\\donizetti\\anaconda3\\lib\\site-packages (from cycler>=0.10->matplotlib>=2.2->seaborn) (1.15.0)\n",
      "Requirement already satisfied: pytz>=2017.3 in c:\\users\\donizetti\\anaconda3\\lib\\site-packages (from pandas>=0.23->seaborn) (2021.1)\n",
      "Looking in indexes: https://test.pypi.org/simple/\n",
      "Requirement already satisfied: FINITO-FEM-TOOLBOX in c:\\users\\donizetti\\anaconda3\\lib\\site-packages (0.0.0)\n"
     ]
    }
   ],
   "source": [
    "# Instalando as bibliotecas e atualizando \n",
    "!pip install pyDOE\n",
    "!pip install -U seaborn\n",
    "# Import MEF 1D Algorithm\n",
    "!pip install -i https://test.pypi.org/simple/ FINITO-FEM-TOOLBOX\n",
    "from FINITO_FEM_TOOLBOX import MEF1D\n",
    "from RASD_TOOLBOX import RASD_STOCHASTIC\n",
    "import numpy as np"
   ]
  },
  {
   "cell_type": "code",
   "execution_count": 2,
   "metadata": {},
   "outputs": [],
   "source": [
    "P2Y = ['NORMAL', 15000, 2500]\n",
    "P3Y = ['NORMAL', 20000, 4500]\n",
    "\n",
    "SETUP = {'REPETITIONS': 1,\n",
    "        'TOTAL SAMPLING': 10,\n",
    "        'TOTAL G FUNCTIONS': 1,\n",
    "        'TOTAL DESIGN VARIABLES': 2,\n",
    "        'VARS': [P2Y, P3Y],\n",
    "        'MODEL': 'MCS'}"
   ]
  },
  {
   "cell_type": "code",
   "execution_count": 7,
   "metadata": {},
   "outputs": [],
   "source": [
    "def OBJ(X):\n",
    "    P2Y = X[0]\n",
    "    P3Y = X[1]\n",
    "    # Dataset\n",
    "    FRAME_00 = {\"TYPE_ELEMENT\": 0,\n",
    "              \"TYPE_SOLUTION\": 0,\n",
    "              \"N_NODES\": 6,\n",
    "              \"N_MATERIALS\": 1,\n",
    "              \"N_SECTIONS\": 1,\n",
    "              \"N_ELEMENTS\": 5,\n",
    "              \"N_DOFPRESCRIPTIONS\": 5,\n",
    "              \"N_DOFLOADED\": 3,\n",
    "              \"N_DOFSPRINGS\": 0,\n",
    "              \"COORDINATES\": \n",
    "              np.array([[0.0,0.0],\n",
    "                [0.0,3.0],\n",
    "                [1.0,3.0],\n",
    "                [2.0,3.0],\n",
    "                [3.0,3.0],\n",
    "                [3.0,0.0]]),\n",
    "              \"ELEMENTS\": \n",
    "              np.array([[0,1,0,0,0,0],\n",
    "                [1,2,0,0,0,0],\n",
    "                [2,3,0,0,0,0],\n",
    "                [3,4,0,0,0,0],\n",
    "                [4,5,0,0,0,0]]),\n",
    "              \"MATERIALS\": \n",
    "              np.array([[24E9,0.20,7800.0,1E-8]]),\n",
    "              \"SECTIONS\": \n",
    "              np.array([\n",
    "                [0.08,-1989,0.001067,-1989,-1989]]),\n",
    "              \"PRESCRIBED DISPLACEMENTS\": \n",
    "              np.array([[0,0,0],\n",
    "                [0,1,0],\n",
    "                [0,2,0],\n",
    "                [5,0,0],\n",
    "                [5,1,-0.10]]),\n",
    "              \"ELEMENT LOADS\": None,\n",
    "              \"NODAL LOADS\": \n",
    "              np.array([\n",
    "                [1,0,1000],\n",
    "                [2,1,-P2Y],\n",
    "                [3,1,-P3Y]]),\n",
    "              \"SPRINGS\": None}\n",
    "    FRAME_00_RESULTS = MEF1D(DICTIONARY = FRAME_00)\n",
    "    FRAME_00_BAR_0 = FRAME_00_RESULTS[0]\n",
    "    AXIAL_FORCE_LIST_BAR_0 = FRAME_00_BAR_0['N']\n",
    "    N = AXIAL_FORCE_LIST_BAR_0[5]              \n",
    "    S_1 = np.abs(N)\n",
    "    R_1 = 143E3\n",
    "    # STATE LIMIT FUNCTION\n",
    "    G_0 = R_1 - S_1\n",
    "    R = [R_1] \n",
    "    S = [S_1] \n",
    "    G = [G_0]\n",
    "    return R, S, G"
   ]
  },
  {
   "cell_type": "code",
   "execution_count": 8,
   "metadata": {},
   "outputs": [],
   "source": [
    "RESULTS_TEST = RASD_STOCHASTIC(SETUP, OBJ)"
   ]
  },
  {
   "cell_type": "code",
   "execution_count": 9,
   "metadata": {},
   "outputs": [
    {
     "data": {
      "text/html": [
       "<div>\n",
       "<style scoped>\n",
       "    .dataframe tbody tr th:only-of-type {\n",
       "        vertical-align: middle;\n",
       "    }\n",
       "\n",
       "    .dataframe tbody tr th {\n",
       "        vertical-align: top;\n",
       "    }\n",
       "\n",
       "    .dataframe thead th {\n",
       "        text-align: right;\n",
       "    }\n",
       "</style>\n",
       "<table border=\"1\" class=\"dataframe\">\n",
       "  <thead>\n",
       "    <tr style=\"text-align: right;\">\n",
       "      <th></th>\n",
       "      <th>X_0</th>\n",
       "      <th>X_1</th>\n",
       "      <th>R_0</th>\n",
       "      <th>S_0</th>\n",
       "      <th>G_0</th>\n",
       "      <th>I</th>\n",
       "    </tr>\n",
       "  </thead>\n",
       "  <tbody>\n",
       "    <tr>\n",
       "      <th>0</th>\n",
       "      <td>19373.140054</td>\n",
       "      <td>12076.848498</td>\n",
       "      <td>143000.0</td>\n",
       "      <td>144701.740118</td>\n",
       "      <td>-1701.740118</td>\n",
       "      <td>1.0</td>\n",
       "    </tr>\n",
       "    <tr>\n",
       "      <th>1</th>\n",
       "      <td>10017.791456</td>\n",
       "      <td>23195.267490</td>\n",
       "      <td>143000.0</td>\n",
       "      <td>141986.492670</td>\n",
       "      <td>1013.507330</td>\n",
       "      <td>0.0</td>\n",
       "    </tr>\n",
       "    <tr>\n",
       "      <th>2</th>\n",
       "      <td>14704.544226</td>\n",
       "      <td>14934.260144</td>\n",
       "      <td>143000.0</td>\n",
       "      <td>142510.892038</td>\n",
       "      <td>489.107962</td>\n",
       "      <td>0.0</td>\n",
       "    </tr>\n",
       "    <tr>\n",
       "      <th>3</th>\n",
       "      <td>15612.504908</td>\n",
       "      <td>13536.685799</td>\n",
       "      <td>143000.0</td>\n",
       "      <td>142675.347672</td>\n",
       "      <td>324.652328</td>\n",
       "      <td>0.0</td>\n",
       "    </tr>\n",
       "    <tr>\n",
       "      <th>4</th>\n",
       "      <td>19806.762799</td>\n",
       "      <td>11914.438711</td>\n",
       "      <td>143000.0</td>\n",
       "      <td>144936.927746</td>\n",
       "      <td>-1936.927746</td>\n",
       "      <td>1.0</td>\n",
       "    </tr>\n",
       "    <tr>\n",
       "      <th>5</th>\n",
       "      <td>12429.879964</td>\n",
       "      <td>23837.274842</td>\n",
       "      <td>143000.0</td>\n",
       "      <td>143776.326671</td>\n",
       "      <td>-776.326671</td>\n",
       "      <td>1.0</td>\n",
       "    </tr>\n",
       "    <tr>\n",
       "      <th>6</th>\n",
       "      <td>12759.273403</td>\n",
       "      <td>29612.641032</td>\n",
       "      <td>143000.0</td>\n",
       "      <td>145787.790967</td>\n",
       "      <td>-2787.790967</td>\n",
       "      <td>1.0</td>\n",
       "    </tr>\n",
       "    <tr>\n",
       "      <th>7</th>\n",
       "      <td>14146.857430</td>\n",
       "      <td>18663.765890</td>\n",
       "      <td>143000.0</td>\n",
       "      <td>143301.288948</td>\n",
       "      <td>-301.288948</td>\n",
       "      <td>1.0</td>\n",
       "    </tr>\n",
       "    <tr>\n",
       "      <th>8</th>\n",
       "      <td>17176.120632</td>\n",
       "      <td>20240.675652</td>\n",
       "      <td>143000.0</td>\n",
       "      <td>145789.052647</td>\n",
       "      <td>-2789.052647</td>\n",
       "      <td>1.0</td>\n",
       "    </tr>\n",
       "    <tr>\n",
       "      <th>9</th>\n",
       "      <td>16021.326337</td>\n",
       "      <td>16364.092029</td>\n",
       "      <td>143000.0</td>\n",
       "      <td>143823.484914</td>\n",
       "      <td>-823.484914</td>\n",
       "      <td>1.0</td>\n",
       "    </tr>\n",
       "  </tbody>\n",
       "</table>\n",
       "</div>"
      ],
      "text/plain": [
       "            X_0           X_1       R_0            S_0          G_0    I\n",
       "0  19373.140054  12076.848498  143000.0  144701.740118 -1701.740118  1.0\n",
       "1  10017.791456  23195.267490  143000.0  141986.492670  1013.507330  0.0\n",
       "2  14704.544226  14934.260144  143000.0  142510.892038   489.107962  0.0\n",
       "3  15612.504908  13536.685799  143000.0  142675.347672   324.652328  0.0\n",
       "4  19806.762799  11914.438711  143000.0  144936.927746 -1936.927746  1.0\n",
       "5  12429.879964  23837.274842  143000.0  143776.326671  -776.326671  1.0\n",
       "6  12759.273403  29612.641032  143000.0  145787.790967 -2787.790967  1.0\n",
       "7  14146.857430  18663.765890  143000.0  143301.288948  -301.288948  1.0\n",
       "8  17176.120632  20240.675652  143000.0  145789.052647 -2789.052647  1.0\n",
       "9  16021.326337  16364.092029  143000.0  143823.484914  -823.484914  1.0"
      ]
     },
     "execution_count": 9,
     "metadata": {},
     "output_type": "execute_result"
    }
   ],
   "source": [
    "RESULTS_TEST"
   ]
  },
  {
   "cell_type": "code",
   "execution_count": 6,
   "metadata": {},
   "outputs": [
    {
     "ename": "NameError",
     "evalue": "name 'FRAME_00' is not defined",
     "output_type": "error",
     "traceback": [
      "\u001b[1;31m---------------------------------------------------------------------------\u001b[0m",
      "\u001b[1;31mNameError\u001b[0m                                 Traceback (most recent call last)",
      "\u001b[1;32m<ipython-input-6-65604804abdc>\u001b[0m in \u001b[0;36m<module>\u001b[1;34m\u001b[0m\n\u001b[1;32m----> 1\u001b[1;33m \u001b[0mFRAME_00_RESULTS\u001b[0m \u001b[1;33m=\u001b[0m \u001b[0mMEF1D\u001b[0m\u001b[1;33m(\u001b[0m\u001b[0mDICTIONARY\u001b[0m \u001b[1;33m=\u001b[0m \u001b[0mFRAME_00\u001b[0m\u001b[1;33m)\u001b[0m\u001b[1;33m\u001b[0m\u001b[1;33m\u001b[0m\u001b[0m\n\u001b[0m\u001b[0;32m      2\u001b[0m \u001b[0mFRAME_00_RESULTS\u001b[0m\u001b[1;33m\u001b[0m\u001b[1;33m\u001b[0m\u001b[0m\n",
      "\u001b[1;31mNameError\u001b[0m: name 'FRAME_00' is not defined"
     ]
    }
   ],
   "source": [
    "FRAME_00_RESULTS = MEF1D(DICTIONARY = FRAME_00)\n",
    "FRAME_00_RESULTS"
   ]
  },
  {
   "cell_type": "code",
   "execution_count": null,
   "metadata": {},
   "outputs": [],
   "source": [
    "FRAME_00_BAR_2 = FRAME_00_RESULTS[2] \n",
    "FRAME_00_BAR_2"
   ]
  },
  {
   "cell_type": "code",
   "execution_count": null,
   "metadata": {},
   "outputs": [],
   "source": [
    "FRAME_00_BAR_2['N']"
   ]
  },
  {
   "cell_type": "code",
   "execution_count": null,
   "metadata": {},
   "outputs": [],
   "source": [
    "FRAME_00_BAR_2['N'][5]"
   ]
  },
  {
   "cell_type": "code",
   "execution_count": null,
   "metadata": {},
   "outputs": [],
   "source": []
  }
 ],
 "metadata": {
  "kernelspec": {
   "display_name": "Python 3",
   "language": "python",
   "name": "python3"
  },
  "language_info": {
   "codemirror_mode": {
    "name": "ipython",
    "version": 3
   },
   "file_extension": ".py",
   "mimetype": "text/x-python",
   "name": "python",
   "nbconvert_exporter": "python",
   "pygments_lexer": "ipython3",
   "version": "3.8.8"
  }
 },
 "nbformat": 4,
 "nbformat_minor": 4
}
