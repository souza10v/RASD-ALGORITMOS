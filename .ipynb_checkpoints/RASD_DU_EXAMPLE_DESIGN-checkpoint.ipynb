{
 "cells": [
  {
   "cell_type": "code",
   "execution_count": null,
   "metadata": {
    "scrolled": true
   },
   "outputs": [],
   "source": [
    "# Instalando as bibliotecas e atualizando \n",
    "!pip install pyDOE\n",
    "!pip install -U seaborn\n",
    "# Import MEF 1D Algorithm\n",
    "!pip install -i https://test.pypi.org/simple/ FINITO-FEM-TOOLBOX"
   ]
  },
  {
   "cell_type": "code",
   "execution_count": 1,
   "metadata": {},
   "outputs": [],
   "source": [
    "from FINITO_FEM_TOOLBOX import MEF1D\n",
    "from RASD_TOOLBOX import *\n",
    "import numpy as np"
   ]
  },
  {
   "cell_type": "code",
   "execution_count": 2,
   "metadata": {},
   "outputs": [],
   "source": [
    "PX = ['NORMAL', 500, 100]\n",
    "PY = ['NORMAL', 1000, 100]\n",
    "PZ = ['NORMAL', 3, 0.3]\n",
    "\n",
    "SETUP = {'REPETITIONS': 1,\n",
    "        'TOTAL SAMPLING': 10000,\n",
    "        'TOTAL G FUNCTIONS': 1,\n",
    "        'TOTAL DESIGN VARIABLES': 3,\n",
    "        'VARS': [PX, PY, PZ],\n",
    "        'MODEL': 'MCS'}"
   ]
  },
  {
   "cell_type": "code",
   "execution_count": 3,
   "metadata": {},
   "outputs": [],
   "source": [
    "def OBJ(X):\n",
    "    P_X = X[0]\n",
    "    P_Y = X[1]\n",
    "    P_Z = X[2]\n",
    "    \n",
    "    D_0 = 3\n",
    "    L = 100\n",
    "    E = 30 * 10 ** 6\n",
    "    W = 2\n",
    "    T = 4\n",
    "\n",
    "    # STATE LIMIT FUNCTION\n",
    "    \n",
    "    R_0 = P_Z\n",
    "    S_0 = (4 * L ** 3 / (E * W * T)) * (((P_Y / T ** 2) ** 2  + (P_X / W ** 2) ** 2) ** 0.5)\n",
    "    G_0 = R_0 - S_0\n",
    "\n",
    "    R = [R_0] \n",
    "    S = [S_0] \n",
    "    G = [G_0]\n",
    "\n",
    "\n",
    "    return R, S, G"
   ]
  },
  {
   "cell_type": "code",
   "execution_count": 4,
   "metadata": {},
   "outputs": [
    {
     "name": "stdout",
     "output_type": "stream",
     "text": [
      "['X_0', 'X_1', 'X_2', 'R_0', 'S_0', 'G_0', 'I']\n"
     ]
    }
   ],
   "source": [
    "RESULTS_TEST , COLUMNS_NAMES = RASD_STOCHASTIC(SETUP, OBJ)"
   ]
  },
  {
   "cell_type": "code",
   "execution_count": null,
   "metadata": {},
   "outputs": [],
   "source": [
    "RESULTS_TEST['TOTAL RESULTS']"
   ]
  },
  {
   "cell_type": "code",
   "execution_count": null,
   "metadata": {},
   "outputs": [],
   "source": [
    "import numpy as np\n",
    "from datetime import datetime\n",
    "\n",
    "NAME_PT_2 = str(datetime.now().strftime('%Y%m%d %H%M%S'))+'.txt'\n",
    "\n",
    "NAME_PT_1 = 'TOTAL RESULTS '+str(SETUP['TOTAL SAMPLING'])+' SAMPLES '+str(SETUP['TOTAL DESIGN VARIABLES'])+' VARIABLES '\n",
    "\n",
    "np.savetxt(NAME_PT_1 + NAME_PT_2 , RESULTS_TEST['TOTAL RESULTS'], fmt='%d', delimiter=';' , header=\"X\\tY\\tZ\\tValue\")\n",
    "\n"
   ]
  },
  {
   "cell_type": "code",
   "execution_count": null,
   "metadata": {},
   "outputs": [],
   "source": [
    "RESULTS_TEST['TOTAL RESULTS']['I'][(RESULTS_TEST['TOTAL RESULTS']['I']==1)]"
   ]
  },
  {
   "cell_type": "code",
   "execution_count": null,
   "metadata": {},
   "outputs": [],
   "source": [
    "PLOT_SETUP = {'NAME': 'WANDER',\n",
    "                'WIDTH': 0.40, \n",
    "                'HEIGHT': 0.20, \n",
    "                'X AXIS LABEL': '$x_0$ - $P_X$ $lb$',\n",
    "                'X AXIS SIZE': 20,\n",
    "                'Y AXIS SIZE': 20,\n",
    "                'AXISES COLOR': '#000000',\n",
    "                'LABELS SIZE': 16,\n",
    "                'LABELS COLOR': '#000000',  \n",
    "                'CHART COLOR': '#FEB625',\n",
    "                'KDE': False,\n",
    "                'DPI': 600, \n",
    "                'BINS' : 20,\n",
    "                'EXTENSION': '.svg'}\n",
    "# RESULTS X_0 VARIABLE\n",
    "DATASET = RESULTS_TEST['TOTAL RESULTS']['X_0']      \n",
    "# CALL PLOT\n",
    "RASD_PLOT_1(DATASET, PLOT_SETUP)"
   ]
  },
  {
   "cell_type": "code",
   "execution_count": null,
   "metadata": {},
   "outputs": [],
   "source": [
    "PLOT_SETUP = {'NAME': 'WANDER',\n",
    "                'EXTENSION': '.svg',\n",
    "                'DPI': 600,\n",
    "                'WIDTH': 0.40, \n",
    "                'HEIGHT': 0.20,              \n",
    "                'X DATA': 'S_0',\n",
    "                'Y DATA': 'R_0',\n",
    "                'X AXIS SIZE': 20,\n",
    "                'Y AXIS SIZE': 20,\n",
    "                'AXISES COLOR': '#000000',\n",
    "                'X AXIS LABEL': '$S_0$',\n",
    "                'Y AXIS LABEL': '$R_0$',\n",
    "                'LABELS SIZE': 16,\n",
    "                'LABELS COLOR': '#000000',\n",
    "                'LOC LEGEND': 'lower right',\n",
    "                'TITLE LEGEND': 'Failure index ($I$):'}\n",
    "# RESULTS\n",
    "DATASET = RESULTS_TEST['TOTAL RESULTS']    \n",
    "# CALL PLOT\n",
    "RASD_PLOT_2(DATASET, PLOT_SETUP)"
   ]
  },
  {
   "cell_type": "code",
   "execution_count": null,
   "metadata": {},
   "outputs": [],
   "source": [
    "PLOT_SETUP = {'NAME': 'WANDER',\n",
    "                'EXTENSION': '.svg',\n",
    "                'DPI': 600,\n",
    "                'WIDTH': 0.20, \n",
    "                'HEIGHT': 0.10,              \n",
    "                'X DATA': 'S_0',\n",
    "                'Y DATA': 'R_0',\n",
    "                'X AXIS SIZE': 20,\n",
    "                'Y AXIS SIZE': 20,\n",
    "                'AXISES COLOR': '#000000',\n",
    "                'X AXIS LABEL': '$S_0$',\n",
    "                'Y AXIS LABEL': '$R_0$',\n",
    "                'LABELS SIZE': 16,\n",
    "                'LABELS COLOR': '#000000',\n",
    "                'C VALUE': 'G_0',\n",
    "                'TRANSPARENCY': 0.8,\n",
    "                'COLOR MAP': 'viridis'}\n",
    "# RESULTS\n",
    "DATASET = RESULTS_TEST['TOTAL RESULTS'] \n",
    "# CALL PLOT\n",
    "RASD_PLOT_3(DATASET, PLOT_SETUP)"
   ]
  },
  {
   "cell_type": "code",
   "execution_count": null,
   "metadata": {},
   "outputs": [],
   "source": [
    "plt.hist(RESULTS_TEST['TOTAL RESULTS']['R_0'], bins=50, label='a', alpha=0.5)\n",
    "plt.hist(RESULTS_TEST['TOTAL RESULTS']['S_0'], bins=50, label='b', alpha=0.5)\n"
   ]
  },
  {
   "cell_type": "code",
   "execution_count": null,
   "metadata": {},
   "outputs": [],
   "source": []
  }
 ],
 "metadata": {
  "kernelspec": {
   "display_name": "Python 3",
   "language": "python",
   "name": "python3"
  },
  "language_info": {
   "codemirror_mode": {
    "name": "ipython",
    "version": 3
   },
   "file_extension": ".py",
   "mimetype": "text/x-python",
   "name": "python",
   "nbconvert_exporter": "python",
   "pygments_lexer": "ipython3",
   "version": "3.8.8"
  }
 },
 "nbformat": 4,
 "nbformat_minor": 4
}
