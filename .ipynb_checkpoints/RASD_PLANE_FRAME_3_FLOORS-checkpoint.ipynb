{
 "cells": [
  {
   "cell_type": "code",
   "execution_count": null,
   "metadata": {
    "scrolled": true
   },
   "outputs": [],
   "source": [
    "# Instalando as bibliotecas e atualizando \n",
    "!pip install pyDOE\n",
    "!pip install -U seaborn\n",
    "# Import MEF 1D Algorithm\n",
    "!pip install -i https://test.pypi.org/simple/ FINITO-FEM-TOOLBOX\n"
   ]
  },
  {
   "cell_type": "code",
   "execution_count": null,
   "metadata": {},
   "outputs": [],
   "source": [
    "from FINITO_FEM_TOOLBOX import MEF1D\n",
    "from RASD_TOOLBOX import RASD_STOCHASTIC\n",
    "import numpy as np\n",
    "import pandas as pd"
   ]
  },
  {
   "cell_type": "code",
   "execution_count": null,
   "metadata": {},
   "outputs": [],
   "source": [
    "P2Y = ['NORMAL', 15000, 2500]\n",
    "P3Y = ['NORMAL', 20000, 4500]\n",
    "POP = [1]\n",
    "\n",
    "SETUP = {'N_REP': len(POP),\n",
    "        'POP': POP,\n",
    "        'N_G': 1,\n",
    "        'D': 2,\n",
    "        'VARS': [P2Y, P3Y],\n",
    "        'MODEL': 'MCS'}\n"
   ]
  },
  {
   "cell_type": "code",
   "execution_count": null,
   "metadata": {},
   "outputs": [],
   "source": [
    "def OBJ(X):\n",
    "    P2Y = X[0]\n",
    "    P3Y = X[1]\n",
    "\n",
    "    # Dataset\n",
    "   \n",
    "    FRAME_00 = {\n",
    "            \"TYPE_ELEMENT\": 0,\n",
    "            \"TYPE_SOLUTION\": 0,\n",
    "            \"N_NODES\": 26,\n",
    "            \"N_MATERIALS\": 1,\n",
    "            \"N_SECTIONS\": 1,\n",
    "            \"N_ELEMENTS\": 27,\n",
    "            \"N_DOFPRESCRIPTIONS\": 6,\n",
    "            \"N_DOFLOADED\": 24,\n",
    "            \"N_DOFSPRINGS\": 0,\n",
    "            \"COORDINATES\": #X,Y\n",
    "            np.array([\n",
    "            [0.0,0.0],\n",
    "            [5.25,0.0],\n",
    "            [0.0,3.0],\n",
    "            [0.75,3.0],\n",
    "            [1.5,3.0],\n",
    "            [2.25,3.0],\n",
    "            [3.0,3.0],\n",
    "            [3.75,3.0],\n",
    "            [4.5,3.0],\n",
    "            [5.25,3.0],\n",
    "            [0.0,6.0],\n",
    "            [0.75,6.0],\n",
    "            [1.5,6.0],\n",
    "            [2.25,6.0],\n",
    "            [3.0,6.0],\n",
    "            [3.75,6.0],\n",
    "            [4.5,6.0],\n",
    "            [5.25,6.0],\n",
    "            [0.0,9.0],\n",
    "            [0.75,9.0],\n",
    "            [1.5,9.0],\n",
    "            [2.25,9.0],\n",
    "            [3.0,9.0],\n",
    "            [3.75,9.0],\n",
    "            [4.5,9.0],\n",
    "            [5.25,9.0]]),\n",
    "\n",
    "            \"ELEMENTS\": #NODE 1,NODE 2,MATERIAL ID,SECTION ID,HINGE ID NODE 1,HINGE ID NODE 2\n",
    "            np.array([\n",
    "            [0,2,0,0,0,0],\n",
    "            [1,9,0,0,0,0],\n",
    "            [2,3,0,0,0,0],\n",
    "            [3,4,0,0,0,0],\n",
    "            [4,5,0,0,0,0],\n",
    "            [5,6,0,0,0,0],\n",
    "            [6,7,0,0,0,0],\n",
    "            [7,8,0,0,0,0],\n",
    "            [8,9,0,0,0,0],\n",
    "            [2,10,0,0,0,0],\n",
    "            [9,17,0,0,0,0],\n",
    "            [10,11,0,0,0,0],\n",
    "            [11,12,0,0,0,0],\n",
    "            [12,13,0,0,0,0],\n",
    "            [13,14,0,0,0,0],\n",
    "            [14,15,0,0,0,0],\n",
    "            [15,16,0,0,0,0],\n",
    "            [16,17,0,0,0,0],\n",
    "            [10,18,0,0,0,0],\n",
    "            [17,25,0,0,0,0],\n",
    "            [18,19,0,0,0,0],\n",
    "            [19,20,0,0,0,0],\n",
    "            [20,21,0,0,0,0],\n",
    "            [21,22,0,0,0,0],\n",
    "            [22,23,0,0,0,0],\n",
    "            [23,24,0,0,0,0],\n",
    "            [24,25,0,0,0,0]]),\n",
    "\n",
    "            \"MATERIALS\": #YOUNG,POISSON,DENSITY,THERMAL COEFFICIENT\n",
    "            np.array([[200E9, 0.30,1,1E-8]]),\n",
    "            \"SECTIONS\": #AREA,INERTIA 1,INERTIA 2,X GC,Y GC\n",
    "            np.array([[0.0450,0.000377,0.000377,0.075,0.15]]),\n",
    "            \"PRESCRIBED DISPLACEMENTS\": #NODE,DIRECTION(X=0,Y=1,Z=2),VALUE\n",
    "            np.array([[0,0,0],\n",
    "            [0,1,0],\n",
    "            [0,2,0],\n",
    "            [1,0,0],\n",
    "            [1,1,0],\n",
    "            [1,2,0]]),\n",
    "            \"ELEMENT LOADS\": None,\n",
    "            \"NODAL LOADS\":  #NODE,DIRECTION(X=0,Y=1,Z=2),VALUE\n",
    "            np.array([\n",
    "            [2,1,-10000,0],\n",
    "            [3,1,-10000,0],\n",
    "            [4,1,-10000,0],\n",
    "            [5,1,-10000,0],\n",
    "            [6,1,-10000,0],\n",
    "            [7,1,-10000,0],\n",
    "            [8,1,-10000,0],\n",
    "            [9,1,-10000,0],\n",
    "            [10,1,-10000,0],\n",
    "            [11,1,-10000,0],\n",
    "            [12,1,-10000,0],\n",
    "            [13,1,-10000,0],\n",
    "            [14,1,-10000,0],\n",
    "            [15,1,-10000,0],\n",
    "            [16,1,-10000,0],\n",
    "            [17,1,-10000,0],\n",
    "            [18,1,-10000,0],\n",
    "            [19,1,-10000,0],\n",
    "            [20,1,-10000,0],\n",
    "            [21,1,-10000,0],\n",
    "            [22,1,-10000,0],\n",
    "            [23,1,-10000,0],\n",
    "            [24,1,-10000,0],\n",
    "            [25,1,-10000,0]]),\n",
    "            \"SPRINGS\": None}\n",
    "\n",
    "\n",
    "    FRAME_00_RESULTS = MEF1D(DICTIONARY = FRAME_00)\n",
    "    \n",
    "    #print(FRAME_00_RESULTS[0])\n",
    "    #print(FRAME_00_RESULTS)\n",
    "    \n",
    "    df1 = pd.DataFrame(data = FRAME_00_RESULTS[0])\n",
    "    print(df1)\n",
    "    \n",
    "    FRAME_00_BAR_0 = FRAME_00_RESULTS[0]\n",
    "    AXIAL_FORCE_LIST_BAR_0 = FRAME_00_BAR_0['N']\n",
    "    N = AXIAL_FORCE_LIST_BAR_0[5]    \n",
    "    \n",
    "    S_1 = np.abs(N)\n",
    "    R_1 = 143E3\n",
    "\n",
    "    # STATE LIMIT FUNCTION\n",
    "\n",
    "    G_0 = R_1 - S_1\n",
    "    R = [R_1] \n",
    "    S = [S_1] \n",
    "    G = [G_0]\n",
    "\n",
    "    return R, S, G\n",
    "\n"
   ]
  },
  {
   "cell_type": "code",
   "execution_count": null,
   "metadata": {},
   "outputs": [],
   "source": [
    "RESULTS_TEST = RASD_STOCHASTIC(SETUP, OBJ)"
   ]
  },
  {
   "cell_type": "code",
   "execution_count": null,
   "metadata": {},
   "outputs": [],
   "source": [
    "RESULTS_TEST"
   ]
  },
  {
   "cell_type": "code",
   "execution_count": null,
   "metadata": {},
   "outputs": [],
   "source": [
    "RESULTS_TEST[0]['TOTAL RESULTS']"
   ]
  },
  {
   "cell_type": "code",
   "execution_count": null,
   "metadata": {},
   "outputs": [],
   "source": []
  },
  {
   "cell_type": "code",
   "execution_count": null,
   "metadata": {},
   "outputs": [],
   "source": [
    "FRAME_00_RESULTS = MEF1D(DICTIONARY = FRAME_00)\n",
    "FRAME_00_RESULTS\n"
   ]
  },
  {
   "cell_type": "code",
   "execution_count": null,
   "metadata": {},
   "outputs": [],
   "source": [
    "FRAME_00_BAR_2 = FRAME_00_RESULTS[2] \n",
    "FRAME_00_BAR_2"
   ]
  },
  {
   "cell_type": "code",
   "execution_count": null,
   "metadata": {},
   "outputs": [],
   "source": [
    "RESULTS_TEST['TOTAL RESULTS']"
   ]
  },
  {
   "cell_type": "code",
   "execution_count": null,
   "metadata": {},
   "outputs": [],
   "source": [
    "WANDER = RESULTS_TEST['TOTAL RESULTS']"
   ]
  },
  {
   "cell_type": "code",
   "execution_count": null,
   "metadata": {},
   "outputs": [],
   "source": [
    "PLOT_SETUP = {'NAME': 'WANDER',\n",
    "                'EXTENSION': '.svg',\n",
    "                'DPI': 600,\n",
    "                'WIDTH': 0.40, \n",
    "                'HEIGHT': 0.20,              \n",
    "                'X DATA': 'S_0',\n",
    "                'Y DATA': 'R_0',\n",
    "                'X AXIS SIZE': 20,\n",
    "                'Y AXIS SIZE': 20,\n",
    "                'AXISES COLOR': '#000000',\n",
    "                'X AXIS LABEL': '$S_0$',\n",
    "                'Y AXIS LABEL': '$R_0$',\n",
    "                'LABELS SIZE': 16,\n",
    "                'LABELS COLOR': '#000000',\n",
    "                'LOC LEGEND': 'lower right',\n",
    "                'TITLE LEGEND': 'Failure index ($I$):'}\n",
    "# RESULTS\n",
    "DATASET =  WANDER     \n",
    "# CALL PLOT\n",
    "RASD_PLOT_2(DATASET, PLOT_SETUP)"
   ]
  }
 ],
 "metadata": {
  "kernelspec": {
   "display_name": "Python 3",
   "language": "python",
   "name": "python3"
  },
  "language_info": {
   "codemirror_mode": {
    "name": "ipython",
    "version": 3
   },
   "file_extension": ".py",
   "mimetype": "text/x-python",
   "name": "python",
   "nbconvert_exporter": "python",
   "pygments_lexer": "ipython3",
   "version": "3.8.8"
  }
 },
 "nbformat": 4,
 "nbformat_minor": 4
}
