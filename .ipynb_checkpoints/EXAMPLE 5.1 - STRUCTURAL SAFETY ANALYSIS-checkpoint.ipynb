{
 "cells": [
  {
   "cell_type": "code",
   "execution_count": null,
   "metadata": {
    "scrolled": true
   },
   "outputs": [],
   "source": [
    "# Instalando e atualizando as bibliotecas necessárias\n",
    "!pip install pyDOE\n",
    "!pip install -U seaborn"
   ]
  },
  {
   "cell_type": "code",
   "execution_count": 1,
   "metadata": {},
   "outputs": [],
   "source": [
    "# Importando RASD Toolbox\n",
    "from RASD_TOOLBOX import *\n",
    "# Importando Numpy toolbox\n",
    "import numpy as n"
   ]
  },
  {
   "cell_type": "code",
   "execution_count": 2,
   "metadata": {},
   "outputs": [],
   "source": [
    "w = ['NORMAL', 0.25, 0.025]\n",
    "P = ['NORMAL', 10.2, 1.12]\n",
    "Fy = ['NORMAL', 40.3, 4.64]\n",
    "#POP = ['10000']\n",
    "\n",
    "POP = np.arange(10,1000, 100).tolist() # (x,y,Z); x=pop inicial; y=pop final; z=variacao pop\n",
    "\n",
    "SETUP = {'N_REP': len(POP),\n",
    "        'POP': POP,\n",
    "        'N_G': 1,\n",
    "        'D': 3,\n",
    "        'VARS': [w, P, Fy],\n",
    "        'MODEL': 'MCS'}"
   ]
  },
  {
   "cell_type": "code",
   "execution_count": 3,
   "metadata": {},
   "outputs": [],
   "source": [
    "def OBJ(X):\n",
    "    w = X[0]\n",
    "    P = X[1]\n",
    "    Fy = X[2]\n",
    "    \n",
    "\n",
    "    # STATE LIMIT FUNCTION\n",
    "    \n",
    "    R_0 = 80 * Fy\n",
    "    S_0 = 54 * P + 5832 * w\n",
    "    G_0 = S_0 - R_0\n",
    "\n",
    "    R = [R_0] \n",
    "    S = [S_0] \n",
    "    G = [G_0]\n",
    "\n",
    "\n",
    "    return R, S, G"
   ]
  },
  {
   "cell_type": "code",
   "execution_count": 4,
   "metadata": {},
   "outputs": [],
   "source": [
    "RESULTS_TEST = RASD_STOCHASTIC(SETUP, OBJ)"
   ]
  },
  {
   "cell_type": "code",
   "execution_count": null,
   "metadata": {},
   "outputs": [],
   "source": [
    "RESULTS_TEST[4]['TOTAL RESULTS']"
   ]
  },
  {
   "cell_type": "code",
   "execution_count": null,
   "metadata": {},
   "outputs": [],
   "source": [
    "DADOS = RESULTS_TEST[len(POP)-1]['TOTAL RESULTS']"
   ]
  },
  {
   "cell_type": "code",
   "execution_count": null,
   "metadata": {},
   "outputs": [],
   "source": [
    "OPCOES_GRAFICAS = {'NAME': 'WANDER',\n",
    "                'WIDTH': 0.40, \n",
    "                'HEIGHT': 0.20, \n",
    "                'X AXIS SIZE': 20,\n",
    "                'Y AXIS SIZE': 20,\n",
    "                'AXISES COLOR': '#000000',\n",
    "                'X AXIS LABEL': '$x_0$ - $P_X (lb)$',\n",
    "                'LABELS SIZE': 16,\n",
    "                'LABELS COLOR': '#000000',  \n",
    "                'CHART COLOR': '#FEB625',\n",
    "                'KDE': False,\n",
    "                'DPI': 600, \n",
    "                'BINS' : 20,\n",
    "                'EXTENSION': '.svg'}\n",
    "# RESULTS X_0 VARIABLE\n",
    "OPCOES_DADOS = {'DATASET': DADOS, 'COLUMN': 'X_0'}      \n",
    "# CALL PLOT\n",
    "RASD_PLOT_1(OPCOES_DADOS, OPCOES_GRAFICAS)"
   ]
  },
  {
   "cell_type": "code",
   "execution_count": null,
   "metadata": {},
   "outputs": [],
   "source": [
    "OPCOES_GRAFICAS = {'NAME': 'WANDER',\n",
    "                'EXTENSION': '.svg',\n",
    "                'DPI': 600,\n",
    "                'WIDTH': 0.300, \n",
    "                'HEIGHT': 0.150,              \n",
    "                'X DATA': 'S_0',\n",
    "                'Y DATA': 'R_0',\n",
    "                'X AXIS SIZE': 16,\n",
    "                'Y AXIS SIZE': 16,\n",
    "                'AXISES COLOR': '#000000',\n",
    "                'X AXIS LABEL': '$S_0$',\n",
    "                'Y AXIS LABEL': '$R_0$',\n",
    "                'LABELS SIZE': 16,\n",
    "                'LABELS COLOR': '#000000',\n",
    "                'LOC LEGEND': 'lower right',\n",
    "                'TITLE LEGEND': 'Failure index ($I$):'}\n",
    "# RESULTS\n",
    "OPCOES_DADOS = {'DATASET': DADOS, 'X DATA': 'S_0', 'Y DATA': 'R_0', 'HUE VALUE': 'I_0'}    \n",
    "# CALL PLOT\n",
    "RASD_PLOT_2(OPCOES_DADOS, OPCOES_GRAFICAS)"
   ]
  },
  {
   "cell_type": "code",
   "execution_count": null,
   "metadata": {
    "scrolled": true
   },
   "outputs": [],
   "source": [
    "OPCOES_GRAFICAS = {'NAME': 'WANDER',\n",
    "                'EXTENSION': '.svg',\n",
    "                'DPI': 600,\n",
    "                'WIDTH': 0.20, \n",
    "                'HEIGHT': 0.10,              \n",
    "                'X DATA': 'S_0',\n",
    "                'Y DATA': 'R_0',\n",
    "                'X AXIS SIZE': 20,\n",
    "                'Y AXIS SIZE': 20,\n",
    "                'AXISES COLOR': '#000000',\n",
    "                'X AXIS LABEL': '$S_0$',\n",
    "                'Y AXIS LABEL': '$R_0$',\n",
    "                'LABELS SIZE': 16,\n",
    "                'LABELS COLOR': '#000000',\n",
    "                'G VALUE': 'G_0',\n",
    "                'TRANSPARENCY': 0.8,\n",
    "                'COLOR MAP': 'viridis'}\n",
    "\n",
    "\n",
    "# RESULTS\n",
    "OPCOES_DADOS = {'DATASET': DADOS, 'X DATA': 'S_0', 'Y DATA': 'R_0', 'G VALUE': 'G_0'}       \n",
    "\n",
    "# CALL PLOT\n",
    "RASD_PLOT_3(OPCOES_DADOS, OPCOES_GRAFICAS)"
   ]
  },
  {
   "cell_type": "code",
   "execution_count": null,
   "metadata": {},
   "outputs": [],
   "source": [
    "plt.hist(RESULTS_TEST[0]['TOTAL RESULTS']['R_0'], bins=50, label='a', alpha=0.5)\n",
    "plt.hist(RESULTS_TEST[0]['TOTAL RESULTS']['S_0'], bins=50, label='b', alpha=0.5)"
   ]
  },
  {
   "cell_type": "code",
   "execution_count": null,
   "metadata": {},
   "outputs": [],
   "source": [
    "OPCOES_GRAFICAS = {'NAME': 'WANDER',\n",
    "                    'EXTENSION': '.svg',\n",
    "                    'DPI': 600,\n",
    "                    'WIDTH': 0.20,\n",
    "                    'HEIGHT': 0.10,\n",
    "                    'X DATA': 'S_0',\n",
    "                    'Y DATA': 'R_0',\n",
    "                    'X AXIS SIZE': 20,\n",
    "                    'Y AXIS SIZE': 20,\n",
    "                    'AXISES COLOR': '#000000',\n",
    "                    'X AXIS LABEL': '$G_0 + G_0$',\n",
    "                    'Y AXIS LABEL': '$SOMATÓRIO$',\n",
    "                    'LABELS SIZE': 16,\n",
    "                    'LABELS COLOR': '#000000',\n",
    "                    'C VALUE': 'G_0',\n",
    "                    'TRANSPARENCY': 0.8,\n",
    "                    'COLOR MAP': 'viridis',\n",
    "                    'BINS': '50',\n",
    "                    'ALPHA': '0.5'}\n",
    "\n",
    "# RESULTS\n",
    "OPCOES_DADOS = {'DATASET': DADOS, 'X DATA': 'S_0', 'Y DATA': 'R_0', 'G VALUE': 'G_0'}       \n",
    "\n",
    "# CALL PLOT\n",
    "RASD_PLOT_4(OPCOES_DADOS, OPCOES_GRAFICAS)"
   ]
  },
  {
   "cell_type": "code",
   "execution_count": 10,
   "metadata": {},
   "outputs": [
    {
     "name": "stdout",
     "output_type": "stream",
     "text": [
      "Beta\n"
     ]
    },
    {
     "data": {
      "image/png": "[encoded data removed]",
      "text/plain": [
       "<Figure size 566.929x283.465 with 1 Axes>"
      ]
     },
     "metadata": {
      "needs_background": "light"
     },
     "output_type": "display_data"
    }
   ],
   "source": [
    "OPCOES_GRAFICAS = {'NAME': 'WANDER',\n",
    "                    'EXTENSION': '.svg',\n",
    "                    'DPI': 600,\n",
    "                    'WIDTH': 0.20,\n",
    "                    'HEIGHT': 0.10,\n",
    "                    'X AXIS SIZE': 20,\n",
    "                    'Y AXIS SIZE': 20,\n",
    "                    'AXISES COLOR': '#000000',\n",
    "                    'X AXIS LABEL': 'Número de Simulações (ns)',\n",
    "                    'Y AXIS LABEL': 'Beta',\n",
    "                    'LABELS SIZE': 16,\n",
    "                    'LABELS COLOR': '#000000',\n",
    "                    'CHART COLOR': 'blue',\n",
    "                    'POPULATION' : POP,\n",
    "                    'TYPE' : 'pf'}\n",
    "\n",
    "# RESULTS\n",
    "OPCOES_DADOS = {'DATASET': RESULTS_TEST}       \n",
    "\n",
    "# CALL PLOT\n",
    "RASD_PLOT_5(OPCOES_DADOS, OPCOES_GRAFICAS)"
   ]
  },
  {
   "cell_type": "code",
   "execution_count": null,
   "metadata": {},
   "outputs": [],
   "source": [
    "max(POP)"
   ]
  },
  {
   "cell_type": "code",
   "execution_count": null,
   "metadata": {},
   "outputs": [],
   "source": [
    "plt.plot( pd.Series(range(0,len(RESULTS_TEST[0]['TOTAL RESULTS']))), RESULTS_TEST[0]['TOTAL RESULTS']['I_0'], color='blue')"
   ]
  },
  {
   "cell_type": "code",
   "execution_count": null,
   "metadata": {},
   "outputs": [],
   "source": [
    "#MESMO DATAFRAME\n",
    "Bf = [ ]\n",
    "Af = [ ]\n",
    "c = 100\n",
    "BETA_DF = pd.read_csv('RASD_TOOLBOX/beta_df.txt', delimiter = \";\",  names = ['PF' ,'BETA'])\n",
    "\n",
    "for i in POP:\n",
    "   Af.append((RESULTS_TEST[len(POP)-1]['TOTAL RESULTS']['I_0'].head(i).sum())/max(POP)) # soma valores anteriores de I_0 e calcula PF\n",
    "\n",
    "df = pd.DataFrame(Af,columns=['Pf']) #converte para DF\n",
    "\n",
    "for i in range(len(POP)): #Salva os valores em um DF a cada 100 valores\n",
    "    Bf.append((BETA_DF['PF'].sub(Af[i]).abs().idxmin())/1000)\n",
    "  \n",
    "plt.plot(POP, Bf, color='blue')\n",
    "\n",
    "#plt.plot( pd.Series(range(0,len(RESULTS_TEST[0]['TOTAL RESULTS']),c)), Bf, color='blue')\n",
    "\n",
    "#plt.plot( pd.Series(range(0,len(RESULTS_TEST[0]['TOTAL RESULTS']))), RESULTS_TEST[0]['TOTAL RESULTS']['I_0'], color='blue')"
   ]
  },
  {
   "cell_type": "code",
   "execution_count": null,
   "metadata": {},
   "outputs": [],
   "source": [
    "plt.plot(POP, Af, color='blue')"
   ]
  },
  {
   "cell_type": "code",
   "execution_count": null,
   "metadata": {},
   "outputs": [],
   "source": [
    "PF_AUX = []\n",
    "BETA_AUX = []\n",
    "\n",
    "for i in range (len(POP)):\n",
    "    PF_AUX.append(RESULTS_TEST[i]['PROBABILITY OF FAILURE'][0])\n",
    "    BETA_AUX.append(RESULTS_TEST[i]['BETA INDEX'][0])\n",
    "\n",
    "plt.plot(POP, PF_AUX, color='blue')"
   ]
  },
  {
   "cell_type": "code",
   "execution_count": null,
   "metadata": {},
   "outputs": [],
   "source": [
    "plt.plot(POP, BETA_AUX, color='blue')"
   ]
  }
 ],
 "metadata": {
  "kernelspec": {
   "display_name": "Python 3",
   "language": "python",
   "name": "python3"
  },
  "language_info": {
   "codemirror_mode": {
    "name": "ipython",
    "version": 3
   },
   "file_extension": ".py",
   "mimetype": "text/x-python",
   "name": "python",
   "nbconvert_exporter": "python",
   "pygments_lexer": "ipython3",
   "version": "3.8.8"
  }
 },
 "nbformat": 4,
 "nbformat_minor": 4
}
