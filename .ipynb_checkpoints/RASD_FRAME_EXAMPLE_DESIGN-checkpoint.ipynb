{
 "cells": [
  {
   "cell_type": "code",
   "execution_count": null,
   "metadata": {
    "scrolled": true
   },
   "outputs": [],
   "source": [
    "# Instalando as bibliotecas e atualizando \n",
    "!pip install pyDOE\n",
    "!pip install -U seaborn\n",
    "# Import MEF 1D Algorithm\n",
    "!pip install -i https://test.pypi.org/simple/ FINITO-FEM-TOOLBOX\n"
   ]
  },
  {
   "cell_type": "code",
   "execution_count": 1,
   "metadata": {},
   "outputs": [],
   "source": [
    "from FINITO_FEM_TOOLBOX import MEF1D\n",
    "from RASD_TOOLBOX import RASD_STOCHASTIC\n",
    "import numpy as np"
   ]
  },
  {
   "cell_type": "code",
   "execution_count": 2,
   "metadata": {},
   "outputs": [],
   "source": [
    "P2Y = ['NORMAL', 15000, 2500]\n",
    "P3Y = ['NORMAL', 20000, 4500]\n",
    "POP = [10]\n",
    "\n",
    "SETUP = {'N_REP': len(POP),\n",
    "        'POP': POP,\n",
    "        'N_G': 1,\n",
    "        'D': 2,\n",
    "        'VARS': [P2Y, P3Y],\n",
    "        'MODEL': 'MCS'}"
   ]
  },
  {
   "cell_type": "code",
   "execution_count": 3,
   "metadata": {},
   "outputs": [],
   "source": [
    "def OBJ(X):\n",
    "    P2Y = X[0]\n",
    "    P3Y = X[1]\n",
    "    # Dataset\n",
    "    FRAME_00 = {\"TYPE_ELEMENT\": 0,\n",
    "              \"TYPE_SOLUTION\": 0,\n",
    "              \"N_NODES\": 6,\n",
    "              \"N_MATERIALS\": 1,\n",
    "              \"N_SECTIONS\": 1,\n",
    "              \"N_ELEMENTS\": 5,\n",
    "              \"N_DOFPRESCRIPTIONS\": 5,\n",
    "              \"N_DOFLOADED\": 3,\n",
    "              \"N_DOFSPRINGS\": 0,\n",
    "              \"COORDINATES\": \n",
    "              np.array([[0.0,0.0],\n",
    "                [0.0,3.0],\n",
    "                [1.0,3.0],\n",
    "                [2.0,3.0],\n",
    "                [3.0,3.0],\n",
    "                [3.0,0.0]]),\n",
    "              \"ELEMENTS\": \n",
    "              np.array([[0,1,0,0,0,0],\n",
    "                [1,2,0,0,0,0],\n",
    "                [2,3,0,0,0,0],\n",
    "                [3,4,0,0,0,0],\n",
    "                [4,5,0,0,0,0]]),\n",
    "              \"MATERIALS\": \n",
    "              np.array([[24E9,0.20,7800.0,1E-8]]),\n",
    "              \"SECTIONS\": \n",
    "              np.array([\n",
    "                [0.08,-1989,0.001067,-1989,-1989]]),\n",
    "              \"PRESCRIBED DISPLACEMENTS\": \n",
    "              np.array([[0,0,0],\n",
    "                [0,1,0],\n",
    "                [0,2,0],\n",
    "                [5,0,0],\n",
    "                [5,1,-0.10]]),\n",
    "              \"ELEMENTS\": None,\n",
    "              \"NODAL LOADS\": \n",
    "              np.array([\n",
    "                [1,0,1000],\n",
    "                [2,1,-P2Y],\n",
    "                [3,1,-P3Y]]),\n",
    "              \"SPRINGS\": None}\n",
    "    FRAME_00_RESULTS = MEF1D(DICTIONARY = FRAME_00)\n",
    "    FRAME_00_BAR_0 = FRAME_00_RESULTS[0]\n",
    "    AXIAL_FORCE_LIST_BAR_0 = FRAME_00_BAR_0['N']\n",
    "    N = AXIAL_FORCE_LIST_BAR_0[5]              \n",
    "    S_1 = np.abs(N)\n",
    "    R_1 = 143E3\n",
    "    # STATE LIMIT FUNCTION\n",
    "    G_0 = R_1 - S_1\n",
    "    R = [R_1] \n",
    "    S = [S_1] \n",
    "    G = [G_0]\n",
    "    return R, S, G"
   ]
  },
  {
   "cell_type": "code",
   "execution_count": 4,
   "metadata": {},
   "outputs": [],
   "source": [
    "RESULTS_TEST = RASD_STOCHASTIC(SETUP, OBJ)"
   ]
  },
  {
   "cell_type": "code",
   "execution_count": 5,
   "metadata": {},
   "outputs": [
    {
     "data": {
      "text/plain": [
       "[{'TOTAL RESULTS':             X_0           X_1       R_0            S_0          G_0  I_0\n",
       "  0  15772.701665  24768.970523  143000.0  146269.809599 -3269.809599  0.0\n",
       "  1  18058.989625  22229.179312  143000.0  146988.458049 -3988.458049  0.0\n",
       "  2  13031.077773  24978.244973  143000.0  144527.695529 -1527.695529  0.0\n",
       "  3  15987.178234  20386.845856  143000.0  145050.407804 -2050.407804  0.0\n",
       "  4  13770.354095  20504.258996  143000.0  143625.228335  -625.228335  0.0\n",
       "  5  14911.732947  27399.945309  143000.0  146519.347611 -3519.347611  0.0\n",
       "  6  15714.152033  15499.582869  143000.0  143352.364598  -352.364598  0.0\n",
       "  7  15644.068436  20254.232615  143000.0  144783.239563 -1783.239563  0.0\n",
       "  8  15437.372229  22477.971456  143000.0  145337.272753 -2337.272753  0.0\n",
       "  9  16818.879562  11116.470732  143000.0  142718.836180   281.163820  1.0,\n",
       "  'NUMBER OF FAILURES': [1.0],\n",
       "  'PROBABILITY OF FAILURE': [0.1]}]"
      ]
     },
     "execution_count": 5,
     "metadata": {},
     "output_type": "execute_result"
    }
   ],
   "source": [
    "RESULTS_TEST"
   ]
  },
  {
   "cell_type": "code",
   "execution_count": null,
   "metadata": {},
   "outputs": [],
   "source": [
    "FRAME_00_RESULTS = MEF1D(DICTIONARY = FRAME_00)\n",
    "FRAME_00_RESULTS"
   ]
  },
  {
   "cell_type": "code",
   "execution_count": null,
   "metadata": {},
   "outputs": [],
   "source": [
    "FRAME_00_BAR_2 = FRAME_00_RESULTS[2] \n",
    "FRAME_00_BAR_2"
   ]
  },
  {
   "cell_type": "code",
   "execution_count": null,
   "metadata": {},
   "outputs": [],
   "source": [
    "FRAME_00_BAR_2['N']"
   ]
  },
  {
   "cell_type": "code",
   "execution_count": null,
   "metadata": {},
   "outputs": [],
   "source": [
    "FRAME_00_BAR_2['N'][5]"
   ]
  },
  {
   "cell_type": "code",
   "execution_count": null,
   "metadata": {},
   "outputs": [],
   "source": []
  }
 ],
 "metadata": {
  "kernelspec": {
   "display_name": "Python 3",
   "language": "python",
   "name": "python3"
  },
  "language_info": {
   "codemirror_mode": {
    "name": "ipython",
    "version": 3
   },
   "file_extension": ".py",
   "mimetype": "text/x-python",
   "name": "python",
   "nbconvert_exporter": "python",
   "pygments_lexer": "ipython3",
   "version": "3.8.8"
  }
 },
 "nbformat": 4,
 "nbformat_minor": 4
}
