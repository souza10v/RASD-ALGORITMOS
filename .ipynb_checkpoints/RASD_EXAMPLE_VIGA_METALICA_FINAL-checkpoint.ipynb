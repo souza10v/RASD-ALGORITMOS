{
 "cells": [
  {
   "cell_type": "code",
   "execution_count": null,
   "metadata": {
    "scrolled": true
   },
   "outputs": [],
   "source": [
    "# Instalando e atualizando as bibliotecas necessárias\n",
    "!pip install pyDOE\n",
    "!pip install -U seaborn"
   ]
  },
  {
   "cell_type": "code",
   "execution_count": 5,
   "metadata": {},
   "outputs": [],
   "source": [
    "# Importando RASD Toolbox\n",
    "from RASD_TOOLBOX import *\n",
    "# Importando Numpy toolbox\n",
    "import numpy as np\n",
    "from VIGA_METALICA_VERIFICA import *\n",
    "from FINITO_FEM_TOOLBOX import *"
   ]
  },
  {
   "cell_type": "code",
   "execution_count": 6,
   "metadata": {},
   "outputs": [],
   "source": [
    " \n",
    "ELEMENTO_ANALISADO = 2\n",
    "\n",
    "P1 = ['NORMAL', 20000, 1000] #E kn/cm2\n",
    "P2 = ['NORMAL', 1000, 100] #Fy kn/cm2\n",
    "POP = [10]\n",
    "\n",
    "\n",
    "#carga G, carga Q, tensao escoamento (Fy) e modulo de elasticidade (ES)\n",
    "#carta_total = carga G + carga Q\n",
    "\n",
    "#POP = np.arange(10,1000000, 10000).tolist() # (x,y,Z); x=pop inicial; y=pop final; z=variacao pop\n",
    "\n",
    "SETUP = {'N_REP': len(POP),\n",
    "        'POP': POP,\n",
    "        'N_G': 3,\n",
    "        'D': 2,\n",
    "        'VARS': [P1, P2],\n",
    "        'MODEL': 'MCS'}"
   ]
  },
  {
   "cell_type": "code",
   "execution_count": 8,
   "metadata": {},
   "outputs": [],
   "source": [
    "def OBJ(X):\n",
    "    \n",
    "    #entender como portico ira rodar x vezes, fazer um somente com o portico\n",
    "    #atribuir variaveis aleatorias a variabel nomeadas para analise \n",
    "    E = X[0]\n",
    "    FY = X[1]\n",
    "   \n",
    "    VIGA = {'H_W': 1 ,\n",
    "        'T_W': 1,\n",
    "        'B_F': 1,\n",
    "        'T_F': 1,\n",
    "        'W_C': 1,\n",
    "        'W_T': 1,\n",
    "        'PARAMETRO_PERFIL': 'DUPLA SIMETRIA', #\"DUPLA SIMETRIA, MONO SIMETRIA \"\n",
    "        'TIPO_PERFIL': 'LAMINADO', #\"SOLDADO, LAMINADO \"\n",
    "        'GAMMA_A1': 1.1,\n",
    "        'Z': 1,\n",
    "        'E_S': E,\n",
    "        'F_Y': FY}\n",
    "    \n",
    "    FRAME_00 = {\n",
    "            \"TYPE_ELEMENT\": 0,\n",
    "            \"TYPE_SOLUTION\": 0,\n",
    "            \"N_NODES\": 8,\n",
    "            \"N_MATERIALS\": 1,\n",
    "            \"N_SECTIONS\": 1,\n",
    "            \"N_ELEMENTS\": 9,\n",
    "            \"N_DOFPRESCRIPTIONS\": 6,\n",
    "            \"N_DOFLOADED\": 4,\n",
    "            \"N_DOFSPRINGS\": 0,\n",
    "            \"COORDINATES\": #X,Y\n",
    "            np.array([\n",
    "            [0.0,0.0],\n",
    "            [5.25,0.0],\n",
    "            [0.0,3.0],\n",
    "            [5.25,3.0],\n",
    "            [0.0,6.0],\n",
    "            [5.25,6.0],\n",
    "            [0.0,9.0],\n",
    "            [5.25,9.0]]),\n",
    "\n",
    "            \"ELEMENTS\": #NODE 1,NODE 2,MATERIAL ID,SECTION ID,HINGE ID NODE 1,HINGE ID NODE 2\n",
    "            np.array([\n",
    "            [0,2,0,0,0,0],\n",
    "            [1,3,0,0,0,0],\n",
    "            [2,3,0,0,0,0],\n",
    "            [2,4,0,0,0,0],\n",
    "            [3,5,0,0,0,0],\n",
    "            [4,5,0,0,0,0],\n",
    "            [4,6,0,0,0,0],\n",
    "            [5,7,0,0,0,0],\n",
    "            [6,7,0,0,0,0]]),\n",
    "\n",
    "            \"MATERIALS\": #YOUNG,POISSON,DENSITY,THERMAL COEFFICIENT\n",
    "            np.array([[200E9, 0.30,1,1E-8]]),                                #ES(young) deve vir do perfil, ver unidades\n",
    "            \"SECTIONS\": #AREA,INERTIA 1,INERTIA 2,X GC,Y GC\n",
    "            np.array([[0.02,0.000067,0.000067,0.05,0.1]]),                   #inercia deve vir do perfil, ver unidades\n",
    "            \"PRESCRIBED DISPLACEMENTS\": #NODE,DIRECTION(X=0,Y=1,Z=2),VALUE\n",
    "            np.array([[0,0,0],\n",
    "            [0,1,0],\n",
    "            [0,2,0],\n",
    "            [1,0,0],\n",
    "            [1,1,0],\n",
    "            [1,2,0]]),\n",
    "            \"ELEMENT LOADS\": None,\n",
    "            \"NODAL LOADS\":  #NODE,DIRECTION(X=0,Y=1,Z=2),VALUE\n",
    "            np.array([\n",
    "            [2,0, 10000,0],                                           #colocar carregamentos\n",
    "            [4,0, 10000,0],\n",
    "            [6,0, 10000,0],\n",
    "            [6,1,-10000,0],\n",
    "            [7,1,-10000,0]]),\n",
    "            \"SPRINGS\": None}\n",
    "    \n",
    "    FRAME_00_RESULTS = MEF1D(DICTIONARY = FRAME_00)\n",
    "    ELEMENT = pd.DataFrame(data = FRAME_00_RESULTS[ELEMENTO_ANALISADO])\n",
    "    M_SD = max(ELEMENT['M'].max(),abs(ELEMENT['M'].min()))\n",
    "    V_SD = max(ELEMENT['V'].max(),abs(ELEMENT['V'].min()))\n",
    "    N_SD = max(ELEMENT['N'].max(),abs(ELEMENT['N'].min()))\n",
    "    D_SD = min(ELEMENT['UX'].max(),abs(ELEMENT['UX'].min()))\n",
    "    L_MAX = ELEMENT['X'].max()\n",
    "    \n",
    "    #escolher vigas analisadas e determinar esforcos maximos(M,V,DELTA)\n",
    "    \n",
    "    ESFORCOS = {'M_SD': M_SD,\n",
    "                'V_SD': V_SD,\n",
    "                'D_SD': D_SD,\n",
    "                'L_MAX': L_MAX}\n",
    "    \n",
    "    R_0, S_0, G_0 = VERIFICACAO_VIGA_METALICA_MOMENTO_FLETOR(VIGA, ESFORCOS) \n",
    "\n",
    "    R_1, S_1, G_1 = VERIFICACAO_VIGA_METALICA_ESFORCO_CORTANTE(VIGA, ESFORCOS)\n",
    "    \n",
    "    R_2, S_2, G_2 = VERIFICACAO_VIGA_METALICA_DEFORMACAO(VIGA, ESFORCOS)\n",
    "    \n",
    "    R = [R_0, R_1, R_2] \n",
    "    S = [S_0, S_1, S_2] \n",
    "    G = [G_0, G_1, G_2]\n",
    "\n",
    "    return R, S, G"
   ]
  },
  {
   "cell_type": "code",
   "execution_count": 9,
   "metadata": {},
   "outputs": [
    {
     "name": "stdout",
     "output_type": "stream",
     "text": [
      "<class 'numpy.ndarray'>\n",
      "[[21860.54801648  1148.52987842]\n",
      " [17847.04427484   840.5451417 ]\n",
      " [20314.78825986  1042.16263789]\n",
      " [19503.55275516   926.20363347]\n",
      " [19849.0765636    923.65541244]\n",
      " [19746.32680006   840.52269891]\n",
      " [20640.78952493  1008.95922924]\n",
      " [21628.76611301  1067.36446117]\n",
      " [19274.40812723  1098.80814662]\n",
      " [19291.26303765   931.66814478]]\n"
     ]
    },
    {
     "ename": "KeyError",
     "evalue": "'PARAMETRO_PERFIL'",
     "output_type": "error",
     "traceback": [
      "\u001b[1;31m---------------------------------------------------------------------------\u001b[0m",
      "\u001b[1;31mKeyError\u001b[0m                                  Traceback (most recent call last)",
      "\u001b[1;32m<ipython-input-9-a0716c044012>\u001b[0m in \u001b[0;36m<module>\u001b[1;34m\u001b[0m\n\u001b[1;32m----> 1\u001b[1;33m \u001b[0mRESULTS_TEST\u001b[0m \u001b[1;33m=\u001b[0m \u001b[0mRASD_STOCHASTIC\u001b[0m\u001b[1;33m(\u001b[0m\u001b[0mSETUP\u001b[0m\u001b[1;33m,\u001b[0m \u001b[0mOBJ\u001b[0m\u001b[1;33m)\u001b[0m\u001b[1;33m\u001b[0m\u001b[1;33m\u001b[0m\u001b[0m\n\u001b[0m",
      "\u001b[1;32m~\\Documents\\GitHub\\RASD-ALGORITMOS\\RASD_TOOLBOX\\RASD.py\u001b[0m in \u001b[0;36mRASD_STOCHASTIC\u001b[1;34m(SETUP, OF_FUNCTION)\u001b[0m\n\u001b[0;32m    133\u001b[0m             \u001b[0mSAMPLE\u001b[0m \u001b[1;33m=\u001b[0m \u001b[0mDATASET_X\u001b[0m\u001b[1;33m[\u001b[0m\u001b[0mI_COUNT\u001b[0m\u001b[1;33m,\u001b[0m \u001b[1;33m:\u001b[0m\u001b[1;33m]\u001b[0m\u001b[1;33m\u001b[0m\u001b[1;33m\u001b[0m\u001b[0m\n\u001b[0;32m    134\u001b[0m             \u001b[1;31m# Limit State function\u001b[0m\u001b[1;33m\u001b[0m\u001b[1;33m\u001b[0m\u001b[1;33m\u001b[0m\u001b[0m\n\u001b[1;32m--> 135\u001b[1;33m             \u001b[1;33m[\u001b[0m\u001b[0mR\u001b[0m\u001b[1;33m,\u001b[0m \u001b[0mS\u001b[0m\u001b[1;33m,\u001b[0m \u001b[0mG\u001b[0m\u001b[1;33m]\u001b[0m \u001b[1;33m=\u001b[0m \u001b[0mOF_FUNCTION\u001b[0m\u001b[1;33m(\u001b[0m\u001b[0mSAMPLE\u001b[0m\u001b[1;33m)\u001b[0m\u001b[1;33m\u001b[0m\u001b[1;33m\u001b[0m\u001b[0m\n\u001b[0m\u001b[0;32m    136\u001b[0m             \u001b[1;31m# Failure or not failure - I sample\u001b[0m\u001b[1;33m\u001b[0m\u001b[1;33m\u001b[0m\u001b[1;33m\u001b[0m\u001b[0m\n\u001b[0;32m    137\u001b[0m             \u001b[1;32mfor\u001b[0m \u001b[0mK_COUNT\u001b[0m \u001b[1;32min\u001b[0m \u001b[0mrange\u001b[0m\u001b[1;33m(\u001b[0m\u001b[0mN_G\u001b[0m\u001b[1;33m)\u001b[0m\u001b[1;33m:\u001b[0m\u001b[1;33m\u001b[0m\u001b[1;33m\u001b[0m\u001b[0m\n",
      "\u001b[1;32m<ipython-input-8-32e6be14a2f5>\u001b[0m in \u001b[0;36mOBJ\u001b[1;34m(X)\u001b[0m\n\u001b[0;32m     88\u001b[0m                 'L_MAX': L_MAX}\n\u001b[0;32m     89\u001b[0m \u001b[1;33m\u001b[0m\u001b[0m\n\u001b[1;32m---> 90\u001b[1;33m     \u001b[0mR_0\u001b[0m\u001b[1;33m,\u001b[0m \u001b[0mS_0\u001b[0m\u001b[1;33m,\u001b[0m \u001b[0mG_0\u001b[0m \u001b[1;33m=\u001b[0m \u001b[0mVERIFICACAO_VIGA_METALICA_MOMENTO_FLETOR\u001b[0m\u001b[1;33m(\u001b[0m\u001b[0mVIGA\u001b[0m\u001b[1;33m,\u001b[0m \u001b[0mESFORCOS\u001b[0m\u001b[1;33m)\u001b[0m\u001b[1;33m\u001b[0m\u001b[1;33m\u001b[0m\u001b[0m\n\u001b[0m\u001b[0;32m     91\u001b[0m \u001b[1;33m\u001b[0m\u001b[0m\n\u001b[0;32m     92\u001b[0m     \u001b[0mR_1\u001b[0m\u001b[1;33m,\u001b[0m \u001b[0mS_1\u001b[0m\u001b[1;33m,\u001b[0m \u001b[0mG_1\u001b[0m \u001b[1;33m=\u001b[0m \u001b[0mVERIFICACAO_VIGA_METALICA_ESFORCO_CORTANTE\u001b[0m\u001b[1;33m(\u001b[0m\u001b[0mVIGA\u001b[0m\u001b[1;33m,\u001b[0m \u001b[0mESFORCOS\u001b[0m\u001b[1;33m)\u001b[0m\u001b[1;33m\u001b[0m\u001b[1;33m\u001b[0m\u001b[0m\n",
      "\u001b[1;32m~\\Documents\\GitHub\\RASD-ALGORITMOS\\VIGA_METALICA_VERIFICA.py\u001b[0m in \u001b[0;36mVERIFICACAO_VIGA_METALICA_MOMENTO_FLETOR\u001b[1;34m(VIGA, ESFORCOS)\u001b[0m\n\u001b[0;32m    191\u001b[0m     \u001b[0mW_C\u001b[0m \u001b[1;33m=\u001b[0m \u001b[0mVIGA\u001b[0m\u001b[1;33m[\u001b[0m\u001b[1;34m'W_C'\u001b[0m\u001b[1;33m]\u001b[0m\u001b[1;33m\u001b[0m\u001b[1;33m\u001b[0m\u001b[0m\n\u001b[0;32m    192\u001b[0m     \u001b[0mW_T\u001b[0m \u001b[1;33m=\u001b[0m \u001b[0mVIGA\u001b[0m\u001b[1;33m[\u001b[0m\u001b[1;34m'W_T'\u001b[0m\u001b[1;33m]\u001b[0m\u001b[1;33m\u001b[0m\u001b[1;33m\u001b[0m\u001b[0m\n\u001b[1;32m--> 193\u001b[1;33m     \u001b[0mPARAMETRO_PERFIL\u001b[0m \u001b[1;33m=\u001b[0m \u001b[0mVIGA\u001b[0m\u001b[1;33m[\u001b[0m\u001b[1;34m'PARAMETRO_PERFIL'\u001b[0m\u001b[1;33m]\u001b[0m\u001b[1;33m\u001b[0m\u001b[1;33m\u001b[0m\u001b[0m\n\u001b[0m\u001b[0;32m    194\u001b[0m     \u001b[0mTIPO_PERFIL\u001b[0m \u001b[1;33m=\u001b[0m \u001b[0mVIGA\u001b[0m\u001b[1;33m[\u001b[0m\u001b[1;34m'TIPO_PERFIL'\u001b[0m\u001b[1;33m]\u001b[0m\u001b[1;33m\u001b[0m\u001b[1;33m\u001b[0m\u001b[0m\n\u001b[0;32m    195\u001b[0m     \u001b[0mPERFIL\u001b[0m \u001b[1;33m=\u001b[0m \u001b[0mVIGA\u001b[0m\u001b[1;33m[\u001b[0m\u001b[1;34m'PERFIL'\u001b[0m\u001b[1;33m]\u001b[0m\u001b[1;33m\u001b[0m\u001b[1;33m\u001b[0m\u001b[0m\n",
      "\u001b[1;31mKeyError\u001b[0m: 'PARAMETRO_PERFIL'"
     ]
    }
   ],
   "source": [
    "RESULTS_TEST = RASD_STOCHASTIC(SETUP, OBJ)"
   ]
  },
  {
   "cell_type": "code",
   "execution_count": null,
   "metadata": {},
   "outputs": [],
   "source": [
    "RESULTS_TEST[0]['TOTAL RESULTS']"
   ]
  },
  {
   "cell_type": "code",
   "execution_count": null,
   "metadata": {},
   "outputs": [],
   "source": [
    "DADOS = RESULTS_TEST[0]['TOTAL RESULTS']"
   ]
  },
  {
   "cell_type": "code",
   "execution_count": null,
   "metadata": {},
   "outputs": [],
   "source": [
    "DADOS = RESULTS_TEST[len(POP)-1]['TOTAL RESULTS']"
   ]
  },
  {
   "cell_type": "code",
   "execution_count": null,
   "metadata": {},
   "outputs": [],
   "source": [
    "OPCOES_GRAFICAS = {'NAME': 'WANDER',\n",
    "                'WIDTH': 0.40, \n",
    "                'HEIGHT': 0.20, \n",
    "                'X AXIS SIZE': 20,\n",
    "                'Y AXIS SIZE': 20,\n",
    "                'AXISES COLOR': '#000000',\n",
    "                'X AXIS LABEL': '$x_0$ - $P_X (lb)$',\n",
    "                'LABELS SIZE': 16,\n",
    "                'LABELS COLOR': '#000000',  \n",
    "                'CHART COLOR': '#FEB625',\n",
    "                'KDE': False,\n",
    "                'DPI': 600, \n",
    "                'BINS' : 20,\n",
    "                'EXTENSION': '.svg'}\n",
    "# RESULTS X_0 VARIABLE\n",
    "OPCOES_DADOS = {'DATASET': DADOS, 'COLUMN': 'X_0'}      \n",
    "# CALL PLOT\n",
    "RASD_PLOT_1(OPCOES_DADOS, OPCOES_GRAFICAS)"
   ]
  },
  {
   "cell_type": "code",
   "execution_count": null,
   "metadata": {},
   "outputs": [],
   "source": [
    "OPCOES_GRAFICAS = {'NAME': 'WANDER',\n",
    "                'EXTENSION': '.svg',\n",
    "                'DPI': 600,\n",
    "                'WIDTH': 0.300, \n",
    "                'HEIGHT': 0.150,              \n",
    "                'X DATA': 'S_0',\n",
    "                'Y DATA': 'R_0',\n",
    "                'X AXIS SIZE': 16,\n",
    "                'Y AXIS SIZE': 16,\n",
    "                'AXISES COLOR': '#000000',\n",
    "                'X AXIS LABEL': '$S_0$',\n",
    "                'Y AXIS LABEL': '$R_0$',\n",
    "                'LABELS SIZE': 18,\n",
    "                'LABELS COLOR': '#000000',\n",
    "                'LOC LEGEND': 'lower right',\n",
    "                'TITLE LEGEND': 'Failure index ($I$):'}\n",
    "# RESULTS\n",
    "OPCOES_DADOS = {'DATASET': DADOS, 'X DATA': 'S_0', 'Y DATA': 'R_0', 'HUE VALUE': 'I_0'}    \n",
    "# CALL PLOT\n",
    "RASD_PLOT_2(OPCOES_DADOS, OPCOES_GRAFICAS)"
   ]
  },
  {
   "cell_type": "code",
   "execution_count": null,
   "metadata": {
    "scrolled": true
   },
   "outputs": [],
   "source": [
    "OPCOES_GRAFICAS = {'NAME': 'WANDER',\n",
    "                'EXTENSION': '.svg',\n",
    "                'DPI': 600,\n",
    "                'WIDTH': 0.20, \n",
    "                'HEIGHT': 0.10,              \n",
    "                'X DATA': 'S_0',\n",
    "                'Y DATA': 'R_0',\n",
    "                'X AXIS SIZE': 20,\n",
    "                'Y AXIS SIZE': 20,\n",
    "                'AXISES COLOR': '#000000',\n",
    "                'X AXIS LABEL': '$S_0$',\n",
    "                'Y AXIS LABEL': '$R_0$',\n",
    "                'LABELS SIZE': 16,\n",
    "                'LABELS COLOR': '#000000',\n",
    "                'G VALUE': 'G_0',\n",
    "                'TRANSPARENCY': 0.8,\n",
    "                'COLOR MAP': 'viridis'}\n",
    "\n",
    "\n",
    "# RESULTS\n",
    "OPCOES_DADOS = {'DATASET': DADOS, 'X DATA': 'S_0', 'Y DATA': 'R_0', 'G VALUE': 'G_0'}       \n",
    "\n",
    "# CALL PLOT\n",
    "RASD_PLOT_3(OPCOES_DADOS, OPCOES_GRAFICAS)"
   ]
  },
  {
   "cell_type": "code",
   "execution_count": null,
   "metadata": {},
   "outputs": [],
   "source": [
    "plt.hist(RESULTS_TEST[0]['TOTAL RESULTS']['R_0'], bins=50, label='a', alpha=0.5)\n",
    "plt.hist(RESULTS_TEST[0]['TOTAL RESULTS']['S_0'], bins=50, label='b', alpha=0.5)"
   ]
  },
  {
   "cell_type": "code",
   "execution_count": null,
   "metadata": {},
   "outputs": [],
   "source": [
    "OPCOES_GRAFICAS = {'NAME': 'WANDER',\n",
    "                    'EXTENSION': '.svg',\n",
    "                    'DPI': 600,\n",
    "                    'WIDTH': 0.20,\n",
    "                    'HEIGHT': 0.10,\n",
    "                    'X DATA': 'S_0',\n",
    "                    'Y DATA': 'R_0',\n",
    "                    'X AXIS SIZE': 20,\n",
    "                    'Y AXIS SIZE': 20,\n",
    "                    'AXISES COLOR': '#000000',\n",
    "                    'X AXIS LABEL': '$G_0 + G_0$',\n",
    "                    'Y AXIS LABEL': '$SOMATÓRIO$',\n",
    "                    'LABELS SIZE': 16,\n",
    "                    'LABELS COLOR': '#000000',\n",
    "                    'C VALUE': 'G_0',\n",
    "                    'TRANSPARENCY': 0.8,\n",
    "                    'COLOR MAP': 'viridis',\n",
    "                    'BINS': '50',\n",
    "                    'ALPHA': '0.5'}\n",
    "\n",
    "# RESULTS\n",
    "OPCOES_DADOS = {'DATASET': DADOS, 'X DATA': 'S_0', 'Y DATA': 'R_0', 'G VALUE': 'G_0'}       \n",
    "\n",
    "# CALL PLOT\n",
    "RASD_PLOT_4(OPCOES_DADOS, OPCOES_GRAFICAS)"
   ]
  },
  {
   "cell_type": "code",
   "execution_count": null,
   "metadata": {},
   "outputs": [],
   "source": [
    "OPCOES_GRAFICAS = {'NAME': 'WANDER',\n",
    "                    'EXTENSION': '.svg',\n",
    "                    'DPI': 600,\n",
    "                    'WIDTH': 0.20,\n",
    "                    'HEIGHT': 0.10,\n",
    "                    'X AXIS SIZE': 20,\n",
    "                    'Y AXIS SIZE': 20,\n",
    "                    'AXISES COLOR': '#000000',\n",
    "                    'X AXIS LABEL': 'Número de Simulações (ns)',\n",
    "                    'Y AXIS LABEL': 'Probabilidade de Falha',\n",
    "                    'LABELS SIZE': 16,\n",
    "                    'LABELS COLOR': '#000000',\n",
    "                    'CHART COLOR': 'black',\n",
    "                    'POPULATION' : POP,\n",
    "                    'TYPE' : 'pf'}\n",
    "\n",
    "# RESULTS\n",
    "OPCOES_DADOS = {'DATASET': RESULTS_TEST}       \n",
    "\n",
    "# CALL PLOT\n",
    "RASD_PLOT_5(OPCOES_DADOS, OPCOES_GRAFICAS)"
   ]
  },
  {
   "cell_type": "code",
   "execution_count": null,
   "metadata": {},
   "outputs": [],
   "source": [
    "OPCOES_GRAFICAS = {'NAME': 'WANDER',\n",
    "                    'EXTENSION': '.svg',\n",
    "                    'DPI': 600,\n",
    "                    'WIDTH': 0.20,\n",
    "                    'HEIGHT': 0.10,\n",
    "                    'X AXIS SIZE': 20,\n",
    "                    'Y AXIS SIZE': 20,\n",
    "                    'AXISES COLOR': '#000000',\n",
    "                    'X AXIS LABEL': 'Número de Simulações (ns)',\n",
    "                    'Y AXIS LABEL': 'Beta',\n",
    "                    'LABELS SIZE': 16,\n",
    "                    'LABELS COLOR': '#000000',\n",
    "                    'CHART COLOR': 'black',\n",
    "                    'POPULATION' : POP,\n",
    "                    'TYPE' : 'beta'}\n",
    "\n",
    "# RESULTS\n",
    "OPCOES_DADOS = {'DATASET': RESULTS_TEST}       \n",
    "\n",
    "# CALL PLOT\n",
    "RASD_PLOT_5(OPCOES_DADOS, OPCOES_GRAFICAS)"
   ]
  },
  {
   "cell_type": "code",
   "execution_count": null,
   "metadata": {},
   "outputs": [],
   "source": [
    "RESULTS_TEST[2]"
   ]
  }
 ],
 "metadata": {
  "kernelspec": {
   "display_name": "Python 3",
   "language": "python",
   "name": "python3"
  },
  "language_info": {
   "codemirror_mode": {
    "name": "ipython",
    "version": 3
   },
   "file_extension": ".py",
   "mimetype": "text/x-python",
   "name": "python",
   "nbconvert_exporter": "python",
   "pygments_lexer": "ipython3",
   "version": "3.8.8"
  }
 },
 "nbformat": 4,
 "nbformat_minor": 4
}
