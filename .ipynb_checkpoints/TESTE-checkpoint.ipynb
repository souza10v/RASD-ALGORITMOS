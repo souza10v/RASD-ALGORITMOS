{
 "cells": [
  {
   "cell_type": "code",
   "execution_count": 1,
   "metadata": {},
   "outputs": [],
   "source": [
    "import RASD\n",
    "\n",
    "V_1 = ['NORMAL', 500, 100]\n",
    "V_2 = ['NORMAL', 1000, 100]\n",
    "\n",
    "SETUP = {'REPETITIONS': 1,\n",
    "        'TOTAL SAMPLING': 10,\n",
    "        'TOTAL G FUNCTIONS': 1,\n",
    "        'TOTAL DESIGN VARIABLES': 2,\n",
    "        'VARS': [V_1, V_2],\n",
    "        'MODEL': 'MCS'}\n",
    "\n",
    "def OBJ(X):\n",
    "    D0 = 3\n",
    "    Length = 100\n",
    "    E = 30 * 10**6\n",
    "    W = 2\n",
    "    T = 4\n",
    "    Px = X[0]\n",
    "    Py = X[1]\n",
    "    G1 = D0 - (4 * Length ** 3 / (E * W * T)) * (((Py / T ** 2) ** 2  + (Px / W ** 2) ** 2) ** 0.5)\n",
    "    G.append(G1)\n",
    "    return G\n",
    "\n"
   ]
  },
  {
   "cell_type": "code",
   "execution_count": 2,
   "metadata": {},
   "outputs": [
    {
     "name": "stdout",
     "output_type": "stream",
     "text": [
      "[[ 572.87311283  911.30911775]\n",
      " [ 483.02290945  979.15471675]\n",
      " [ 554.74123016 1067.39954533]\n",
      " [ 575.71694198 1126.57485593]\n",
      " [ 450.84262631 1085.92466891]\n",
      " [ 589.81924755  963.10268236]\n",
      " [ 691.64411108 1109.65324055]\n",
      " [ 445.02726692 1053.83448816]\n",
      " [ 547.17400422 1107.58861846]\n",
      " [ 671.40115926  976.05805253]]\n"
     ]
    }
   ],
   "source": [
    "sampling = RASD.RASD(SETUP, OBJ)\n",
    "print(sampling)"
   ]
  }
 ],
 "metadata": {
  "kernelspec": {
   "display_name": "Python 3",
   "language": "python",
   "name": "python3"
  },
  "language_info": {
   "codemirror_mode": {
    "name": "ipython",
    "version": 3
   },
   "file_extension": ".py",
   "mimetype": "text/x-python",
   "name": "python",
   "nbconvert_exporter": "python",
   "pygments_lexer": "ipython3",
   "version": "3.8.3"
  }
 },
 "nbformat": 4,
 "nbformat_minor": 2
}
