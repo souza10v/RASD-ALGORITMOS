{
 "cells": [
  {
   "cell_type": "code",
   "execution_count": 1,
   "metadata": {},
   "outputs": [
    {
     "name": "stdout",
     "output_type": "stream",
     "text": [
      "Requirement already satisfied: pyDOE in c:\\programdata\\anaconda3\\lib\\site-packages (0.3.8)\n",
      "Requirement already satisfied: scipy in c:\\programdata\\anaconda3\\lib\\site-packages (from pyDOE) (1.5.0)\n",
      "Requirement already satisfied: numpy in c:\\programdata\\anaconda3\\lib\\site-packages (from pyDOE) (1.18.5)\n"
     ]
    }
   ],
   "source": [
    "!pip install pyDOE"
   ]
  },
  {
   "cell_type": "code",
   "execution_count": 4,
   "metadata": {},
   "outputs": [],
   "source": [
    "import RASD\n",
    "\n",
    "V_1 = ['NORMAL', 500, 100]\n",
    "V_2 = ['NORMAL', 1000, 1000]\n",
    "\n",
    "SETUP = {'REPETITIONS': 1,\n",
    "        'TOTAL SAMPLING': 10,\n",
    "        'TOTAL G FUNCTIONS': 3,\n",
    "        'TOTAL DESIGN VARIABLES': 2,\n",
    "        'VARS': [V_1, V_2],\n",
    "        'MODEL': 'MCS'}\n",
    "\n",
    "def OBJ(X):\n",
    "    G = []\n",
    "    D0 = 3\n",
    "    Length = 100\n",
    "    E = 30 * 10**6\n",
    "    W = 2\n",
    "    T = 4\n",
    "    Px = X[0]\n",
    "    Py = X[1]\n",
    "    G1 = D0 - (4 * Length ** 3 / (E * W * T)) * (((Py / T ** 2) ** 2  + (Px / W ** 2) ** 2) ** 0.5)\n",
    "    G2 = D0 - (4 * Length ** 3 / (E * W * T)) * (((Py / T ** 2) ** 2  + (Px / W ** 2) ** 2) ** 0.5)\n",
    "    G3 = D0 - (4 * Length ** 3 / (E * W * T)) * (((Py / T ** 2) ** 2  + (Px / W ** 2) ** 2) ** 0.5)\n",
    "    G = [G1, G2, G3]\n",
    "    return G\n",
    "\n"
   ]
  },
  {
   "cell_type": "code",
   "execution_count": 5,
   "metadata": {},
   "outputs": [
    {
     "name": "stdout",
     "output_type": "stream",
     "text": [
      "[[ 5.15787182e+02  1.76011554e+03  1.75068101e-01  1.75068101e-01\n",
      "   1.75068101e-01  0.00000000e+00  0.00000000e+00  0.00000000e+00]\n",
      " [ 5.03561030e+02  2.12078901e+03 -4.67504218e-02 -4.67504218e-02\n",
      "  -4.67504218e-02  1.00000000e+00  1.00000000e+00  1.00000000e+00]\n",
      " [ 3.13312937e+02 -4.12311252e+02  1.62569442e+00  1.62569442e+00\n",
      "   1.62569442e+00  0.00000000e+00  0.00000000e+00  0.00000000e+00]\n",
      " [ 5.22173734e+02 -9.63446835e+02  6.03968227e-01  6.03968227e-01\n",
      "   6.03968227e-01  0.00000000e+00  0.00000000e+00  0.00000000e+00]\n",
      " [ 3.46558887e+02  1.21666369e+03  1.07871945e+00  1.07871945e+00\n",
      "   1.07871945e+00  0.00000000e+00  0.00000000e+00  0.00000000e+00]\n",
      " [ 4.51838824e+02  1.09033951e+03  8.01275474e-01  8.01275474e-01\n",
      "   8.01275474e-01  0.00000000e+00  0.00000000e+00  0.00000000e+00]\n",
      " [ 4.19158668e+02  1.96719916e+03  3.07543257e-01  3.07543257e-01\n",
      "   3.07543257e-01  0.00000000e+00  0.00000000e+00  0.00000000e+00]\n",
      " [ 3.24569558e+02  7.07479752e+02  1.45986352e+00  1.45986352e+00\n",
      "   1.45986352e+00  0.00000000e+00  0.00000000e+00  0.00000000e+00]\n",
      " [ 5.53712917e+02  1.00304569e+03  4.67299676e-01  4.67299676e-01\n",
      "   4.67299676e-01  0.00000000e+00  0.00000000e+00  0.00000000e+00]\n",
      " [ 6.83796040e+02 -1.27577147e+03 -1.43836502e-01 -1.43836502e-01\n",
      "  -1.43836502e-01  1.00000000e+00  1.00000000e+00  1.00000000e+00]]\n"
     ]
    }
   ],
   "source": [
    "results = RASD.RASD(SETUP, OBJ)\n",
    "print(results)"
   ]
  },
  {
   "cell_type": "code",
   "execution_count": null,
   "metadata": {},
   "outputs": [],
   "source": []
  }
 ],
 "metadata": {
  "kernelspec": {
   "display_name": "Python 3",
   "language": "python",
   "name": "python3"
  },
  "language_info": {
   "codemirror_mode": {
    "name": "ipython",
    "version": 3
   },
   "file_extension": ".py",
   "mimetype": "text/x-python",
   "name": "python",
   "nbconvert_exporter": "python",
   "pygments_lexer": "ipython3",
   "version": "3.8.3"
  }
 },
 "nbformat": 4,
 "nbformat_minor": 2
}
