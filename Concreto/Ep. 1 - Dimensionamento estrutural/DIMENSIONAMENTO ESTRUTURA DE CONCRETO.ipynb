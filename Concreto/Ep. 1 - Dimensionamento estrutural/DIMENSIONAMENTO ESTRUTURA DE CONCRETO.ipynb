{
 "cells": [
  {
   "cell_type": "markdown",
   "metadata": {},
   "source": [
    "### PRÉ - DIMENSIONAMENTO DOS ELEMENTOS\n",
    "\n",
    "Para o pré-dimensionamento dos elementos foi empregado a bibliografia de Rebello (2007)\n",
    "\n",
    "<img src=\"imgs/Rebello_Pré-Dimensionamento viga de concreto.png\" width=\"50%\" height=\"50%\">\n",
    "\n",
    "As dimensões selecionadas foram de 14 x 45 cm\n",
    "\n",
    "Para as lajes também utilizou-se o modelo estabelecido em Rebello (2007)\n",
    "\n",
    "<img src=\"imgs/Rebello_Pré-Dimensionamento laje de concreto.png\" width=\"50%\" height=\"50%\">\n",
    "\n",
    "A dimensão da laje adotada para laje é de 12 cm\n",
    "\n",
    "Já para os pilares foi utilizado o processo de área de influência considerando um total de 12 kN/m2 como carga total. Considerando então a seguinte área de influência:\n",
    "\n",
    "<img src=\"imgs/Ainf_pil.png\" width=\"50%\" height=\"50%\">\n",
    "\n",
    "- $A_i = 3.38 m²$\n",
    "\n",
    "$${N_d}^\\ast = Q . A_i . n_pavtos . \\alpha $$ \n",
    "\n",
    "Onde:\n",
    "- ${N_d}^\\ast$ Carga de projeto de projeto de pré-dimensionamento\n",
    "- $Q$ Carregamento em área\n",
    "- $A_i$ Área de influência\n",
    "- $n_pavtos$ Número de pavimento do andar desejado\n",
    "- $\\alpha$ Coeficiente de transformação de pilar: Para pilar de cando $\\alpha = 2.50$\n"
   ]
  },
  {
   "cell_type": "code",
   "execution_count": 5,
   "metadata": {},
   "outputs": [
    {
     "name": "stdout",
     "output_type": "stream",
     "text": [
      "Carga de projeto N_d:  304.2000 kN\n"
     ]
    }
   ],
   "source": [
    "N_D = 12 * 3.38 * 3 * 2.50\n",
    "print(\"Carga de projeto N_d: \", \"%.4f\" % N_D, \"kN\")"
   ]
  },
  {
   "cell_type": "markdown",
   "metadata": {},
   "source": [
    "Determinada a carga de projeto então faz-se a verificação da área de pré-dimensionamento de pilar (Resguardando o valor mínimo de $360$ cm²).\n",
    "\n",
    " $$A_c=\\frac{{N_d}^\\ast}{0,85.f_{cd}+\\rho \\sigma_{s,\\varepsilon=0,2\\%}}$$ \n",
    " \n",
    "Considerando uma taxa mecânica de armadura de $2,00\\%$ e $f_{^ck} = 30$ MPa"
   ]
  },
  {
   "cell_type": "code",
   "execution_count": 6,
   "metadata": {},
   "outputs": [
    {
     "name": "stdout",
     "output_type": "stream",
     "text": [
      "N_D:  304.2000 kN \n",
      "A_C:  114.2995 cm²\n"
     ]
    }
   ],
   "source": [
    "F_CD = 30 / 1.4 / 10\n",
    "RHO = 2 / 100\n",
    "A_C = N_D / (0.85 * F_CD + RHO * 42)\n",
    "print(\"N_D: \", \"%.4f\" % N_D, \"kN\", \"\\nA_C: \", \"%.4f\" % A_C, \"cm²\")"
   ]
  },
  {
   "cell_type": "markdown",
   "metadata": {},
   "source": [
    "Como a área necessário é inferior ao mínimo exigido por norma os pilares foram adotados com dimensiões de 14 x 40 cm"
   ]
  }
 ],
 "metadata": {
  "kernelspec": {
   "display_name": "Python 3",
   "language": "python",
   "name": "python3"
  },
  "language_info": {
   "codemirror_mode": {
    "name": "ipython",
    "version": 3
   },
   "file_extension": ".py",
   "mimetype": "text/x-python",
   "name": "python",
   "nbconvert_exporter": "python",
   "pygments_lexer": "ipython3",
   "version": "3.7.6"
  }
 },
 "nbformat": 4,
 "nbformat_minor": 4
}
