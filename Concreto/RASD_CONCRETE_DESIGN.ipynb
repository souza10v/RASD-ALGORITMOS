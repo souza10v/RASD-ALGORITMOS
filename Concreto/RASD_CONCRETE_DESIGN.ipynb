{
 "cells": [
  {
   "cell_type": "code",
   "execution_count": 3,
   "metadata": {
    "scrolled": true
   },
   "outputs": [
    {
     "name": "stdout",
     "output_type": "stream",
     "text": [
      "Requirement already satisfied: pyDOE in c:\\users\\wanderlei\\anaconda3\\lib\\site-packages (0.3.8)\n",
      "Requirement already satisfied: scipy in c:\\users\\wanderlei\\anaconda3\\lib\\site-packages (from pyDOE) (1.4.1)\n",
      "Requirement already satisfied: numpy in c:\\users\\wanderlei\\anaconda3\\lib\\site-packages (from pyDOE) (1.18.1)\n",
      "Requirement already up-to-date: seaborn in c:\\users\\wanderlei\\anaconda3\\lib\\site-packages (0.11.1)\n",
      "Requirement already satisfied, skipping upgrade: pandas>=0.23 in c:\\users\\wanderlei\\anaconda3\\lib\\site-packages (from seaborn) (1.0.1)\n",
      "Requirement already satisfied, skipping upgrade: matplotlib>=2.2 in c:\\users\\wanderlei\\anaconda3\\lib\\site-packages (from seaborn) (3.1.3)\n",
      "Requirement already satisfied, skipping upgrade: numpy>=1.15 in c:\\users\\wanderlei\\anaconda3\\lib\\site-packages (from seaborn) (1.18.1)\n",
      "Requirement already satisfied, skipping upgrade: scipy>=1.0 in c:\\users\\wanderlei\\anaconda3\\lib\\site-packages (from seaborn) (1.4.1)\n",
      "Requirement already satisfied, skipping upgrade: pytz>=2017.2 in c:\\users\\wanderlei\\anaconda3\\lib\\site-packages (from pandas>=0.23->seaborn) (2019.3)\n",
      "Requirement already satisfied, skipping upgrade: python-dateutil>=2.6.1 in c:\\users\\wanderlei\\anaconda3\\lib\\site-packages (from pandas>=0.23->seaborn) (2.8.1)\n",
      "Requirement already satisfied, skipping upgrade: cycler>=0.10 in c:\\users\\wanderlei\\anaconda3\\lib\\site-packages (from matplotlib>=2.2->seaborn) (0.10.0)\n",
      "Requirement already satisfied, skipping upgrade: pyparsing!=2.0.4,!=2.1.2,!=2.1.6,>=2.0.1 in c:\\users\\wanderlei\\anaconda3\\lib\\site-packages (from matplotlib>=2.2->seaborn) (2.4.6)\n",
      "Requirement already satisfied, skipping upgrade: kiwisolver>=1.0.1 in c:\\users\\wanderlei\\anaconda3\\lib\\site-packages (from matplotlib>=2.2->seaborn) (1.1.0)\n",
      "Requirement already satisfied, skipping upgrade: six>=1.5 in c:\\users\\wanderlei\\anaconda3\\lib\\site-packages (from python-dateutil>=2.6.1->pandas>=0.23->seaborn) (1.14.0)\n",
      "Requirement already satisfied, skipping upgrade: setuptools in c:\\users\\wanderlei\\anaconda3\\lib\\site-packages (from kiwisolver>=1.0.1->matplotlib>=2.2->seaborn) (45.2.0.post20200210)\n"
     ]
    }
   ],
   "source": [
    "# Instalando as bibliotecas e atualizando \n",
    "!pip install pyDOE\n",
    "!pip install -U seaborn\n",
    "from FINITO import MEF1D\n",
    "from RASD import RASD_MAIN_STOCHASTIC\n",
    "import numpy as np"
   ]
  },
  {
   "cell_type": "code",
   "execution_count": null,
   "metadata": {},
   "outputs": [],
   "source": [
    "G = ['NORMAL', 500, 100]\n",
    "Q = ['NORMAL', 1000, 500]\n",
    "F_CK = ['NORMAL', 500, 100]\n",
    "F_Y = ['NORMAL', 1000, 500]\n",
    "F_Y = ['NORMAL', 1000, 500]\n",
    "F_Y = ['NORMAL', 1000, 500]\n",
    "\n",
    "SETUP = {'REPETITIONS': 1,\n",
    "        'TOTAL SAMPLING': 10,\n",
    "        'TOTAL G FUNCTIONS': 1,\n",
    "        'TOTAL DESIGN VARIABLES': 2,\n",
    "        'VARS': [V_1, V_2],\n",
    "        'MODEL': 'MCS'}\n",
    "\n",
    "def OBJ(X):\n",
    "    R = []\n",
    "    S = []\n",
    "    G = []\n",
    "    D0 = 3\n",
    "    Length = 100\n",
    "    E = 30 * 10**6\n",
    "    W = 2\n",
    "    T = 4\n",
    "    Px = X[0]\n",
    "    Py = X[1]\n",
    "    # LIMIT\n",
    "    R_0 = D0 - Py * 0.20\n",
    "    # DEMAND                      \n",
    "    S_0 = (4 * Length ** 3 / (E * W * T)) * (((Py / T ** 2) ** 2  + (Px / W ** 2) ** 2) ** 0.5)\n",
    "    # STATE LIMIT FUNCTION\n",
    "    G_0 = R_0 - S_0\n",
    "    R = [R_0] \n",
    "    S = [S_0] \n",
    "    G = [G_0]\n",
    "    return R, S, G"
   ]
  }
 ],
 "metadata": {
  "kernelspec": {
   "display_name": "Python 3",
   "language": "python",
   "name": "python3"
  },
  "language_info": {
   "codemirror_mode": {
    "name": "ipython",
    "version": 3
   },
   "file_extension": ".py",
   "mimetype": "text/x-python",
   "name": "python",
   "nbconvert_exporter": "python",
   "pygments_lexer": "ipython3",
   "version": "3.7.6"
  }
 },
 "nbformat": 4,
 "nbformat_minor": 4
}
