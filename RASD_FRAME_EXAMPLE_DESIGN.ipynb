{
 "cells": [
  {
   "cell_type": "code",
   "execution_count": 15,
   "metadata": {
    "scrolled": true
   },
   "outputs": [
    {
     "name": "stdout",
     "output_type": "stream",
     "text": [
      "Requirement already satisfied: pyDOE in c:\\users\\donizetti\\anaconda3\\lib\\site-packages (0.3.8)\n",
      "Requirement already satisfied: numpy in c:\\users\\donizetti\\anaconda3\\lib\\site-packages (from pyDOE) (1.20.1)\n",
      "Requirement already satisfied: scipy in c:\\users\\donizetti\\anaconda3\\lib\\site-packages (from pyDOE) (1.6.2)\n",
      "Requirement already satisfied: seaborn in c:\\users\\donizetti\\anaconda3\\lib\\site-packages (0.11.2)\n",
      "Requirement already satisfied: scipy>=1.0 in c:\\users\\donizetti\\anaconda3\\lib\\site-packages (from seaborn) (1.6.2)\n",
      "Requirement already satisfied: pandas>=0.23 in c:\\users\\donizetti\\anaconda3\\lib\\site-packages (from seaborn) (1.2.4)\n",
      "Requirement already satisfied: numpy>=1.15 in c:\\users\\donizetti\\anaconda3\\lib\\site-packages (from seaborn) (1.20.1)\n",
      "Requirement already satisfied: matplotlib>=2.2 in c:\\users\\donizetti\\anaconda3\\lib\\site-packages (from seaborn) (3.3.4)\n",
      "Requirement already satisfied: pillow>=6.2.0 in c:\\users\\donizetti\\anaconda3\\lib\\site-packages (from matplotlib>=2.2->seaborn) (8.2.0)\n",
      "Requirement already satisfied: pyparsing!=2.0.4,!=2.1.2,!=2.1.6,>=2.0.3 in c:\\users\\donizetti\\anaconda3\\lib\\site-packages (from matplotlib>=2.2->seaborn) (2.4.7)\n",
      "Requirement already satisfied: cycler>=0.10 in c:\\users\\donizetti\\anaconda3\\lib\\site-packages (from matplotlib>=2.2->seaborn) (0.10.0)\n",
      "Requirement already satisfied: python-dateutil>=2.1 in c:\\users\\donizetti\\anaconda3\\lib\\site-packages (from matplotlib>=2.2->seaborn) (2.8.1)\n",
      "Requirement already satisfied: kiwisolver>=1.0.1 in c:\\users\\donizetti\\anaconda3\\lib\\site-packages (from matplotlib>=2.2->seaborn) (1.3.1)\n",
      "Requirement already satisfied: six in c:\\users\\donizetti\\anaconda3\\lib\\site-packages (from cycler>=0.10->matplotlib>=2.2->seaborn) (1.15.0)\n",
      "Requirement already satisfied: pytz>=2017.3 in c:\\users\\donizetti\\anaconda3\\lib\\site-packages (from pandas>=0.23->seaborn) (2021.1)\n",
      "Looking in indexes: https://test.pypi.org/simple/\n",
      "Requirement already satisfied: FINITO-FEM-TOOLBOX in c:\\users\\donizetti\\anaconda3\\lib\\site-packages (0.0.0)\n"
     ]
    }
   ],
   "source": [
    "# Instalando as bibliotecas e atualizando \n",
    "!pip install pyDOE\n",
    "!pip install -U seaborn\n",
    "# Import MEF 1D Algorithm\n",
    "!pip install -i https://test.pypi.org/simple/ FINITO-FEM-TOOLBOX\n"
   ]
  },
  {
   "cell_type": "code",
   "execution_count": 54,
   "metadata": {},
   "outputs": [],
   "source": [
    "from FINITO_FEM_TOOLBOX import MEF1D\n",
    "from RASD_TOOLBOX import RASD_STOCHASTIC\n",
    "import numpy as np\n",
    "import pandas as pd"
   ]
  },
  {
   "cell_type": "code",
   "execution_count": 68,
   "metadata": {},
   "outputs": [],
   "source": [
    "P2Y = ['NORMAL', 15000, 2500]\n",
    "P3Y = ['NORMAL', 1, 0.1]\n",
    "POP = [10]\n",
    "\n",
    "SETUP = {'N_REP': len(POP),\n",
    "        'POP': POP,\n",
    "        'N_G': 1,\n",
    "        'D': 2,\n",
    "        'VARS': [P2Y, P3Y],\n",
    "        'MODEL': 'MCS'}"
   ]
  },
  {
   "cell_type": "code",
   "execution_count": 69,
   "metadata": {},
   "outputs": [],
   "source": [
    "def OBJ(X):\n",
    "    P2Y = X[0]\n",
    "    P3Y = X[1]\n",
    "    \n",
    "    FRAME_00 = {\n",
    "    \"TYPE_ELEMENT\": 0,\n",
    "    \"TYPE_SOLUTION\": 0,\n",
    "    \"N_NODES\": 7,\n",
    "    \"N_MATERIALS\": 1,\n",
    "    \"N_SECTIONS\": 1,\n",
    "    \"N_ELEMENTS\": 6,\n",
    "    \"N_DOFPRESCRIPTIONS\": 6,\n",
    "    \"N_DOFLOADED\": 3,\n",
    "    \"N_DOFSPRINGS\": 0,\n",
    "    \"COORDINATES\": #X,Y\n",
    "    np.array([\n",
    "    [0.0,0.0],\n",
    "    [0.0,4.0],\n",
    "    [1.0,4.0],\n",
    "    [2.0,4.0],\n",
    "    [3.0,4.0],\n",
    "    [4.0,4.0],\n",
    "    [4.0,0.0]]),\n",
    "    \"ELEMENTS\": #NODE 1,NODE 2,MATERIAL ID,SECTION ID,HINGE ID NODE 1,HINGE ID NODE 2\n",
    "    np.array([\n",
    "    [0,1,0,0,0,0],\n",
    "    [1,2,0,0,0,0],\n",
    "    [2,3,0,0,0,0],\n",
    "    [3,4,0,0,0,0],\n",
    "    [4,5,0,0,0,0],\n",
    "    [5,6,0,0,0,0]]),\n",
    "    \"MATERIALS\": #YOUNG,POISSON,DENSITY,THERMAL COEFFICIENT\n",
    "    np.array([\n",
    "    [200E9,1,1,1E-8]]),\n",
    "    \"SECTIONS\": #AREA,INERTIA 1,INERTIA 2,X GC,Y GC\n",
    "    np.array([\n",
    "    [0.0450,0.000337,0.000337,0.075,0.15]]),\n",
    "    \"PRESCRIBED DISPLACEMENTS\": #NODE,DIRECTION(X=0,Y=1,Z=2),VALUE \n",
    "    np.array([\n",
    "    [0,0,0],\n",
    "    [0,1,0],\n",
    "    [0,2,0],\n",
    "    [6,0,0],\n",
    "    [6,1,0],\n",
    "    [6,2,0]]),\n",
    "    \"ELEMENT LOADS\": None,\n",
    "    \"NODAL LOADS\":  #NODE,DIRECTION(X=0,Y=1,Z=2),VALUE\n",
    "    np.array([\n",
    "    [2,1,-P2Y],\n",
    "    [3,1,-P2Y],\n",
    "    [4,1,-P2Y]]),\n",
    "    \"SPRINGS\": None}\n",
    "\n",
    "    FRAME_00_RESULTS = MEF1D(DICTIONARY = FRAME_00)\n",
    "    FRAME_00_BAR_0 = FRAME_00_RESULTS[0]\n",
    "    AXIAL_FORCE_LIST_BAR_0 = FRAME_00_BAR_0['N']\n",
    "    N = AXIAL_FORCE_LIST_BAR_0[5]\n",
    "    \n",
    "    #print(FRAME_00_RESULTS)\n",
    "    #print(FRAME_00_RESULTS[0])\n",
    "    \n",
    "    S_1 = np.abs(N)\n",
    "    R_1 = 143E3\n",
    "    # STATE LIMIT FUNCTION\n",
    "    G_0 = R_1 - S_1\n",
    "    R = [R_1] \n",
    "    S = [S_1] \n",
    "    G = [G_0]\n",
    "    return R, S, G"
   ]
  },
  {
   "cell_type": "code",
   "execution_count": 70,
   "metadata": {
    "scrolled": true
   },
   "outputs": [],
   "source": [
    "RESULTS_TEST = RASD_STOCHASTIC(SETUP, OBJ)"
   ]
  },
  {
   "cell_type": "code",
   "execution_count": 71,
   "metadata": {},
   "outputs": [
    {
     "data": {
      "text/plain": [
       "[{'TOTAL RESULTS':             X_0       X_1       R_0      S_0       G_0  I_0\n",
       "  0  14932.028682  0.760250  143000.0  22398.0  120602.0  1.0\n",
       "  1  18044.382497  0.794834  143000.0  27066.0  115934.0  1.0\n",
       "  2  18725.403838  1.053912  143000.0  28087.5  114912.5  1.0\n",
       "  3  13585.305634  0.917420  143000.0  20377.5  122622.5  1.0\n",
       "  4  17908.767315  0.880149  143000.0  26862.0  116138.0  1.0\n",
       "  5  17842.769831  0.940967  143000.0  26763.0  116237.0  1.0\n",
       "  6  17599.734815  1.042596  143000.0  26398.5  116601.5  1.0\n",
       "  7  17344.402267  0.929348  143000.0  26016.0  116984.0  1.0\n",
       "  8  14273.555910  0.983895  143000.0  21409.5  121590.5  1.0\n",
       "  9  14824.083736  1.130156  143000.0  22236.0  120764.0  1.0,\n",
       "  'NUMBER OF FAILURES': [10.0],\n",
       "  'PROBABILITY OF FAILURE': [1.0],\n",
       "  'BETA INDEX': [0.0]}]"
      ]
     },
     "execution_count": 71,
     "metadata": {},
     "output_type": "execute_result"
    }
   ],
   "source": [
    "RESULTS_TEST"
   ]
  },
  {
   "cell_type": "code",
   "execution_count": 61,
   "metadata": {},
   "outputs": [
    {
     "ename": "NameError",
     "evalue": "name 'FRAME_00' is not defined",
     "output_type": "error",
     "traceback": [
      "\u001b[1;31m---------------------------------------------------------------------------\u001b[0m",
      "\u001b[1;31mNameError\u001b[0m                                 Traceback (most recent call last)",
      "\u001b[1;32m<ipython-input-61-65604804abdc>\u001b[0m in \u001b[0;36m<module>\u001b[1;34m\u001b[0m\n\u001b[1;32m----> 1\u001b[1;33m \u001b[0mFRAME_00_RESULTS\u001b[0m \u001b[1;33m=\u001b[0m \u001b[0mMEF1D\u001b[0m\u001b[1;33m(\u001b[0m\u001b[0mDICTIONARY\u001b[0m \u001b[1;33m=\u001b[0m \u001b[0mFRAME_00\u001b[0m\u001b[1;33m)\u001b[0m\u001b[1;33m\u001b[0m\u001b[1;33m\u001b[0m\u001b[0m\n\u001b[0m\u001b[0;32m      2\u001b[0m \u001b[0mFRAME_00_RESULTS\u001b[0m\u001b[1;33m\u001b[0m\u001b[1;33m\u001b[0m\u001b[0m\n",
      "\u001b[1;31mNameError\u001b[0m: name 'FRAME_00' is not defined"
     ]
    }
   ],
   "source": [
    "FRAME_00_RESULTS = MEF1D(DICTIONARY = FRAME_00)\n",
    "FRAME_00_RESULTS"
   ]
  },
  {
   "cell_type": "code",
   "execution_count": null,
   "metadata": {},
   "outputs": [],
   "source": []
  },
  {
   "cell_type": "code",
   "execution_count": null,
   "metadata": {},
   "outputs": [],
   "source": []
  },
  {
   "cell_type": "code",
   "execution_count": null,
   "metadata": {},
   "outputs": [],
   "source": [
    "FRAME_00_BAR_2['N'][5]"
   ]
  },
  {
   "cell_type": "code",
   "execution_count": null,
   "metadata": {},
   "outputs": [],
   "source": []
  }
 ],
 "metadata": {
  "kernelspec": {
   "display_name": "Python 3",
   "language": "python",
   "name": "python3"
  },
  "language_info": {
   "codemirror_mode": {
    "name": "ipython",
    "version": 3
   },
   "file_extension": ".py",
   "mimetype": "text/x-python",
   "name": "python",
   "nbconvert_exporter": "python",
   "pygments_lexer": "ipython3",
   "version": "3.8.3"
  }
 },
 "nbformat": 4,
 "nbformat_minor": 4
}
