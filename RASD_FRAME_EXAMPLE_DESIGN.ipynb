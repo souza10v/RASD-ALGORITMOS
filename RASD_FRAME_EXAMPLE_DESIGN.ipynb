{
 "cells": [
  {
   "cell_type": "code",
   "execution_count": null,
   "metadata": {
    "scrolled": true
   },
   "outputs": [],
   "source": [
    "# Instalando as bibliotecas e atualizando \n",
    "!pip install pyDOE\n",
    "!pip install -U seaborn\n",
    "# Import MEF 1D Algorithm\n",
    "!pip install -i https://test.pypi.org/simple/ FINITO-FEM-TOOLBOX\n"
   ]
  },
  {
   "cell_type": "code",
   "execution_count": 3,
   "metadata": {},
   "outputs": [],
   "source": [
    "from FINITO_FEM_TOOLBOX import MEF1D\n",
    "from RASD_TOOLBOX import RASD_STOCHASTIC\n",
    "import numpy as np\n",
    "import pandas as pd"
   ]
  },
  {
   "cell_type": "code",
   "execution_count": 4,
   "metadata": {},
   "outputs": [],
   "source": [
    "P2Y = ['NORMAL', 15000, 2500]\n",
    "P3Y = ['NORMAL', 20000, 4500]\n",
    "POP = [1]\n",
    "\n",
    "SETUP = {'N_REP': len(POP),\n",
    "        'POP': POP,\n",
    "        'N_G': 1,\n",
    "        'D': 2,\n",
    "        'VARS': [P2Y, P3Y],\n",
    "        'MODEL': 'MCS'}"
   ]
  },
  {
   "cell_type": "code",
   "execution_count": 11,
   "metadata": {},
   "outputs": [],
   "source": [
    "def OBJ(X):\n",
    "    P2Y = X[0]\n",
    "    P3Y = X[1]\n",
    "    \n",
    "    FRAME_00 = {\n",
    "    \"TYPE_ELEMENT\": 0,\n",
    "    \"TYPE_SOLUTION\": 0,\n",
    "    \"N_NODES\": 7,\n",
    "    \"N_MATERIALS\": 1,\n",
    "    \"N_SECTIONS\": 1,\n",
    "    \"N_ELEMENTS\": 6,\n",
    "    \"N_DOFPRESCRIPTIONS\": 6,\n",
    "    \"N_DOFLOADED\": 3,\n",
    "    \"N_DOFSPRINGS\": 0,\n",
    "    \"COORDINATES\": #X,Y\n",
    "    np.array([\n",
    "    [0.0,0.0],\n",
    "    [0.0,4.0],\n",
    "    [1.0,4.0],\n",
    "    [2.0,4.0],\n",
    "    [3.0,4.0],\n",
    "    [4.0,4.0],\n",
    "    [4.0,0.0]]),\n",
    "    \"ELEMENTS\": #NODE 1,NODE 2,MATERIAL ID,SECTION ID,HINGE ID NODE 1,HINGE ID NODE 2\n",
    "    np.array([\n",
    "    [0,1,0,0,0,0],\n",
    "    [1,2,0,0,0,0],\n",
    "    [2,3,0,0,0,0],\n",
    "    [3,4,0,0,0,0],\n",
    "    [4,5,0,0,0,0],\n",
    "    [5,6,0,0,0,0]]),\n",
    "    \"MATERIALS\": #YOUNG,POISSON,DENSITY,THERMAL COEFFICIENT\n",
    "    np.array([\n",
    "    [200E9,1,1,1E-8]]),\n",
    "    \"SECTIONS\": #AREA,INERTIA 1,INERTIA 2,X GC,Y GC\n",
    "    np.array([\n",
    "    [0.0450,0.000337,0.000337,0.075,0.15]]),\n",
    "    \"PRESCRIBED DISPLACEMENTS\": #NODE,DIRECTION(X=0,Y=1,Z=2),VALUE \n",
    "    np.array([\n",
    "    [0,0,0],\n",
    "    [0,1,0],\n",
    "    [0,2,0],\n",
    "    [6,0,0],\n",
    "    [6,1,0],\n",
    "    [6,2,0]]),\n",
    "    \"ELEMENT LOADS\": None,\n",
    "    \"NODAL LOADS\":  #NODE,DIRECTION(X=0,Y=1,Z=2),VALUE\n",
    "    np.array([\n",
    "    [2,1,-10000],\n",
    "    [3,1,-10000],\n",
    "    [4,1,-10000]]),\n",
    "    \"SPRINGS\": None}\n",
    "\n",
    "    FRAME_00_RESULTS = MEF1D(DICTIONARY = FRAME_00)\n",
    "    FRAME_00_BAR_0 = FRAME_00_RESULTS[0]\n",
    "    AXIAL_FORCE_LIST_BAR_0 = FRAME_00_BAR_0['N']\n",
    "    N = AXIAL_FORCE_LIST_BAR_0[5]\n",
    "    \n",
    "    #print(FRAME_00_RESULTS)\n",
    "    print(FRAME_00_RESULTS[0])\n",
    "    \n",
    "    S_1 = np.abs(N)\n",
    "    R_1 = 143E3\n",
    "    # STATE LIMIT FUNCTION\n",
    "    G_0 = R_1 - S_1\n",
    "    R = [R_1] \n",
    "    S = [S_1] \n",
    "    G = [G_0]\n",
    "    return R, S, G"
   ]
  },
  {
   "cell_type": "code",
   "execution_count": 12,
   "metadata": {
    "scrolled": true
   },
   "outputs": [
    {
     "name": "stdout",
     "output_type": "stream",
     "text": [
      "{'X': array([0. , 0.4, 0.8, 1.2, 1.6, 2. , 2.4, 2.8, 3.2, 3.6, 4. ]), 'UX': array([ 0.00000000e+00, -1.98900000e+03, -1.98900000e+03, -1.98900000e+03,\n",
      "       -1.98900000e+03, -1.98900000e+03, -1.98900000e+03, -1.98900000e+03,\n",
      "       -1.98900000e+03, -1.98900000e+03,  3.44684958e-06]), 'UY': array([ 0.00000000e+00, -1.98900000e+03, -1.98900000e+03, -1.98900000e+03,\n",
      "       -1.98900000e+03, -1.98900000e+03, -1.98900000e+03, -1.98900000e+03,\n",
      "       -1.98900000e+03, -1.98900000e+03, -1.23528197e-03]), 'UZ': array([ 0.00000000e+00, -1.98900000e+03, -1.98900000e+03, -1.98900000e+03,\n",
      "       -1.98900000e+03, -1.98900000e+03, -1.98900000e+03, -1.98900000e+03,\n",
      "       -1.98900000e+03, -1.98900000e+03,  2.07114565e-04]), 'N': array([-7755.41155384, -7755.41155384, -7755.41155384, -7755.41155384,\n",
      "       -7755.41155384, -7755.41155384, -7755.41155384, -7755.41155384,\n",
      "       -7755.41155384, -7755.41155384, -7755.41155384]), 'V': array([-10376.05528903, -10376.05528903, -10376.05528903, -10376.05528903,\n",
      "       -10376.05528903, -10376.05528903, -10376.05528903, -10376.05528903,\n",
      "       -10376.05528903, -10376.05528903, -10376.05528903]), 'M': array([ 24241.9909964 ,  20091.56888079,  15941.14676518,  11790.72464957,\n",
      "         7640.30253395,   3489.88041834,   -660.54169727,  -4810.96381288,\n",
      "        -8961.3859285 , -13111.80804411, -17262.23015972]), 'ID_ELEMENT': 0}\n"
     ]
    }
   ],
   "source": [
    "RESULTS_TEST = RASD_STOCHASTIC(SETUP, OBJ)"
   ]
  },
  {
   "cell_type": "code",
   "execution_count": 8,
   "metadata": {},
   "outputs": [
    {
     "data": {
      "text/plain": [
       "[{'TOTAL RESULTS':             X_0           X_1       R_0          S_0            G_0  I_0\n",
       "  0  19095.835099  34933.827666  143000.0  7755.411554  135244.588446  1.0,\n",
       "  'NUMBER OF FAILURES': [1.0],\n",
       "  'PROBABILITY OF FAILURE': [1.0]}]"
      ]
     },
     "execution_count": 8,
     "metadata": {},
     "output_type": "execute_result"
    }
   ],
   "source": [
    "RESULTS_TEST"
   ]
  },
  {
   "cell_type": "code",
   "execution_count": null,
   "metadata": {},
   "outputs": [],
   "source": [
    "FRAME_00_RESULTS = MEF1D(DICTIONARY = FRAME_00)\n",
    "FRAME_00_RESULTS"
   ]
  },
  {
   "cell_type": "code",
   "execution_count": null,
   "metadata": {},
   "outputs": [],
   "source": []
  },
  {
   "cell_type": "code",
   "execution_count": null,
   "metadata": {},
   "outputs": [],
   "source": []
  },
  {
   "cell_type": "code",
   "execution_count": null,
   "metadata": {},
   "outputs": [],
   "source": [
    "FRAME_00_BAR_2['N'][5]"
   ]
  },
  {
   "cell_type": "code",
   "execution_count": null,
   "metadata": {},
   "outputs": [],
   "source": []
  }
 ],
 "metadata": {
  "kernelspec": {
   "display_name": "Python 3",
   "language": "python",
   "name": "python3"
  },
  "language_info": {
   "codemirror_mode": {
    "name": "ipython",
    "version": 3
   },
   "file_extension": ".py",
   "mimetype": "text/x-python",
   "name": "python",
   "nbconvert_exporter": "python",
   "pygments_lexer": "ipython3",
   "version": "3.8.8"
  }
 },
 "nbformat": 4,
 "nbformat_minor": 4
}
