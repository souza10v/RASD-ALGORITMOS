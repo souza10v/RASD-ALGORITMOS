{
 "cells": [
  {
   "cell_type": "code",
   "execution_count": 1,
   "metadata": {},
   "outputs": [
    {
     "name": "stdout",
     "output_type": "stream",
     "text": [
      "Requirement already satisfied: pyDOE in c:\\programdata\\anaconda3\\lib\\site-packages (0.3.8)\n",
      "Requirement already satisfied: numpy in c:\\programdata\\anaconda3\\lib\\site-packages (from pyDOE) (1.18.5)\n",
      "Requirement already satisfied: scipy in c:\\programdata\\anaconda3\\lib\\site-packages (from pyDOE) (1.5.0)\n"
     ]
    }
   ],
   "source": [
    "!pip install pyDOE"
   ]
  },
  {
   "cell_type": "code",
   "execution_count": 2,
   "metadata": {},
   "outputs": [],
   "source": [
    "import RASD\n",
    "\n",
    "V_1 = ['NORMAL', 500, 100]\n",
    "V_2 = ['NORMAL', 1000, 1000]\n",
    "\n",
    "SETUP = {'REPETITIONS': 1,\n",
    "        'TOTAL SAMPLING': 10,\n",
    "        'TOTAL G FUNCTIONS': 3,\n",
    "        'TOTAL DESIGN VARIABLES': 2,\n",
    "        'VARS': [V_1, V_2],\n",
    "        'MODEL': 'MCS'}\n",
    "\n",
    "def OBJ(X):\n",
    "    G = []\n",
    "    D0 = 3\n",
    "    Length = 100\n",
    "    E = 30 * 10**6\n",
    "    W = 2\n",
    "    T = 4\n",
    "    Px = X[0]\n",
    "    Py = X[1]\n",
    "    G1 = D0 - (4 * Length ** 3 / (E * W * T)) * (((Py / T ** 2) ** 2  + (Px / W ** 2) ** 2) ** 0.5)\n",
    "    G2 = D0 - (4 * Length ** 3 / (E * W * T)) * (((Py / T ** 2) ** 2  + (Px / W ** 2) ** 2) ** 0.5)\n",
    "    G3 = D0 - (4 * Length ** 3 / (E * W * T)) * (((Py / T ** 2) ** 2  + (Px / W ** 2) ** 2) ** 0.5)\n",
    "    G = [G1, G2, G3]\n",
    "    return G\n",
    "\n"
   ]
  },
  {
   "cell_type": "code",
   "execution_count": 3,
   "metadata": {},
   "outputs": [
    {
     "name": "stdout",
     "output_type": "stream",
     "text": [
      "[[ 5.49282044e+02  2.62367266e+02  6.95064739e-01  6.95064739e-01\n",
      "   6.95064739e-01  0.00000000e+00  0.00000000e+00  0.00000000e+00]\n",
      " [ 3.90214294e+02 -2.01035997e+02  1.36067658e+00  1.36067658e+00\n",
      "   1.36067658e+00  0.00000000e+00  0.00000000e+00  0.00000000e+00]\n",
      " [ 5.16668467e+02  3.52750225e+03 -1.25867337e+00 -1.25867337e+00\n",
      "  -1.25867337e+00  1.00000000e+00  1.00000000e+00  1.00000000e+00]\n",
      " [ 5.13793253e+02  6.72295434e+02  7.47561782e-01  7.47561782e-01\n",
      "   7.47561782e-01  0.00000000e+00  0.00000000e+00  0.00000000e+00]\n",
      " [ 4.13556923e+02 -4.20239233e+02  1.22211262e+00  1.22211262e+00\n",
      "   1.22211262e+00  0.00000000e+00  0.00000000e+00  0.00000000e+00]\n",
      " [ 5.73980845e+02 -1.31331315e+03  2.44785642e-01  2.44785642e-01\n",
      "   2.44785642e-01  0.00000000e+00  0.00000000e+00  0.00000000e+00]\n",
      " [ 4.61255965e+02  3.12848104e+03 -7.83345183e-01 -7.83345183e-01\n",
      "  -7.83345183e-01  1.00000000e+00  1.00000000e+00  1.00000000e+00]\n",
      " [ 6.24808726e+02  1.39043084e+03  2.08564563e-02  2.08564563e-02\n",
      "   2.08564563e-02  0.00000000e+00  0.00000000e+00  0.00000000e+00]\n",
      " [ 4.94212569e+02  1.59280659e+03  3.55526542e-01  3.55526542e-01\n",
      "   3.55526542e-01  0.00000000e+00  0.00000000e+00  0.00000000e+00]\n",
      " [ 4.73254941e+02  1.63526975e+03  3.94244032e-01  3.94244032e-01\n",
      "   3.94244032e-01  0.00000000e+00  0.00000000e+00  0.00000000e+00]]\n"
     ]
    }
   ],
   "source": [
    "results = RASD.MAIN(SETUP, OBJ)\n",
    "print(results)"
   ]
  },
  {
   "cell_type": "code",
   "execution_count": null,
   "metadata": {},
   "outputs": [],
   "source": []
  }
 ],
 "metadata": {
  "kernelspec": {
   "display_name": "Python 3",
   "language": "python",
   "name": "python3"
  },
  "language_info": {
   "codemirror_mode": {
    "name": "ipython",
    "version": 3
   },
   "file_extension": ".py",
   "mimetype": "text/x-python",
   "name": "python",
   "nbconvert_exporter": "python",
   "pygments_lexer": "ipython3",
   "version": "3.8.3"
  }
 },
 "nbformat": 4,
 "nbformat_minor": 2
}
