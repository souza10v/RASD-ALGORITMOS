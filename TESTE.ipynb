{
 "cells": [
  {
   "cell_type": "code",
   "execution_count": 1,
   "metadata": {},
   "outputs": [
    {
     "name": "stdout",
     "output_type": "stream",
     "text": [
      "Requirement already satisfied: pyDOE in c:\\programdata\\anaconda3\\lib\\site-packages (0.3.8)\n",
      "Requirement already satisfied: numpy in c:\\programdata\\anaconda3\\lib\\site-packages (from pyDOE) (1.18.5)\n",
      "Requirement already satisfied: scipy in c:\\programdata\\anaconda3\\lib\\site-packages (from pyDOE) (1.5.0)\n"
     ]
    }
   ],
   "source": [
    "!pip install pyDOE"
   ]
  },
  {
   "cell_type": "code",
   "execution_count": 2,
   "metadata": {},
   "outputs": [],
   "source": [
    "import RASD\n",
    "\n",
    "V_1 = ['NORMAL', 500, 100]\n",
    "V_2 = ['NORMAL', 1000, 100]\n",
    "\n",
    "SETUP = {'REPETITIONS': 1,\n",
    "        'TOTAL SAMPLING': 10,\n",
    "        'TOTAL G FUNCTIONS': 3,\n",
    "        'TOTAL DESIGN VARIABLES': 2,\n",
    "        'VARS': [V_1, V_2],\n",
    "        'MODEL': 'MCS'}\n",
    "\n",
    "def OBJ(X):\n",
    "    G = []\n",
    "    D0 = 3\n",
    "    Length = 100\n",
    "    E = 30 * 10**6\n",
    "    W = 2\n",
    "    T = 4\n",
    "    Px = X[0]\n",
    "    Py = X[1]\n",
    "    G1 = D0 - (4 * Length ** 3 / (E * W * T)) * (((Py / T ** 2) ** 2  + (Px / W ** 2) ** 2) ** 0.5)\n",
    "    G2 = D0 - (4 * Length ** 3 / (E * W * T)) * (((Py / T ** 2) ** 2  + (Px / W ** 2) ** 2) ** 0.5)\n",
    "    G3 = D0 - (4 * Length ** 3 / (E * W * T)) * (((Py / T ** 2) ** 2  + (Px / W ** 2) ** 2) ** 0.5)\n",
    "    G = [G1, G2, G3]\n",
    "    return G\n",
    "\n"
   ]
  },
  {
   "cell_type": "code",
   "execution_count": 3,
   "metadata": {},
   "outputs": [
    {
     "name": "stdout",
     "output_type": "stream",
     "text": [
      "[[ 4.59869034e+02  1.05607330e+03  7.90545865e-01  7.90545865e-01\n",
      "   7.90545865e-01  0.00000000e+00  0.00000000e+00  0.00000000e+00]\n",
      " [ 5.14502672e+02  8.23449760e+02  6.91003614e-01  6.91003614e-01\n",
      "   6.91003614e-01  0.00000000e+00  0.00000000e+00  0.00000000e+00]\n",
      " [ 4.60453987e+02  1.02562540e+03  8.04035859e-01  8.04035859e-01\n",
      "   8.04035859e-01  0.00000000e+00  0.00000000e+00  0.00000000e+00]\n",
      " [ 6.80813229e+02  8.80219844e+02  1.87774018e-02  1.87774018e-02\n",
      "   1.87774018e-02  0.00000000e+00  0.00000000e+00  0.00000000e+00]\n",
      " [ 4.30897881e+02  9.66986147e+02  9.41336178e-01  9.41336178e-01\n",
      "   9.41336178e-01  0.00000000e+00  0.00000000e+00  0.00000000e+00]\n",
      " [ 6.91172359e+02  9.57109519e+02 -4.75767211e-02 -4.75767211e-02\n",
      "  -4.75767211e-02  1.00000000e+00  1.00000000e+00  1.00000000e+00]\n",
      " [ 4.55182262e+02  1.03555560e+03  8.18104984e-01  8.18104984e-01\n",
      "   8.18104984e-01  0.00000000e+00  0.00000000e+00  0.00000000e+00]\n",
      " [ 5.78706231e+02  1.11932116e+03  3.21621124e-01  3.21621124e-01\n",
      "   3.21621124e-01  0.00000000e+00  0.00000000e+00  0.00000000e+00]\n",
      " [ 4.45861578e+02  1.01573155e+03  8.62071769e-01  8.62071769e-01\n",
      "   8.62071769e-01  0.00000000e+00  0.00000000e+00  0.00000000e+00]\n",
      " [ 4.83953404e+02  9.27307788e+02  7.64108156e-01  7.64108156e-01\n",
      "   7.64108156e-01  0.00000000e+00  0.00000000e+00  0.00000000e+00]]\n"
     ]
    }
   ],
   "source": [
    "results = RASD.RASD(SETUP, OBJ)\n",
    "print(results)"
   ]
  },
  {
   "cell_type": "code",
   "execution_count": null,
   "metadata": {},
   "outputs": [],
   "source": []
  }
 ],
 "metadata": {
  "kernelspec": {
   "display_name": "Python 3",
   "language": "python",
   "name": "python3"
  },
  "language_info": {
   "codemirror_mode": {
    "name": "ipython",
    "version": 3
   },
   "file_extension": ".py",
   "mimetype": "text/x-python",
   "name": "python",
   "nbconvert_exporter": "python",
   "pygments_lexer": "ipython3",
   "version": "3.8.3"
  }
 },
 "nbformat": 4,
 "nbformat_minor": 2
}
