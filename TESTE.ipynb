{
 "cells": [
  {
   "cell_type": "code",
   "execution_count": 11,
   "metadata": {},
   "outputs": [
    {
     "name": "stdout",
     "output_type": "stream",
     "text": [
      "Requirement already satisfied: pyDOE in c:\\users\\wanderlei\\anaconda3\\lib\\site-packages (0.3.8)\n",
      "Requirement already satisfied: numpy in c:\\users\\wanderlei\\anaconda3\\lib\\site-packages (from pyDOE) (1.18.1)\n",
      "Requirement already satisfied: scipy in c:\\users\\wanderlei\\anaconda3\\lib\\site-packages (from pyDOE) (1.4.1)\n",
      "Requirement already up-to-date: seaborn in c:\\users\\wanderlei\\anaconda3\\lib\\site-packages (0.11.1)\n",
      "Requirement already satisfied, skipping upgrade: pandas>=0.23 in c:\\users\\wanderlei\\anaconda3\\lib\\site-packages (from seaborn) (1.0.1)\n",
      "Requirement already satisfied, skipping upgrade: numpy>=1.15 in c:\\users\\wanderlei\\anaconda3\\lib\\site-packages (from seaborn) (1.18.1)\n",
      "Requirement already satisfied, skipping upgrade: matplotlib>=2.2 in c:\\users\\wanderlei\\anaconda3\\lib\\site-packages (from seaborn) (3.1.3)\n",
      "Requirement already satisfied, skipping upgrade: scipy>=1.0 in c:\\users\\wanderlei\\anaconda3\\lib\\site-packages (from seaborn) (1.4.1)\n",
      "Requirement already satisfied, skipping upgrade: pytz>=2017.2 in c:\\users\\wanderlei\\anaconda3\\lib\\site-packages (from pandas>=0.23->seaborn) (2019.3)\n",
      "Requirement already satisfied, skipping upgrade: python-dateutil>=2.6.1 in c:\\users\\wanderlei\\anaconda3\\lib\\site-packages (from pandas>=0.23->seaborn) (2.8.1)\n",
      "Requirement already satisfied, skipping upgrade: pyparsing!=2.0.4,!=2.1.2,!=2.1.6,>=2.0.1 in c:\\users\\wanderlei\\anaconda3\\lib\\site-packages (from matplotlib>=2.2->seaborn) (2.4.6)\n",
      "Requirement already satisfied, skipping upgrade: kiwisolver>=1.0.1 in c:\\users\\wanderlei\\anaconda3\\lib\\site-packages (from matplotlib>=2.2->seaborn) (1.1.0)\n",
      "Requirement already satisfied, skipping upgrade: cycler>=0.10 in c:\\users\\wanderlei\\anaconda3\\lib\\site-packages (from matplotlib>=2.2->seaborn) (0.10.0)\n",
      "Requirement already satisfied, skipping upgrade: six>=1.5 in c:\\users\\wanderlei\\anaconda3\\lib\\site-packages (from python-dateutil>=2.6.1->pandas>=0.23->seaborn) (1.14.0)\n",
      "Requirement already satisfied, skipping upgrade: setuptools in c:\\users\\wanderlei\\anaconda3\\lib\\site-packages (from kiwisolver>=1.0.1->matplotlib>=2.2->seaborn) (45.2.0.post20200210)\n",
      "Looking in indexes: https://test.pypi.org/simple/\n",
      "Requirement already satisfied: campo-nome in c:\\users\\wanderlei\\anaconda3\\lib\\site-packages (0.0.15)\n"
     ]
    }
   ],
   "source": [
    "!pip install pyDOE\n",
    "!pip install -U seaborn\n",
    "!pip install -i https://test.pypi.org/simple/ campo-nome"
   ]
  },
  {
   "cell_type": "code",
   "execution_count": 12,
   "metadata": {},
   "outputs": [],
   "source": [
    "import RASD\n",
    "\n",
    "V_1 = ['NORMAL', 500, 100]\n",
    "V_2 = ['NORMAL', 1000, 500]\n",
    "\n",
    "SETUP = {'REPETITIONS': 1,\n",
    "        'TOTAL SAMPLING': 10,\n",
    "        'TOTAL G FUNCTIONS': 1,\n",
    "        'TOTAL DESIGN VARIABLES': 2,\n",
    "        'VARS': [V_1, V_2],\n",
    "        'MODEL': 'MCS'}\n",
    "\n",
    "def OBJ(X):\n",
    "    R = []\n",
    "    S = []\n",
    "    G = []\n",
    "    D0 = 3\n",
    "    Length = 100\n",
    "    E = 30 * 10**6\n",
    "    W = 2\n",
    "    T = 4\n",
    "    Px = X[0]\n",
    "    Py = X[1]\n",
    "    # LIMIT\n",
    "    R_0 = D0 - Py * 0.20\n",
    "    # DEMAND                      \n",
    "    S_0 = (4 * Length ** 3 / (E * W * T)) * (((Py / T ** 2) ** 2  + (Px / W ** 2) ** 2) ** 0.5)\n",
    "    # STATE LIMIT FUNCTION\n",
    "    G_0 = R_0 - S_0\n",
    "    R = [R_0] \n",
    "    S = [S_0] \n",
    "    G = [G_0]\n",
    "    return R, S, G"
   ]
  },
  {
   "cell_type": "code",
   "execution_count": 13,
   "metadata": {},
   "outputs": [
    {
     "data": {
      "text/html": [
       "<div>\n",
       "<style scoped>\n",
       "    .dataframe tbody tr th:only-of-type {\n",
       "        vertical-align: middle;\n",
       "    }\n",
       "\n",
       "    .dataframe tbody tr th {\n",
       "        vertical-align: top;\n",
       "    }\n",
       "\n",
       "    .dataframe thead th {\n",
       "        text-align: right;\n",
       "    }\n",
       "</style>\n",
       "<table border=\"1\" class=\"dataframe\">\n",
       "  <thead>\n",
       "    <tr style=\"text-align: right;\">\n",
       "      <th></th>\n",
       "      <th>X_0</th>\n",
       "      <th>X_1</th>\n",
       "      <th>R_0</th>\n",
       "      <th>S_0</th>\n",
       "      <th>G_0</th>\n",
       "      <th>I</th>\n",
       "    </tr>\n",
       "  </thead>\n",
       "  <tbody>\n",
       "    <tr>\n",
       "      <th>0</th>\n",
       "      <td>438.902615</td>\n",
       "      <td>420.160467</td>\n",
       "      <td>-81.032093</td>\n",
       "      <td>1.880404</td>\n",
       "      <td>-82.912497</td>\n",
       "      <td>1.0</td>\n",
       "    </tr>\n",
       "    <tr>\n",
       "      <th>1</th>\n",
       "      <td>583.461825</td>\n",
       "      <td>1251.383185</td>\n",
       "      <td>-247.276637</td>\n",
       "      <td>2.758510</td>\n",
       "      <td>-250.035147</td>\n",
       "      <td>1.0</td>\n",
       "    </tr>\n",
       "    <tr>\n",
       "      <th>2</th>\n",
       "      <td>458.812351</td>\n",
       "      <td>867.105792</td>\n",
       "      <td>-170.421158</td>\n",
       "      <td>2.114356</td>\n",
       "      <td>-172.535514</td>\n",
       "      <td>1.0</td>\n",
       "    </tr>\n",
       "    <tr>\n",
       "      <th>3</th>\n",
       "      <td>417.036934</td>\n",
       "      <td>581.576304</td>\n",
       "      <td>-113.315261</td>\n",
       "      <td>1.840230</td>\n",
       "      <td>-115.155490</td>\n",
       "      <td>1.0</td>\n",
       "    </tr>\n",
       "    <tr>\n",
       "      <th>4</th>\n",
       "      <td>537.686311</td>\n",
       "      <td>1062.777398</td>\n",
       "      <td>-209.555480</td>\n",
       "      <td>2.498958</td>\n",
       "      <td>-212.054438</td>\n",
       "      <td>1.0</td>\n",
       "    </tr>\n",
       "    <tr>\n",
       "      <th>5</th>\n",
       "      <td>309.937242</td>\n",
       "      <td>1981.126670</td>\n",
       "      <td>-393.225334</td>\n",
       "      <td>2.434435</td>\n",
       "      <td>-395.659770</td>\n",
       "      <td>1.0</td>\n",
       "    </tr>\n",
       "    <tr>\n",
       "      <th>6</th>\n",
       "      <td>339.485287</td>\n",
       "      <td>900.710479</td>\n",
       "      <td>-177.142096</td>\n",
       "      <td>1.697400</td>\n",
       "      <td>-178.839496</td>\n",
       "      <td>1.0</td>\n",
       "    </tr>\n",
       "    <tr>\n",
       "      <th>7</th>\n",
       "      <td>622.172011</td>\n",
       "      <td>1389.921681</td>\n",
       "      <td>-274.984336</td>\n",
       "      <td>2.969289</td>\n",
       "      <td>-277.953625</td>\n",
       "      <td>1.0</td>\n",
       "    </tr>\n",
       "    <tr>\n",
       "      <th>8</th>\n",
       "      <td>346.385483</td>\n",
       "      <td>912.948692</td>\n",
       "      <td>-179.589738</td>\n",
       "      <td>1.728414</td>\n",
       "      <td>-181.318153</td>\n",
       "      <td>1.0</td>\n",
       "    </tr>\n",
       "    <tr>\n",
       "      <th>9</th>\n",
       "      <td>404.235947</td>\n",
       "      <td>1583.850073</td>\n",
       "      <td>-313.770015</td>\n",
       "      <td>2.357733</td>\n",
       "      <td>-316.127748</td>\n",
       "      <td>1.0</td>\n",
       "    </tr>\n",
       "  </tbody>\n",
       "</table>\n",
       "</div>"
      ],
      "text/plain": [
       "          X_0          X_1         R_0       S_0         G_0    I\n",
       "0  438.902615   420.160467  -81.032093  1.880404  -82.912497  1.0\n",
       "1  583.461825  1251.383185 -247.276637  2.758510 -250.035147  1.0\n",
       "2  458.812351   867.105792 -170.421158  2.114356 -172.535514  1.0\n",
       "3  417.036934   581.576304 -113.315261  1.840230 -115.155490  1.0\n",
       "4  537.686311  1062.777398 -209.555480  2.498958 -212.054438  1.0\n",
       "5  309.937242  1981.126670 -393.225334  2.434435 -395.659770  1.0\n",
       "6  339.485287   900.710479 -177.142096  1.697400 -178.839496  1.0\n",
       "7  622.172011  1389.921681 -274.984336  2.969289 -277.953625  1.0\n",
       "8  346.385483   912.948692 -179.589738  1.728414 -181.318153  1.0\n",
       "9  404.235947  1583.850073 -313.770015  2.357733 -316.127748  1.0"
      ]
     },
     "execution_count": 13,
     "metadata": {},
     "output_type": "execute_result"
    }
   ],
   "source": [
    "RESULTS_RASD = RASD.RASD_MAIN_STOCHASTIC(SETUP, OBJ)\n",
    "RESULTS_RASD.head(100)"
   ]
  },
  {
   "cell_type": "code",
   "execution_count": 14,
   "metadata": {},
   "outputs": [],
   "source": [
    "PLOT_SETUP = {'NAME': 'WANDER',\n",
    "                'WIDTH': 0.40, \n",
    "                'HEIGHT': 0.20, \n",
    "                'X AXIS LABEL': '$x_1$ - Dead Load $(kN / m)$',\n",
    "                'X AXIS SIZE': 20,\n",
    "                'Y AXIS SIZE': 20,\n",
    "                'AXISES COLOR': '#000000',\n",
    "                'LABELS SIZE': 16,\n",
    "                'LABELS COLOR': '#000000',  \n",
    "                'CHART COLOR': '#FEB625',\n",
    "                'BINS': 15,\n",
    "                'KDE': False,\n",
    "                'DPI': 600, \n",
    "                'EXTENSION': '.svg'}\n",
    "DATASET = RESULTS_RASD['X_0']"
   ]
  },
  {
   "cell_type": "code",
   "execution_count": 15,
   "metadata": {},
   "outputs": [
    {
     "name": "stderr",
     "output_type": "stream",
     "text": [
      "C:\\Users\\Wanderlei\\anaconda3\\lib\\site-packages\\seaborn\\_decorators.py:43: FutureWarning: Pass the following variable as a keyword arg: x. From version 0.12, the only valid positional argument will be `data`, and passing other arguments without an explicit keyword will result in an error or misinterpretation.\n",
      "  FutureWarning\n"
     ]
    },
    {
     "data": {
      "image/png": "[encoded data removed]",
      "text/plain": [
       "<Figure size 1133.86x566.929 with 2 Axes>"
      ]
     },
     "metadata": {},
     "output_type": "display_data"
    }
   ],
   "source": [
    "RASD.RASD_PLOT_1(DATASET, PLOT_SETUP)"
   ]
  },
  {
   "cell_type": "code",
   "execution_count": 16,
   "metadata": {},
   "outputs": [
    {
     "data": {
      "image/png": "[encoded data removed]",
      "text/plain": [
       "<Figure size 566.929x283.465 with 1 Axes>"
      ]
     },
     "metadata": {},
     "output_type": "display_data"
    }
   ],
   "source": [
    "PLOT_SETUP = {'NAME': 'WANDER',\n",
    "                'EXTENSION': '.svg',\n",
    "                'DPI': 600,\n",
    "                'WIDTH': 0.20, \n",
    "                'HEIGHT': 0.10,              \n",
    "                'X DATA': 'S_0',\n",
    "                'Y DATA': 'R_0',\n",
    "                'X AXIS SIZE': 20,\n",
    "                'Y AXIS SIZE': 20,\n",
    "                'AXISES COLOR': '#000000',\n",
    "                'X AXIS LABEL': '$S_0$',\n",
    "                'Y AXIS LABEL': '$R_0$',\n",
    "                'LABELS SIZE': 16,\n",
    "                'LABELS COLOR': '#000000',\n",
    "                'LOC LEGEND': 'lower left',\n",
    "                'TITLE LEGEND': 'Failure index ($I$):'}\n",
    "DATASET = RESULTS_RASD\n",
    "RASD.RASD_PLOT_2(DATASET, PLOT_SETUP)"
   ]
  },
  {
   "cell_type": "code",
   "execution_count": 23,
   "metadata": {},
   "outputs": [
    {
     "data": {
      "image/png": "[encoded data removed]",
      "text/plain": [
       "<Figure size 566.929x283.465 with 2 Axes>"
      ]
     },
     "metadata": {},
     "output_type": "display_data"
    }
   ],
   "source": [
    "PLOT_SETUP = {'NAME': 'WANDER',\n",
    "                'EXTENSION': '.svg',\n",
    "                'DPI': 600,\n",
    "                'WIDTH': 0.20, \n",
    "                'HEIGHT': 0.10,              \n",
    "                'X DATA': 'S_0',\n",
    "                'Y DATA': 'R_0',\n",
    "                'X AXIS SIZE': 20,\n",
    "                'Y AXIS SIZE': 20,\n",
    "                'AXISES COLOR': '#000000',\n",
    "                'X AXIS LABEL': '$S_0$',\n",
    "                'Y AXIS LABEL': '$R_0$',\n",
    "                'LABELS SIZE': 16,\n",
    "                'LABELS COLOR': '#000000',\n",
    "                'C VALUE': 'G_0',\n",
    "                'TRANSPARENCY': 0.8,\n",
    "                'COLOR MAP': 'viridis'}\n",
    "DATASET = RESULTS_RASD\n",
    "RASD.RASD_PLOT_3(DATASET, PLOT_SETUP)"
   ]
  },
  {
   "cell_type": "code",
   "execution_count": 18,
   "metadata": {},
   "outputs": [],
   "source": [
    "# https://medium.com/analytics-vidhya/love-the-ocean-love-seaborn-2e8737bef728"
   ]
  }
 ],
 "metadata": {
  "kernelspec": {
   "display_name": "Python 3",
   "language": "python",
   "name": "python3"
  },
  "language_info": {
   "codemirror_mode": {
    "name": "ipython",
    "version": 3
   },
   "file_extension": ".py",
   "mimetype": "text/x-python",
   "name": "python",
   "nbconvert_exporter": "python",
   "pygments_lexer": "ipython3",
   "version": "3.7.6"
  }
 },
 "nbformat": 4,
 "nbformat_minor": 2
}
